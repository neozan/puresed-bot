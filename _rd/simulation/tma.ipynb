{
 "cells": [
  {
   "cell_type": "code",
   "execution_count": 1,
   "metadata": {},
   "outputs": [],
   "source": [
    "import numpy as np\n",
    "import pandas as pd\n",
    "import datetime as dt\n",
    "from dateutil import tz\n",
    "import math\n",
    "import json\n",
    "import ccxt"
   ]
  },
  {
   "cell_type": "code",
   "execution_count": 2,
   "metadata": {},
   "outputs": [],
   "source": [
    "def convert_tz(utc):\n",
    "    from_zone = tz.tzutc()\n",
    "    to_zone = tz.tzlocal()\n",
    "    utc = utc.replace(tzinfo=from_zone).astimezone(to_zone)\n",
    "    \n",
    "    return utc"
   ]
  },
  {
   "cell_type": "code",
   "execution_count": 3,
   "metadata": {},
   "outputs": [],
   "source": [
    "def get_date_list(start_date, end_date=None):\n",
    "    '''\n",
    "    Generate list of date to fetch 1 day iteration from fetch_ohlcv.\n",
    "    '''\n",
    "    if end_date == None:\n",
    "        end_date = dt.date.today()\n",
    "    \n",
    "    num_day = (end_date - start_date).days\n",
    "    date_list = [dt.date.today() - dt.timedelta(days = x) for x in range(num_day, 0, -1)]\n",
    "    \n",
    "    return date_list"
   ]
  },
  {
   "cell_type": "code",
   "execution_count": 4,
   "metadata": {},
   "outputs": [],
   "source": [
    "def get_js_date(dt_date):\n",
    "    '''\n",
    "    Transform dt.datetime to JavaScript format.\n",
    "    '''\n",
    "    dt_datetime = dt.datetime(dt_date.year, dt_date.month, dt_date.day)\n",
    "    js_datetime = dt_datetime.timestamp() * 1000\n",
    "    \n",
    "    return js_datetime"
   ]
  },
  {
   "cell_type": "code",
   "execution_count": 5,
   "metadata": {},
   "outputs": [],
   "source": [
    "def get_ohlcv(symbol, date_list, timeframe, limit, exchange):\n",
    "    df = pd.DataFrame(columns = ['time', 'open', 'high', 'low', 'close', 'volume'])\n",
    "\n",
    "    for i in range(len(date_list)):\n",
    "        since = get_js_date(date_list[i])\n",
    "        ohlcv = exchange.fetch_ohlcv(symbol, timeframe, since, limit)\n",
    "        temp_df = pd.DataFrame(ohlcv)\n",
    "        temp_df.columns = ['time', 'open', 'high', 'low', 'close', 'volume']\n",
    "        temp_df['time'] = pd.to_datetime(temp_df['time'], unit='ms')\n",
    "        temp_df['time'] = temp_df['time'].apply(lambda x: convert_tz(x))\n",
    "\n",
    "        df = pd.concat([df, temp_df])\n",
    "\n",
    "    df = df.reset_index(drop=True)\n",
    "\n",
    "    return df"
   ]
  },
  {
   "cell_type": "code",
   "execution_count": 6,
   "metadata": {},
   "outputs": [],
   "source": [
    "def get_timeframe(interval):\n",
    "    timeframe_dict = {1440:'1d', 240:'4h', 60:'1h', 30:'30m', 15:'15m'}\n",
    "    \n",
    "    for i in timeframe_dict.keys():\n",
    "        if interval % i == 0:\n",
    "            min_interval = i\n",
    "            break\n",
    "            \n",
    "    min_timeframe = timeframe_dict[min_interval]\n",
    "    step = int(interval / min_interval)\n",
    "            \n",
    "    return min_timeframe, step"
   ]
  },
  {
   "cell_type": "code",
   "execution_count": 7,
   "metadata": {},
   "outputs": [],
   "source": [
    "def group_timeframe(df, step):\n",
    "    h_dict = {'time':[], 'open':[], 'high':[], 'low':[], 'close':[]}\n",
    "    \n",
    "    mod = len(df) % step\n",
    "    if  mod != 0:\n",
    "        df = df.iloc[:-mod, :]\n",
    "        \n",
    "    for i in [x for x in range(0, len(df), step)]:\n",
    "        temp_df = df.iloc[i:i + step, :]\n",
    "        h_dict['time'].append(temp_df['time'][i])\n",
    "        h_dict['open'].append(temp_df['open'][i])\n",
    "        h_dict['high'].append(max(temp_df['high']))\n",
    "        h_dict['low'].append(min(temp_df['low']))\n",
    "        h_dict['close'].append(temp_df['close'][i + 1])\n",
    "\n",
    "    df = pd.DataFrame(h_dict)\n",
    "    \n",
    "    return df"
   ]
  },
  {
   "cell_type": "code",
   "execution_count": 8,
   "metadata": {},
   "outputs": [],
   "source": [
    "def get_signal(df, signal, window):\n",
    "    func_dict = {'tma': signal_tma}\n",
    "    \n",
    "    df = func_dict[signal](df, window)\n",
    "    \n",
    "    return df"
   ]
  },
  {
   "cell_type": "code",
   "execution_count": 9,
   "metadata": {},
   "outputs": [],
   "source": [
    "def signal_tma(df, window):\n",
    "    sub_interval = (window + 1) / 2\n",
    "    \n",
    "    # trunc ma to get minimum avg steps\n",
    "    df['ma'] = df['close'].rolling(window=math.trunc(sub_interval)).mean()\n",
    "    \n",
    "    # round tma to reach window steps\n",
    "    df['signal'] = df['ma'].rolling(window=int(np.round(sub_interval))).mean()\n",
    "    \n",
    "    df = df.drop(columns=['ma'])\n",
    "    df = df.dropna().reset_index(drop=True)\n",
    "    \n",
    "    return df"
   ]
  },
  {
   "cell_type": "code",
   "execution_count": 10,
   "metadata": {},
   "outputs": [],
   "source": [
    "def round_down_amount(amount, decimal):\n",
    "    floor_amount = np.floor((amount * (10 ** decimal))) / (10 ** decimal)\n",
    "    \n",
    "    return floor_amount"
   ]
  },
  {
   "cell_type": "markdown",
   "metadata": {},
   "source": [
    "### Config "
   ]
  },
  {
   "cell_type": "code",
   "execution_count": 11,
   "metadata": {},
   "outputs": [],
   "source": [
    "with open('../../../_keys/ftx/ftx_test_keys.json') as keys_file:\n",
    "    keys_dict = json.load(keys_file)"
   ]
  },
  {
   "cell_type": "code",
   "execution_count": 12,
   "metadata": {},
   "outputs": [],
   "source": [
    "exchange = ccxt.ftx({'apiKey': keys_dict['apiKey'],\n",
    "                     'secret': keys_dict['secret'],\n",
    "                     'enableRateLimit': True})"
   ]
  },
  {
   "cell_type": "code",
   "execution_count": 13,
   "metadata": {},
   "outputs": [],
   "source": [
    "base_currency = 'ETH'\n",
    "quote_currency = 'USD'\n",
    "decimal = 3"
   ]
  },
  {
   "cell_type": "code",
   "execution_count": 14,
   "metadata": {},
   "outputs": [],
   "source": [
    "file_path = 'data'"
   ]
  },
  {
   "cell_type": "code",
   "execution_count": 15,
   "metadata": {},
   "outputs": [],
   "source": [
    "signal = 'tma'\n",
    "interval = 120\n",
    "window = 50"
   ]
  },
  {
   "cell_type": "code",
   "execution_count": 16,
   "metadata": {},
   "outputs": [],
   "source": [
    "start_date = dt.date(2019, 9, 16) # first available data\n",
    "end_date = dt.date(2021, 7, 26)"
   ]
  },
  {
   "cell_type": "markdown",
   "metadata": {},
   "source": [
    "### Get timeframe "
   ]
  },
  {
   "cell_type": "code",
   "execution_count": 17,
   "metadata": {},
   "outputs": [],
   "source": [
    "min_timeframe, step = get_timeframe(interval)"
   ]
  },
  {
   "cell_type": "code",
   "execution_count": 18,
   "metadata": {},
   "outputs": [],
   "source": [
    "limit = int(1440 / (interval / step))"
   ]
  },
  {
   "cell_type": "markdown",
   "metadata": {},
   "source": [
    "### Get data"
   ]
  },
  {
   "cell_type": "code",
   "execution_count": 19,
   "metadata": {},
   "outputs": [],
   "source": [
    "symbol = '{}/{}'.format(base_currency, quote_currency)"
   ]
  },
  {
   "cell_type": "code",
   "execution_count": 20,
   "metadata": {},
   "outputs": [],
   "source": [
    "date_list = get_date_list(start_date, end_date)"
   ]
  },
  {
   "cell_type": "code",
   "execution_count": 21,
   "metadata": {},
   "outputs": [],
   "source": [
    "raw_df = get_ohlcv(symbol, date_list, min_timeframe, limit)"
   ]
  },
  {
   "cell_type": "code",
   "execution_count": 22,
   "metadata": {},
   "outputs": [
    {
     "data": {
      "text/html": [
       "<div>\n",
       "<style scoped>\n",
       "    .dataframe tbody tr th:only-of-type {\n",
       "        vertical-align: middle;\n",
       "    }\n",
       "\n",
       "    .dataframe tbody tr th {\n",
       "        vertical-align: top;\n",
       "    }\n",
       "\n",
       "    .dataframe thead th {\n",
       "        text-align: right;\n",
       "    }\n",
       "</style>\n",
       "<table border=\"1\" class=\"dataframe\">\n",
       "  <thead>\n",
       "    <tr style=\"text-align: right;\">\n",
       "      <th></th>\n",
       "      <th>time</th>\n",
       "      <th>open</th>\n",
       "      <th>high</th>\n",
       "      <th>low</th>\n",
       "      <th>close</th>\n",
       "      <th>volume</th>\n",
       "    </tr>\n",
       "  </thead>\n",
       "  <tbody>\n",
       "    <tr>\n",
       "      <th>0</th>\n",
       "      <td>2019-09-25 00:00:00+07:00</td>\n",
       "      <td>189.24</td>\n",
       "      <td>189.67</td>\n",
       "      <td>187.94</td>\n",
       "      <td>188.99</td>\n",
       "      <td>9.918450e+04</td>\n",
       "    </tr>\n",
       "    <tr>\n",
       "      <th>1</th>\n",
       "      <td>2019-09-25 01:00:00+07:00</td>\n",
       "      <td>189.03</td>\n",
       "      <td>189.55</td>\n",
       "      <td>164.28</td>\n",
       "      <td>164.43</td>\n",
       "      <td>1.380150e+03</td>\n",
       "    </tr>\n",
       "    <tr>\n",
       "      <th>2</th>\n",
       "      <td>2019-09-25 02:00:00+07:00</td>\n",
       "      <td>163.67</td>\n",
       "      <td>173.86</td>\n",
       "      <td>154.49</td>\n",
       "      <td>169.29</td>\n",
       "      <td>7.696610e+05</td>\n",
       "    </tr>\n",
       "    <tr>\n",
       "      <th>3</th>\n",
       "      <td>2019-09-25 03:00:00+07:00</td>\n",
       "      <td>169.36</td>\n",
       "      <td>172.08</td>\n",
       "      <td>163.08</td>\n",
       "      <td>165.68</td>\n",
       "      <td>6.666155e+05</td>\n",
       "    </tr>\n",
       "    <tr>\n",
       "      <th>4</th>\n",
       "      <td>2019-09-25 04:00:00+07:00</td>\n",
       "      <td>165.64</td>\n",
       "      <td>170.34</td>\n",
       "      <td>162.99</td>\n",
       "      <td>167.98</td>\n",
       "      <td>1.498144e+04</td>\n",
       "    </tr>\n",
       "    <tr>\n",
       "      <th>...</th>\n",
       "      <td>...</td>\n",
       "      <td>...</td>\n",
       "      <td>...</td>\n",
       "      <td>...</td>\n",
       "      <td>...</td>\n",
       "      <td>...</td>\n",
       "    </tr>\n",
       "    <tr>\n",
       "      <th>16291</th>\n",
       "      <td>2021-08-03 19:00:00+07:00</td>\n",
       "      <td>2488.70</td>\n",
       "      <td>2518.00</td>\n",
       "      <td>2455.70</td>\n",
       "      <td>2501.70</td>\n",
       "      <td>2.758799e+07</td>\n",
       "    </tr>\n",
       "    <tr>\n",
       "      <th>16292</th>\n",
       "      <td>2021-08-03 20:00:00+07:00</td>\n",
       "      <td>2501.70</td>\n",
       "      <td>2522.60</td>\n",
       "      <td>2500.00</td>\n",
       "      <td>2513.30</td>\n",
       "      <td>9.109476e+06</td>\n",
       "    </tr>\n",
       "    <tr>\n",
       "      <th>16293</th>\n",
       "      <td>2021-08-03 21:00:00+07:00</td>\n",
       "      <td>2513.30</td>\n",
       "      <td>2539.70</td>\n",
       "      <td>2506.60</td>\n",
       "      <td>2513.10</td>\n",
       "      <td>1.744603e+07</td>\n",
       "    </tr>\n",
       "    <tr>\n",
       "      <th>16294</th>\n",
       "      <td>2021-08-03 22:00:00+07:00</td>\n",
       "      <td>2513.10</td>\n",
       "      <td>2517.60</td>\n",
       "      <td>2474.80</td>\n",
       "      <td>2496.20</td>\n",
       "      <td>2.532835e+07</td>\n",
       "    </tr>\n",
       "    <tr>\n",
       "      <th>16295</th>\n",
       "      <td>2021-08-03 23:00:00+07:00</td>\n",
       "      <td>2496.20</td>\n",
       "      <td>2502.20</td>\n",
       "      <td>2480.60</td>\n",
       "      <td>2498.60</td>\n",
       "      <td>1.243409e+07</td>\n",
       "    </tr>\n",
       "  </tbody>\n",
       "</table>\n",
       "<p>16296 rows × 6 columns</p>\n",
       "</div>"
      ],
      "text/plain": [
       "                           time     open     high      low    close  \\\n",
       "0     2019-09-25 00:00:00+07:00   189.24   189.67   187.94   188.99   \n",
       "1     2019-09-25 01:00:00+07:00   189.03   189.55   164.28   164.43   \n",
       "2     2019-09-25 02:00:00+07:00   163.67   173.86   154.49   169.29   \n",
       "3     2019-09-25 03:00:00+07:00   169.36   172.08   163.08   165.68   \n",
       "4     2019-09-25 04:00:00+07:00   165.64   170.34   162.99   167.98   \n",
       "...                         ...      ...      ...      ...      ...   \n",
       "16291 2021-08-03 19:00:00+07:00  2488.70  2518.00  2455.70  2501.70   \n",
       "16292 2021-08-03 20:00:00+07:00  2501.70  2522.60  2500.00  2513.30   \n",
       "16293 2021-08-03 21:00:00+07:00  2513.30  2539.70  2506.60  2513.10   \n",
       "16294 2021-08-03 22:00:00+07:00  2513.10  2517.60  2474.80  2496.20   \n",
       "16295 2021-08-03 23:00:00+07:00  2496.20  2502.20  2480.60  2498.60   \n",
       "\n",
       "             volume  \n",
       "0      9.918450e+04  \n",
       "1      1.380150e+03  \n",
       "2      7.696610e+05  \n",
       "3      6.666155e+05  \n",
       "4      1.498144e+04  \n",
       "...             ...  \n",
       "16291  2.758799e+07  \n",
       "16292  9.109476e+06  \n",
       "16293  1.744603e+07  \n",
       "16294  2.532835e+07  \n",
       "16295  1.243409e+07  \n",
       "\n",
       "[16296 rows x 6 columns]"
      ]
     },
     "execution_count": 22,
     "metadata": {},
     "output_type": "execute_result"
    }
   ],
   "source": [
    "raw_df"
   ]
  },
  {
   "cell_type": "markdown",
   "metadata": {},
   "source": [
    "### Group timeframe"
   ]
  },
  {
   "cell_type": "code",
   "execution_count": 23,
   "metadata": {},
   "outputs": [],
   "source": [
    "df = group_timeframe(raw_df, step)"
   ]
  },
  {
   "cell_type": "code",
   "execution_count": 24,
   "metadata": {},
   "outputs": [
    {
     "data": {
      "text/html": [
       "<div>\n",
       "<style scoped>\n",
       "    .dataframe tbody tr th:only-of-type {\n",
       "        vertical-align: middle;\n",
       "    }\n",
       "\n",
       "    .dataframe tbody tr th {\n",
       "        vertical-align: top;\n",
       "    }\n",
       "\n",
       "    .dataframe thead th {\n",
       "        text-align: right;\n",
       "    }\n",
       "</style>\n",
       "<table border=\"1\" class=\"dataframe\">\n",
       "  <thead>\n",
       "    <tr style=\"text-align: right;\">\n",
       "      <th></th>\n",
       "      <th>time</th>\n",
       "      <th>open</th>\n",
       "      <th>high</th>\n",
       "      <th>low</th>\n",
       "      <th>close</th>\n",
       "    </tr>\n",
       "  </thead>\n",
       "  <tbody>\n",
       "    <tr>\n",
       "      <th>0</th>\n",
       "      <td>2019-09-25 00:00:00+07:00</td>\n",
       "      <td>189.24</td>\n",
       "      <td>189.67</td>\n",
       "      <td>164.28</td>\n",
       "      <td>164.43</td>\n",
       "    </tr>\n",
       "    <tr>\n",
       "      <th>1</th>\n",
       "      <td>2019-09-25 02:00:00+07:00</td>\n",
       "      <td>163.67</td>\n",
       "      <td>173.86</td>\n",
       "      <td>154.49</td>\n",
       "      <td>165.68</td>\n",
       "    </tr>\n",
       "    <tr>\n",
       "      <th>2</th>\n",
       "      <td>2019-09-25 04:00:00+07:00</td>\n",
       "      <td>165.64</td>\n",
       "      <td>170.89</td>\n",
       "      <td>162.99</td>\n",
       "      <td>168.85</td>\n",
       "    </tr>\n",
       "    <tr>\n",
       "      <th>3</th>\n",
       "      <td>2019-09-25 06:00:00+07:00</td>\n",
       "      <td>168.87</td>\n",
       "      <td>172.05</td>\n",
       "      <td>165.37</td>\n",
       "      <td>169.19</td>\n",
       "    </tr>\n",
       "    <tr>\n",
       "      <th>4</th>\n",
       "      <td>2019-09-25 08:00:00+07:00</td>\n",
       "      <td>169.09</td>\n",
       "      <td>174.97</td>\n",
       "      <td>169.09</td>\n",
       "      <td>171.06</td>\n",
       "    </tr>\n",
       "    <tr>\n",
       "      <th>...</th>\n",
       "      <td>...</td>\n",
       "      <td>...</td>\n",
       "      <td>...</td>\n",
       "      <td>...</td>\n",
       "      <td>...</td>\n",
       "    </tr>\n",
       "    <tr>\n",
       "      <th>8143</th>\n",
       "      <td>2021-08-03 14:00:00+07:00</td>\n",
       "      <td>2461.60</td>\n",
       "      <td>2499.70</td>\n",
       "      <td>2444.00</td>\n",
       "      <td>2483.80</td>\n",
       "    </tr>\n",
       "    <tr>\n",
       "      <th>8144</th>\n",
       "      <td>2021-08-03 16:00:00+07:00</td>\n",
       "      <td>2483.80</td>\n",
       "      <td>2524.20</td>\n",
       "      <td>2469.70</td>\n",
       "      <td>2512.10</td>\n",
       "    </tr>\n",
       "    <tr>\n",
       "      <th>8145</th>\n",
       "      <td>2021-08-03 18:00:00+07:00</td>\n",
       "      <td>2512.10</td>\n",
       "      <td>2518.00</td>\n",
       "      <td>2455.70</td>\n",
       "      <td>2501.70</td>\n",
       "    </tr>\n",
       "    <tr>\n",
       "      <th>8146</th>\n",
       "      <td>2021-08-03 20:00:00+07:00</td>\n",
       "      <td>2501.70</td>\n",
       "      <td>2539.70</td>\n",
       "      <td>2500.00</td>\n",
       "      <td>2513.10</td>\n",
       "    </tr>\n",
       "    <tr>\n",
       "      <th>8147</th>\n",
       "      <td>2021-08-03 22:00:00+07:00</td>\n",
       "      <td>2513.10</td>\n",
       "      <td>2517.60</td>\n",
       "      <td>2474.80</td>\n",
       "      <td>2498.60</td>\n",
       "    </tr>\n",
       "  </tbody>\n",
       "</table>\n",
       "<p>8148 rows × 5 columns</p>\n",
       "</div>"
      ],
      "text/plain": [
       "                          time     open     high      low    close\n",
       "0    2019-09-25 00:00:00+07:00   189.24   189.67   164.28   164.43\n",
       "1    2019-09-25 02:00:00+07:00   163.67   173.86   154.49   165.68\n",
       "2    2019-09-25 04:00:00+07:00   165.64   170.89   162.99   168.85\n",
       "3    2019-09-25 06:00:00+07:00   168.87   172.05   165.37   169.19\n",
       "4    2019-09-25 08:00:00+07:00   169.09   174.97   169.09   171.06\n",
       "...                        ...      ...      ...      ...      ...\n",
       "8143 2021-08-03 14:00:00+07:00  2461.60  2499.70  2444.00  2483.80\n",
       "8144 2021-08-03 16:00:00+07:00  2483.80  2524.20  2469.70  2512.10\n",
       "8145 2021-08-03 18:00:00+07:00  2512.10  2518.00  2455.70  2501.70\n",
       "8146 2021-08-03 20:00:00+07:00  2501.70  2539.70  2500.00  2513.10\n",
       "8147 2021-08-03 22:00:00+07:00  2513.10  2517.60  2474.80  2498.60\n",
       "\n",
       "[8148 rows x 5 columns]"
      ]
     },
     "execution_count": 24,
     "metadata": {},
     "output_type": "execute_result"
    }
   ],
   "source": [
    "df"
   ]
  },
  {
   "cell_type": "markdown",
   "metadata": {},
   "source": [
    "### Get signal"
   ]
  },
  {
   "cell_type": "code",
   "execution_count": 25,
   "metadata": {},
   "outputs": [],
   "source": [
    "df = get_signal(df, signal, window)"
   ]
  },
  {
   "cell_type": "code",
   "execution_count": 26,
   "metadata": {},
   "outputs": [
    {
     "data": {
      "text/html": [
       "<div>\n",
       "<style scoped>\n",
       "    .dataframe tbody tr th:only-of-type {\n",
       "        vertical-align: middle;\n",
       "    }\n",
       "\n",
       "    .dataframe tbody tr th {\n",
       "        vertical-align: top;\n",
       "    }\n",
       "\n",
       "    .dataframe thead th {\n",
       "        text-align: right;\n",
       "    }\n",
       "</style>\n",
       "<table border=\"1\" class=\"dataframe\">\n",
       "  <thead>\n",
       "    <tr style=\"text-align: right;\">\n",
       "      <th></th>\n",
       "      <th>time</th>\n",
       "      <th>open</th>\n",
       "      <th>high</th>\n",
       "      <th>low</th>\n",
       "      <th>close</th>\n",
       "      <th>signal</th>\n",
       "    </tr>\n",
       "  </thead>\n",
       "  <tbody>\n",
       "    <tr>\n",
       "      <th>0</th>\n",
       "      <td>2019-09-29 02:00:00+07:00</td>\n",
       "      <td>173.74</td>\n",
       "      <td>174.56</td>\n",
       "      <td>172.90</td>\n",
       "      <td>174.23</td>\n",
       "      <td>167.553631</td>\n",
       "    </tr>\n",
       "    <tr>\n",
       "      <th>1</th>\n",
       "      <td>2019-09-29 04:00:00+07:00</td>\n",
       "      <td>174.19</td>\n",
       "      <td>175.40</td>\n",
       "      <td>170.60</td>\n",
       "      <td>173.23</td>\n",
       "      <td>167.648892</td>\n",
       "    </tr>\n",
       "    <tr>\n",
       "      <th>2</th>\n",
       "      <td>2019-09-29 06:00:00+07:00</td>\n",
       "      <td>173.26</td>\n",
       "      <td>174.81</td>\n",
       "      <td>172.71</td>\n",
       "      <td>173.56</td>\n",
       "      <td>167.755585</td>\n",
       "    </tr>\n",
       "    <tr>\n",
       "      <th>3</th>\n",
       "      <td>2019-09-29 08:00:00+07:00</td>\n",
       "      <td>173.56</td>\n",
       "      <td>174.01</td>\n",
       "      <td>171.47</td>\n",
       "      <td>171.47</td>\n",
       "      <td>167.871892</td>\n",
       "    </tr>\n",
       "    <tr>\n",
       "      <th>4</th>\n",
       "      <td>2019-09-29 10:00:00+07:00</td>\n",
       "      <td>171.70</td>\n",
       "      <td>172.24</td>\n",
       "      <td>170.74</td>\n",
       "      <td>171.30</td>\n",
       "      <td>168.004923</td>\n",
       "    </tr>\n",
       "    <tr>\n",
       "      <th>...</th>\n",
       "      <td>...</td>\n",
       "      <td>...</td>\n",
       "      <td>...</td>\n",
       "      <td>...</td>\n",
       "      <td>...</td>\n",
       "      <td>...</td>\n",
       "    </tr>\n",
       "    <tr>\n",
       "      <th>8094</th>\n",
       "      <td>2021-08-03 14:00:00+07:00</td>\n",
       "      <td>2461.60</td>\n",
       "      <td>2499.70</td>\n",
       "      <td>2444.00</td>\n",
       "      <td>2483.80</td>\n",
       "      <td>2542.250615</td>\n",
       "    </tr>\n",
       "    <tr>\n",
       "      <th>8095</th>\n",
       "      <td>2021-08-03 16:00:00+07:00</td>\n",
       "      <td>2483.80</td>\n",
       "      <td>2524.20</td>\n",
       "      <td>2469.70</td>\n",
       "      <td>2512.10</td>\n",
       "      <td>2547.088923</td>\n",
       "    </tr>\n",
       "    <tr>\n",
       "      <th>8096</th>\n",
       "      <td>2021-08-03 18:00:00+07:00</td>\n",
       "      <td>2512.10</td>\n",
       "      <td>2518.00</td>\n",
       "      <td>2455.70</td>\n",
       "      <td>2501.70</td>\n",
       "      <td>2551.521538</td>\n",
       "    </tr>\n",
       "    <tr>\n",
       "      <th>8097</th>\n",
       "      <td>2021-08-03 20:00:00+07:00</td>\n",
       "      <td>2501.70</td>\n",
       "      <td>2539.70</td>\n",
       "      <td>2500.00</td>\n",
       "      <td>2513.10</td>\n",
       "      <td>2555.475231</td>\n",
       "    </tr>\n",
       "    <tr>\n",
       "      <th>8098</th>\n",
       "      <td>2021-08-03 22:00:00+07:00</td>\n",
       "      <td>2513.10</td>\n",
       "      <td>2517.60</td>\n",
       "      <td>2474.80</td>\n",
       "      <td>2498.60</td>\n",
       "      <td>2558.940923</td>\n",
       "    </tr>\n",
       "  </tbody>\n",
       "</table>\n",
       "<p>8099 rows × 6 columns</p>\n",
       "</div>"
      ],
      "text/plain": [
       "                          time     open     high      low    close  \\\n",
       "0    2019-09-29 02:00:00+07:00   173.74   174.56   172.90   174.23   \n",
       "1    2019-09-29 04:00:00+07:00   174.19   175.40   170.60   173.23   \n",
       "2    2019-09-29 06:00:00+07:00   173.26   174.81   172.71   173.56   \n",
       "3    2019-09-29 08:00:00+07:00   173.56   174.01   171.47   171.47   \n",
       "4    2019-09-29 10:00:00+07:00   171.70   172.24   170.74   171.30   \n",
       "...                        ...      ...      ...      ...      ...   \n",
       "8094 2021-08-03 14:00:00+07:00  2461.60  2499.70  2444.00  2483.80   \n",
       "8095 2021-08-03 16:00:00+07:00  2483.80  2524.20  2469.70  2512.10   \n",
       "8096 2021-08-03 18:00:00+07:00  2512.10  2518.00  2455.70  2501.70   \n",
       "8097 2021-08-03 20:00:00+07:00  2501.70  2539.70  2500.00  2513.10   \n",
       "8098 2021-08-03 22:00:00+07:00  2513.10  2517.60  2474.80  2498.60   \n",
       "\n",
       "           signal  \n",
       "0      167.553631  \n",
       "1      167.648892  \n",
       "2      167.755585  \n",
       "3      167.871892  \n",
       "4      168.004923  \n",
       "...           ...  \n",
       "8094  2542.250615  \n",
       "8095  2547.088923  \n",
       "8096  2551.521538  \n",
       "8097  2555.475231  \n",
       "8098  2558.940923  \n",
       "\n",
       "[8099 rows x 6 columns]"
      ]
     },
     "execution_count": 26,
     "metadata": {},
     "output_type": "execute_result"
    }
   ],
   "source": [
    "df"
   ]
  },
  {
   "cell_type": "markdown",
   "metadata": {},
   "source": [
    "### Run simulation "
   ]
  },
  {
   "cell_type": "code",
   "execution_count": 27,
   "metadata": {},
   "outputs": [],
   "source": [
    "simu_df = df.copy()"
   ]
  },
  {
   "cell_type": "code",
   "execution_count": 28,
   "metadata": {},
   "outputs": [],
   "source": [
    "budget = 100\n",
    "last_action_price = 0\n",
    "last_action_amount = 0"
   ]
  },
  {
   "cell_type": "code",
   "execution_count": 29,
   "metadata": {},
   "outputs": [],
   "source": [
    "signal_dict = {'action':[], 'action_price':[], 'budget':[], 'profit':[], 'drawdown':[]}\n",
    "\n",
    "for i in range(len(simu_df)):\n",
    "    if df['close'][i] > df['signal'][i]:\n",
    "        action = 'buy'\n",
    "    elif df['close'][i] < df['signal'][i]:\n",
    "        action = 'sell'\n",
    "    else:\n",
    "        action = signal_dict['action'][-1]\n",
    "    \n",
    "    if i > 0:\n",
    "        if action != signal_dict['action'][-1]:\n",
    "            if last_action_price > 0:\n",
    "                if action == 'buy':\n",
    "                    profit = (last_action_price - df['close'][i]) * last_action_amount\n",
    "                elif action == 'sell':\n",
    "                    profit = (df['close'][i] - last_action_price) * last_action_amount\n",
    "\n",
    "            last_action_price = df['close'][i]\n",
    "            last_action_amount = round_down_amount(budget / last_action_price, decimal)\n",
    "            \n",
    "            budget += profit\n",
    "        else:\n",
    "            profit = 0\n",
    "    else:\n",
    "        profit = 0\n",
    "        \n",
    "    \n",
    "    if last_action_price > 0:\n",
    "        if action == 'buy':\n",
    "            drawdown = (df['low'][i] - last_action_price) / last_action_price\n",
    "        elif action == 'sell':\n",
    "            drawdown = (last_action_price - df['high'][i]) / last_action_price\n",
    "    else:\n",
    "        drawdown = 0\n",
    "        max_drawdown = 0\n",
    "        \n",
    "    signal_dict['action'].append(action)\n",
    "    signal_dict['action_price'].append(last_action_price)\n",
    "    signal_dict['budget'].append(budget)\n",
    "    signal_dict['profit'].append(profit)\n",
    "    signal_dict['drawdown'].append(drawdown)"
   ]
  },
  {
   "cell_type": "code",
   "execution_count": 30,
   "metadata": {},
   "outputs": [
    {
     "data": {
      "text/plain": [
       "4696.664240000002"
      ]
     },
     "execution_count": 30,
     "metadata": {},
     "output_type": "execute_result"
    }
   ],
   "source": [
    "budget"
   ]
  },
  {
   "cell_type": "code",
   "execution_count": 31,
   "metadata": {},
   "outputs": [],
   "source": [
    "for s in signal_dict.keys():\n",
    "    simu_df[s] = signal_dict[s]"
   ]
  },
  {
   "cell_type": "code",
   "execution_count": 32,
   "metadata": {},
   "outputs": [],
   "source": [
    "simu_df.to_csv('simulation.csv', index=False)"
   ]
  },
  {
   "cell_type": "markdown",
   "metadata": {},
   "source": [
    "### Viz "
   ]
  },
  {
   "cell_type": "code",
   "execution_count": 33,
   "metadata": {},
   "outputs": [],
   "source": [
    "import matplotlib.pyplot as plt"
   ]
  },
  {
   "cell_type": "code",
   "execution_count": 34,
   "metadata": {},
   "outputs": [
    {
     "data": {
      "text/plain": [
       "[<matplotlib.lines.Line2D at 0x19ad88c4490>]"
      ]
     },
     "execution_count": 34,
     "metadata": {},
     "output_type": "execute_result"
    },
    {
     "data": {
      "image/png": "[encoded data removed]",
      "text/plain": [
       "<Figure size 2160x576 with 1 Axes>"
      ]
     },
     "metadata": {
      "needs_background": "light"
     },
     "output_type": "display_data"
    }
   ],
   "source": [
    "fig, ax = plt.subplots(figsize=(30, 8))\n",
    "ax.plot(simu_df['budget'])"
   ]
  },
  {
   "cell_type": "code",
   "execution_count": 35,
   "metadata": {},
   "outputs": [
    {
     "data": {
      "text/plain": [
       "(array([  1.,   0.,   0.,   0.,   0.,   0.,   0.,   0.,   0.,   0.,   0.,\n",
       "          0.,   1.,   1.,   0.,   0.,   0.,   1.,   0.,   0.,   0.,   0.,\n",
       "          1.,   0.,   1.,   0.,   0.,   0.,   0.,   0.,   0.,   1.,   0.,\n",
       "          0.,   1.,   1.,   0.,   0.,   0.,   0.,   1.,   2.,   1.,   2.,\n",
       "          0.,   0.,   1.,   0.,   1.,   1.,   1.,   1.,   1.,   1.,   1.,\n",
       "          2.,   2.,   2.,   1.,   1.,   1.,   0.,   3.,   1.,   4.,   3.,\n",
       "          3.,   2.,   2.,   1.,   3.,   4.,   3.,   4.,   5.,   4.,   5.,\n",
       "         11.,   5.,   3.,   8.,   7.,   6.,   3.,  12.,  15.,  14.,   8.,\n",
       "         24.,  19.,  19.,  17.,  28.,  23.,  25.,  33.,  31.,  35.,  52.,\n",
       "         39.,  54.,  69.,  71.,  77.,  76.,  92.,  98., 101., 108., 116.,\n",
       "        103., 159., 115., 108., 131.,  92.,  90.,  84.,  87.,  83.,  73.,\n",
       "         66.,  73.,  65.,  69.,  71.,  74.,  83.,  72.,  53.,  71.,  62.,\n",
       "         73.,  48.,  52.,  59.,  53.,  59.,  55.,  50.,  51.,  43.,  60.,\n",
       "         48.,  54.,  41.,  44.,  52.,  49.,  41.,  42.,  44.,  51.,  41.,\n",
       "         51.,  34.,  51.,  40.,  33.,  36.,  39.,  27.,  36.,  38.,  28.,\n",
       "         35.,  29.,  36.,  43.,  34.,  30.,  25.,  20.,  28.,  29.,  20.,\n",
       "         30.,  22.,  23.,  29.,  20.,  28.,  34.,  32.,  28.,  24.,  17.,\n",
       "         33.,  20.,  27.,  40.,  24.,  23.,  28.,  14.,  26.,  11.,  13.,\n",
       "         20.,  21.,  15.,  28.,  14.,  25.,  28.,  20.,  21.,  22.,  25.,\n",
       "         23.,  19.,  16.,  12.,  20.,  13.,  19.,  16.,  19.,  21.,  16.,\n",
       "         10.,  21.,  11.,  18.,  19.,  18.,  12.,  17.,  18.,  15.,  19.,\n",
       "         10.,  15.,  13.,  15.,  22.,  10.,  10.,  16.,  17.,  19.,   9.,\n",
       "         21.,  16.,  17.,  17.,  24.,  23.,  19.,   9.,  16.,  13.,   9.,\n",
       "         17.,  11.,  10.,  10.,  12.,   4.,  12.,  11.,  11.,  11.,   8.,\n",
       "         11.,   9.,  13.,   8.,  10.,   9.,  16.,   8.,  11.,  16.,   5.,\n",
       "          7.,  14.,  16.,   9.,  11.,   7.,  13.,  10.,  14.,   8.,   7.,\n",
       "          9.,  12.,  10.,   8.,  11.,   6.,   3.,  10.,  10.,   3.,   4.,\n",
       "         11.,   8.,   8.,   6.,   7.,   3.,  11.,   9.,   0.,  10.,   5.,\n",
       "         10.,  14.,   2.,   7.,   8.,   9.,   9.,  14.,   8.,   5.,   4.,\n",
       "          5.,  11.,  10.,   6.,   9.,   9.,   5.,   6.,   4.,   7.,   6.,\n",
       "         14.,   6.,   8.,   5.,   6.,   8.,   5.,   8.,  10.,   3.,  10.,\n",
       "          5.,   8.,   8.,   7.,   9.,   5.,   8.,   6.,   7.,   6.,   5.,\n",
       "         10.,  10.,   8.,  10.,   5.,   6.,   7.,   5.,   6.,   7.,   4.,\n",
       "          6.,   6.,   2.,   6.,   8.,   3.,   7.,   7.,   7.,   7.,   7.,\n",
       "          3.,   5.,   2.,   2.,   7.,   5.,   3.,   2.,   5.,   5.,   5.,\n",
       "          3.,   3.,   6.,   4.,   4.,   4.,   2.,   0.,   1.,   2.,   2.,\n",
       "          1.,   2.,   3.,   3.,   1.,   1.,   3.,   5.,   3.,   1.,   4.,\n",
       "          1.,   0.,   3.,   1.,   0.,   1.,   4.,   1.,   2.,   1.,   1.,\n",
       "          2.,   0.,   2.,   1.,   2.,   0.,   1.,   0.,   2.,   1.,   4.,\n",
       "          1.,   2.,   0.,   3.,   3.,   2.,   3.,   0.,   1.,   1.,   1.,\n",
       "          1.,   2.,   1.,   2.,   4.,   2.,   0.,   2.,   3.,   4.,   0.,\n",
       "          2.,   1.,   1.,   0.,   1.,   1.,   2.,   1.,   2.,   0.,   3.,\n",
       "          1.,   0.,   1.,   1.,   1.,   3.,   2.,   0.,   1.,   1.,   0.,\n",
       "          1.,   2.,   0.,   0.,   2.,   0.,   0.,   0.,   0.,   1.,   1.,\n",
       "          0.,   0.,   2.,   0.,   0.,   1.,   1.,   2.,   0.,   0.,   1.,\n",
       "          1.,   1.,   1.,   0.,   0.,   1.,   0.,   2.,   1.,   0.,   0.,\n",
       "          2.,   2.,   4.,   3.,   3.,   0.,   3.,   3.,   1.,   2.,   1.,\n",
       "          1.,   2.,   0.,   1.,   0.,   1.,   0.,   1.,   2.,   2.,   0.,\n",
       "          0.,   1.,   0.,   1.,   0.,   0.,   0.,   3.,   4.,   0.,   5.,\n",
       "          0.,   0.,   1.,   2.,   2.,   3.,   1.,   2.,   0.,   0.,   2.,\n",
       "          2.,   1.,   2.,   0.,   1.,   1.,   1.,   1.,   1.,   0.,   0.,\n",
       "          1.,   0.,   0.,   0.,   1.,   1.,   1.,   0.,   1.,   0.,   1.,\n",
       "          2.,   1.,   3.,   1.,   0.,   0.,   2.,   2.,   2.,   1.,   0.,\n",
       "          2.,   1.,   1.,   3.,   0.,   2.,   4.,   2.,   2.,   1.,   2.,\n",
       "          1.,   0.,   2.,   1.,   0.,   3.,   3.,   0.,   0.,   0.,   0.,\n",
       "          1.,   2.,   0.,   1.,   1.,   2.,   1.,   1.,   0.,   3.,   0.,\n",
       "          4.,   0.,   1.,   1.,   0.,   0.,   0.,   1.,   2.,   1.,   4.,\n",
       "          3.,   0.,   1.,   1.,   0.,   2.,   3.,   1.,   2.,   1.,   1.,\n",
       "          1.,   2.,   3.,   0.,   1.,   2.,   1.,   0.,   1.,   0.,   1.,\n",
       "          0.,   2.,   0.,   0.,   1.,   0.,   1.,   2.,   0.,   0.,   0.,\n",
       "          1.,   2.,   0.,   1.,   0.,   2.,   0.,   2.,   0.,   0.,   2.,\n",
       "          1.,   1.,   2.,   1.,   1.,   3.,   1.,   1.,   0.,   1.,   0.,\n",
       "          3.,   1.,   1.,   1.,   1.,   0.,   1.,   1.,   0.,   2.,   0.,\n",
       "          0.,   0.,   1.,   0.,   0.,   1.,   1.,   0.,   1.,   0.,   0.,\n",
       "          0.,   1.,   0.,   1.,   0.,   0.,   1.,   0.,   0.,   0.,   0.,\n",
       "          0.,   0.,   0.,   0.,   0.,   0.,   0.,   0.,   0.,   0.,   0.,\n",
       "          0.,   0.,   0.,   0.,   0.,   1.,   0.,   0.,   1.,   0.,   0.,\n",
       "          0.,   0.,   0.,   0.,   0.,   1.,   1.,   1.,   1.,   0.,   0.,\n",
       "          1.,   0.,   1.,   0.,   0.,   1.,   0.,   1.,   0.,   0.,   1.,\n",
       "          1.,   1.,   0.,   0.,   0.,   1.,   1.,   1.,   1.,   0.,   0.,\n",
       "          0.,   1.,   0.,   1.,   0.,   1.,   0.,   1.,   0.,   1.,   0.,\n",
       "          1.,   0.,   0.,   1.,   0.,   0.,   1.,   0.,   1.,   0.,   0.,\n",
       "          2.,   0.,   0.,   0.,   1.,   0.,   1.,   0.,   0.,   0.,   0.,\n",
       "          1.,   1.,   0.,   0.,   1.,   0.,   1.,   1.,   1.,   1.,   0.,\n",
       "          0.,   0.,   1.,   1.,   1.,   1.,   0.,   0.,   0.,   0.,   0.,\n",
       "          1.,   1.,   1.,   0.,   0.,   0.,   0.,   1.,   0.,   1.,   0.,\n",
       "          0.,   0.,   0.,   0.,   0.,   0.,   0.,   0.,   0.,   0.,   1.,\n",
       "          1.,   2.,   0.,   0.,   0.,   0.,   0.,   0.,   1.,   1.,   0.,\n",
       "          0.,   0.,   0.,   0.,   0.,   0.,   0.,   0.,   0.,   0.,   1.,\n",
       "          0.,   0.,   0.,   0.,   0.,   1.,   0.,   0.,   0.,   0.,   1.,\n",
       "          0.,   1.,   0.,   0.,   1.,   0.,   0.,   0.,   0.,   0.,   1.,\n",
       "          0.,   0.,   0.,   0.,   0.,   0.,   1.,   0.,   1.,   0.,   0.,\n",
       "          0.,   0.,   0.,   1.,   0.,   0.,   0.,   0.,   0.,   0.,   0.,\n",
       "          0.,   0.,   0.,   1.,   0.,   0.,   0.,   0.,   0.,   0.,   0.,\n",
       "          0.,   1.,   0.,   0.,   0.,   0.,   0.,   0.,   0.,   0.,   0.,\n",
       "          0.,   0.,   1.,   0.,   0.,   0.,   0.,   0.,   0.,   0.,   0.,\n",
       "          0.,   0.,   0.,   0.,   0.,   0.,   0.,   0.,   0.,   0.,   0.,\n",
       "          0.,   0.,   0.,   0.,   0.,   0.,   0.,   0.,   0.,   0.,   0.,\n",
       "          0.,   0.,   0.,   0.,   1.,   0.,   0.,   0.,   1.,   0.,   1.,\n",
       "          0.,   0.,   0.,   0.,   0.,   0.,   1.,   1.,   0.,   0.,   0.,\n",
       "          0.,   0.,   0.,   0.,   0.,   0.,   0.,   0.,   0.,   1.]),\n",
       " array([-0.0998961 , -0.09902316, -0.09815023, ...,  0.77129731,\n",
       "         0.77217025,  0.77304319]),\n",
       " <BarContainer object of 1000 artists>)"
      ]
     },
     "execution_count": 35,
     "metadata": {},
     "output_type": "execute_result"
    },
    {
     "data": {
      "image/png": "[encoded data removed]",
      "text/plain": [
       "<Figure size 2160x576 with 1 Axes>"
      ]
     },
     "metadata": {
      "needs_background": "light"
     },
     "output_type": "display_data"
    }
   ],
   "source": [
    "fig, ax = plt.subplots(figsize=(30,8))\n",
    "ax.hist(simu_df['drawdown'], bins=1000)"
   ]
  },
  {
   "cell_type": "code",
   "execution_count": 36,
   "metadata": {},
   "outputs": [
    {
     "data": {
      "text/plain": [
       "count    8099.000000\n",
       "mean        0.065778\n",
       "std         0.105249\n",
       "min        -0.099896\n",
       "25%         0.000768\n",
       "50%         0.028383\n",
       "75%         0.091218\n",
       "max         0.773043\n",
       "Name: drawdown, dtype: float64"
      ]
     },
     "execution_count": 36,
     "metadata": {},
     "output_type": "execute_result"
    }
   ],
   "source": [
    "simu_df['drawdown'].describe()"
   ]
  }
 ],
 "metadata": {
  "kernelspec": {
   "display_name": "Python 3",
   "language": "python",
   "name": "python3"
  },
  "language_info": {
   "codemirror_mode": {
    "name": "ipython",
    "version": 3
   },
   "file_extension": ".py",
   "mimetype": "text/x-python",
   "name": "python",
   "nbconvert_exporter": "python",
   "pygments_lexer": "ipython3",
   "version": "3.8.8"
  }
 },
 "nbformat": 4,
 "nbformat_minor": 4
}
