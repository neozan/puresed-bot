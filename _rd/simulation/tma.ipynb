{
 "cells": [
  {
   "cell_type": "code",
   "execution_count": 1,
   "metadata": {},
   "outputs": [],
   "source": [
    "import numpy as np\n",
    "import pandas as pd\n",
    "import datetime as dt\n",
    "from dateutil import tz\n",
    "import math\n",
    "import json\n",
    "import ccxt"
   ]
  },
  {
   "cell_type": "code",
   "execution_count": 2,
   "metadata": {},
   "outputs": [],
   "source": [
    "def convert_tz(utc):\n",
    "    from_zone = tz.tzutc()\n",
    "    to_zone = tz.tzlocal()\n",
    "    utc = utc.replace(tzinfo=from_zone).astimezone(to_zone)\n",
    "    \n",
    "    return utc"
   ]
  },
  {
   "cell_type": "code",
   "execution_count": 3,
   "metadata": {},
   "outputs": [],
   "source": [
    "def get_date_list(start_date, end_date=None):\n",
    "    '''\n",
    "    Generate list of date to fetch 1 day iteration from fetch_ohlcv.\n",
    "    '''\n",
    "    if end_date == None:\n",
    "        end_date = dt.date.today()\n",
    "    \n",
    "    num_day = (end_date - start_date).days\n",
    "    date_list = [dt.date.today() - dt.timedelta(days = x) for x in range(num_day, 0, -1)]\n",
    "    \n",
    "    return date_list"
   ]
  },
  {
   "cell_type": "code",
   "execution_count": 4,
   "metadata": {},
   "outputs": [],
   "source": [
    "def get_js_date(dt_date):\n",
    "    '''\n",
    "    Transform dt.datetime to JavaScript format.\n",
    "    '''\n",
    "    dt_datetime = dt.datetime(dt_date.year, dt_date.month, dt_date.day)\n",
    "    js_datetime = dt_datetime.timestamp() * 1000\n",
    "    \n",
    "    return js_datetime"
   ]
  },
  {
   "cell_type": "code",
   "execution_count": 5,
   "metadata": {},
   "outputs": [],
   "source": [
    "def get_ohlcv(symbol, date_list, timeframe, limit):\n",
    "    df = pd.DataFrame(columns = ['time', 'open', 'high', 'low', 'close', 'volume'])\n",
    "\n",
    "    for i in range(len(date_list)):\n",
    "        since = get_js_date(date_list[i])\n",
    "        ohlcv = exchange.fetch_ohlcv(symbol, timeframe, since, limit)\n",
    "        df_temp = pd.DataFrame(ohlcv)\n",
    "        df_temp.columns = ['time', 'open', 'high', 'low', 'close', 'volume']\n",
    "        df_temp['time'] = pd.to_datetime(df_temp['time'], unit='ms')\n",
    "        df_temp['time'] = df_temp['time'].apply(lambda x: convert_tz(x))\n",
    "\n",
    "        df = pd.concat([df, df_temp])\n",
    "\n",
    "    df = df.reset_index(drop=True)\n",
    "\n",
    "    return df"
   ]
  },
  {
   "cell_type": "code",
   "execution_count": 6,
   "metadata": {},
   "outputs": [],
   "source": [
    "def get_timeframe(period):\n",
    "    timeframe_dict = {1440:'1d', 240:'4h', 60:'1h', 30:'30m', 15:'15m'}\n",
    "    \n",
    "    for i in timeframe_dict.keys():\n",
    "        if period % i == 0:\n",
    "            min_period = i\n",
    "            break\n",
    "            \n",
    "    min_timeframe = timeframe_dict[min_period]\n",
    "    step = int(period / min_period)\n",
    "            \n",
    "    return min_timeframe, step"
   ]
  },
  {
   "cell_type": "code",
   "execution_count": 7,
   "metadata": {},
   "outputs": [],
   "source": [
    "def group_timeframe(df, step):\n",
    "    h_dict = {'time':[], 'open':[], 'high':[], 'low':[], 'close':[]}\n",
    "    \n",
    "    mod = len(df) % step\n",
    "    if  mod != 0:\n",
    "        df = df.iloc[:-mod, :]\n",
    "        \n",
    "    for i in [x for x in range(0, len(df), step)]:\n",
    "        df_temp = df.iloc[i:i + step, :]\n",
    "        h_dict['time'].append(df_temp['time'][i])\n",
    "        h_dict['open'].append(df_temp['open'][i])\n",
    "        h_dict['high'].append(max(df_temp['high']))\n",
    "        h_dict['low'].append(min(df_temp['low']))\n",
    "        h_dict['close'].append(df_temp['close'][i + 1])\n",
    "\n",
    "    df = pd.DataFrame(h_dict)\n",
    "    \n",
    "    return df"
   ]
  },
  {
   "cell_type": "code",
   "execution_count": 8,
   "metadata": {},
   "outputs": [],
   "source": [
    "def get_signal(df, signal, interval):\n",
    "    func_dict = {'tma': signal_tma}\n",
    "    \n",
    "    df = func_dict[signal](df, interval)\n",
    "    \n",
    "    return df"
   ]
  },
  {
   "cell_type": "code",
   "execution_count": 9,
   "metadata": {},
   "outputs": [],
   "source": [
    "def signal_tma(df, interval):\n",
    "    period = (interval + 1) / 2\n",
    "    \n",
    "    # trunc ma to get minimum avg steps\n",
    "    df['ma'] = df['close'].rolling(window=math.trunc(period)).mean()\n",
    "    \n",
    "    # round tma to reach interval steps\n",
    "    df['signal'] = df['ma'].rolling(window=int(np.round(period))).mean()\n",
    "    \n",
    "    df = df.drop(columns=['ma'])\n",
    "    df = df.dropna().reset_index(drop=True)\n",
    "    \n",
    "    return df"
   ]
  },
  {
   "cell_type": "code",
   "execution_count": 10,
   "metadata": {},
   "outputs": [],
   "source": [
    "def round_down_amount(amount, decimal):\n",
    "    floor_amount = np.floor((amount * (10 ** decimal))) / (10 ** decimal)\n",
    "    \n",
    "    return floor_amount"
   ]
  },
  {
   "cell_type": "markdown",
   "metadata": {},
   "source": [
    "### Config "
   ]
  },
  {
   "cell_type": "code",
   "execution_count": 11,
   "metadata": {},
   "outputs": [],
   "source": [
    "with open('../../../_keys/ftx/ftx_test_keys.json') as keys_file:\n",
    "    keys_dict = json.load(keys_file)"
   ]
  },
  {
   "cell_type": "code",
   "execution_count": 12,
   "metadata": {},
   "outputs": [],
   "source": [
    "exchange = ccxt.ftx({'apiKey': keys_dict['apiKey'],\n",
    "                     'secret': keys_dict['secret'],\n",
    "                     'enableRateLimit': True})"
   ]
  },
  {
   "cell_type": "code",
   "execution_count": 13,
   "metadata": {},
   "outputs": [],
   "source": [
    "base_currency = 'ETH'\n",
    "quote_currency = 'USD'\n",
    "decimal = 3"
   ]
  },
  {
   "cell_type": "code",
   "execution_count": 14,
   "metadata": {},
   "outputs": [],
   "source": [
    "file_path = 'data'"
   ]
  },
  {
   "cell_type": "code",
   "execution_count": 15,
   "metadata": {},
   "outputs": [],
   "source": [
    "signal = 'tma'\n",
    "period = 120\n",
    "interval = 50"
   ]
  },
  {
   "cell_type": "code",
   "execution_count": 16,
   "metadata": {},
   "outputs": [],
   "source": [
    "start_date = dt.date(2019, 9, 16) # first available data\n",
    "end_date = dt.date(2021, 7, 26)"
   ]
  },
  {
   "cell_type": "markdown",
   "metadata": {},
   "source": [
    "### Get timeframe "
   ]
  },
  {
   "cell_type": "code",
   "execution_count": 17,
   "metadata": {},
   "outputs": [],
   "source": [
    "min_timeframe, step = get_timeframe(period)"
   ]
  },
  {
   "cell_type": "code",
   "execution_count": 18,
   "metadata": {},
   "outputs": [],
   "source": [
    "limit = int(1440 / (period / step))"
   ]
  },
  {
   "cell_type": "markdown",
   "metadata": {},
   "source": [
    "### Get data"
   ]
  },
  {
   "cell_type": "code",
   "execution_count": 19,
   "metadata": {},
   "outputs": [],
   "source": [
    "symbol = '{}/{}'.format(base_currency, quote_currency)"
   ]
  },
  {
   "cell_type": "code",
   "execution_count": 20,
   "metadata": {},
   "outputs": [],
   "source": [
    "date_list = get_date_list(start_date, end_date)"
   ]
  },
  {
   "cell_type": "code",
   "execution_count": 21,
   "metadata": {},
   "outputs": [],
   "source": [
    "df_raw = get_ohlcv(symbol, date_list, min_timeframe, limit)"
   ]
  },
  {
   "cell_type": "code",
   "execution_count": 22,
   "metadata": {},
   "outputs": [
    {
     "data": {
      "text/html": [
       "<div>\n",
       "<style scoped>\n",
       "    .dataframe tbody tr th:only-of-type {\n",
       "        vertical-align: middle;\n",
       "    }\n",
       "\n",
       "    .dataframe tbody tr th {\n",
       "        vertical-align: top;\n",
       "    }\n",
       "\n",
       "    .dataframe thead th {\n",
       "        text-align: right;\n",
       "    }\n",
       "</style>\n",
       "<table border=\"1\" class=\"dataframe\">\n",
       "  <thead>\n",
       "    <tr style=\"text-align: right;\">\n",
       "      <th></th>\n",
       "      <th>time</th>\n",
       "      <th>open</th>\n",
       "      <th>high</th>\n",
       "      <th>low</th>\n",
       "      <th>close</th>\n",
       "      <th>volume</th>\n",
       "    </tr>\n",
       "  </thead>\n",
       "  <tbody>\n",
       "    <tr>\n",
       "      <th>0</th>\n",
       "      <td>2019-09-15 04:00:00+07:00</td>\n",
       "      <td>188.375</td>\n",
       "      <td>188.89</td>\n",
       "      <td>187.27</td>\n",
       "      <td>188.60</td>\n",
       "      <td>8.682133e+03</td>\n",
       "    </tr>\n",
       "    <tr>\n",
       "      <th>1</th>\n",
       "      <td>2019-09-15 05:00:00+07:00</td>\n",
       "      <td>188.600</td>\n",
       "      <td>188.84</td>\n",
       "      <td>187.67</td>\n",
       "      <td>187.84</td>\n",
       "      <td>0.000000e+00</td>\n",
       "    </tr>\n",
       "    <tr>\n",
       "      <th>2</th>\n",
       "      <td>2019-09-15 06:00:00+07:00</td>\n",
       "      <td>187.840</td>\n",
       "      <td>189.19</td>\n",
       "      <td>187.81</td>\n",
       "      <td>188.76</td>\n",
       "      <td>0.000000e+00</td>\n",
       "    </tr>\n",
       "    <tr>\n",
       "      <th>3</th>\n",
       "      <td>2019-09-15 07:00:00+07:00</td>\n",
       "      <td>188.760</td>\n",
       "      <td>190.86</td>\n",
       "      <td>188.71</td>\n",
       "      <td>188.88</td>\n",
       "      <td>0.000000e+00</td>\n",
       "    </tr>\n",
       "    <tr>\n",
       "      <th>4</th>\n",
       "      <td>2019-09-15 08:00:00+07:00</td>\n",
       "      <td>188.880</td>\n",
       "      <td>189.10</td>\n",
       "      <td>188.72</td>\n",
       "      <td>188.86</td>\n",
       "      <td>0.000000e+00</td>\n",
       "    </tr>\n",
       "    <tr>\n",
       "      <th>...</th>\n",
       "      <td>...</td>\n",
       "      <td>...</td>\n",
       "      <td>...</td>\n",
       "      <td>...</td>\n",
       "      <td>...</td>\n",
       "      <td>...</td>\n",
       "    </tr>\n",
       "    <tr>\n",
       "      <th>16288</th>\n",
       "      <td>2021-07-24 19:00:00+07:00</td>\n",
       "      <td>2156.200</td>\n",
       "      <td>2162.30</td>\n",
       "      <td>2146.90</td>\n",
       "      <td>2160.70</td>\n",
       "      <td>6.426838e+06</td>\n",
       "    </tr>\n",
       "    <tr>\n",
       "      <th>16289</th>\n",
       "      <td>2021-07-24 20:00:00+07:00</td>\n",
       "      <td>2160.700</td>\n",
       "      <td>2175.90</td>\n",
       "      <td>2154.50</td>\n",
       "      <td>2156.30</td>\n",
       "      <td>4.822655e+06</td>\n",
       "    </tr>\n",
       "    <tr>\n",
       "      <th>16290</th>\n",
       "      <td>2021-07-24 21:00:00+07:00</td>\n",
       "      <td>2156.300</td>\n",
       "      <td>2173.90</td>\n",
       "      <td>2146.10</td>\n",
       "      <td>2165.10</td>\n",
       "      <td>5.778713e+06</td>\n",
       "    </tr>\n",
       "    <tr>\n",
       "      <th>16291</th>\n",
       "      <td>2021-07-24 22:00:00+07:00</td>\n",
       "      <td>2165.100</td>\n",
       "      <td>2181.50</td>\n",
       "      <td>2152.00</td>\n",
       "      <td>2152.40</td>\n",
       "      <td>7.131236e+06</td>\n",
       "    </tr>\n",
       "    <tr>\n",
       "      <th>16292</th>\n",
       "      <td>2021-07-24 23:00:00+07:00</td>\n",
       "      <td>2152.400</td>\n",
       "      <td>2195.30</td>\n",
       "      <td>2144.90</td>\n",
       "      <td>2193.90</td>\n",
       "      <td>2.193875e+07</td>\n",
       "    </tr>\n",
       "  </tbody>\n",
       "</table>\n",
       "<p>16293 rows × 6 columns</p>\n",
       "</div>"
      ],
      "text/plain": [
       "                           time      open     high      low    close  \\\n",
       "0     2019-09-15 04:00:00+07:00   188.375   188.89   187.27   188.60   \n",
       "1     2019-09-15 05:00:00+07:00   188.600   188.84   187.67   187.84   \n",
       "2     2019-09-15 06:00:00+07:00   187.840   189.19   187.81   188.76   \n",
       "3     2019-09-15 07:00:00+07:00   188.760   190.86   188.71   188.88   \n",
       "4     2019-09-15 08:00:00+07:00   188.880   189.10   188.72   188.86   \n",
       "...                         ...       ...      ...      ...      ...   \n",
       "16288 2021-07-24 19:00:00+07:00  2156.200  2162.30  2146.90  2160.70   \n",
       "16289 2021-07-24 20:00:00+07:00  2160.700  2175.90  2154.50  2156.30   \n",
       "16290 2021-07-24 21:00:00+07:00  2156.300  2173.90  2146.10  2165.10   \n",
       "16291 2021-07-24 22:00:00+07:00  2165.100  2181.50  2152.00  2152.40   \n",
       "16292 2021-07-24 23:00:00+07:00  2152.400  2195.30  2144.90  2193.90   \n",
       "\n",
       "             volume  \n",
       "0      8.682133e+03  \n",
       "1      0.000000e+00  \n",
       "2      0.000000e+00  \n",
       "3      0.000000e+00  \n",
       "4      0.000000e+00  \n",
       "...             ...  \n",
       "16288  6.426838e+06  \n",
       "16289  4.822655e+06  \n",
       "16290  5.778713e+06  \n",
       "16291  7.131236e+06  \n",
       "16292  2.193875e+07  \n",
       "\n",
       "[16293 rows x 6 columns]"
      ]
     },
     "execution_count": 22,
     "metadata": {},
     "output_type": "execute_result"
    }
   ],
   "source": [
    "df_raw"
   ]
  },
  {
   "cell_type": "markdown",
   "metadata": {},
   "source": [
    "### Group timeframe"
   ]
  },
  {
   "cell_type": "code",
   "execution_count": 23,
   "metadata": {},
   "outputs": [],
   "source": [
    "df = group_timeframe(df_raw, step)"
   ]
  },
  {
   "cell_type": "code",
   "execution_count": 24,
   "metadata": {},
   "outputs": [
    {
     "data": {
      "text/html": [
       "<div>\n",
       "<style scoped>\n",
       "    .dataframe tbody tr th:only-of-type {\n",
       "        vertical-align: middle;\n",
       "    }\n",
       "\n",
       "    .dataframe tbody tr th {\n",
       "        vertical-align: top;\n",
       "    }\n",
       "\n",
       "    .dataframe thead th {\n",
       "        text-align: right;\n",
       "    }\n",
       "</style>\n",
       "<table border=\"1\" class=\"dataframe\">\n",
       "  <thead>\n",
       "    <tr style=\"text-align: right;\">\n",
       "      <th></th>\n",
       "      <th>time</th>\n",
       "      <th>open</th>\n",
       "      <th>high</th>\n",
       "      <th>low</th>\n",
       "      <th>close</th>\n",
       "    </tr>\n",
       "  </thead>\n",
       "  <tbody>\n",
       "    <tr>\n",
       "      <th>0</th>\n",
       "      <td>2019-09-15 04:00:00+07:00</td>\n",
       "      <td>188.375</td>\n",
       "      <td>188.89</td>\n",
       "      <td>187.27</td>\n",
       "      <td>187.84</td>\n",
       "    </tr>\n",
       "    <tr>\n",
       "      <th>1</th>\n",
       "      <td>2019-09-15 06:00:00+07:00</td>\n",
       "      <td>187.840</td>\n",
       "      <td>190.86</td>\n",
       "      <td>187.81</td>\n",
       "      <td>188.88</td>\n",
       "    </tr>\n",
       "    <tr>\n",
       "      <th>2</th>\n",
       "      <td>2019-09-15 08:00:00+07:00</td>\n",
       "      <td>188.880</td>\n",
       "      <td>189.10</td>\n",
       "      <td>187.95</td>\n",
       "      <td>187.96</td>\n",
       "    </tr>\n",
       "    <tr>\n",
       "      <th>3</th>\n",
       "      <td>2019-09-15 10:00:00+07:00</td>\n",
       "      <td>187.960</td>\n",
       "      <td>188.03</td>\n",
       "      <td>186.21</td>\n",
       "      <td>187.61</td>\n",
       "    </tr>\n",
       "    <tr>\n",
       "      <th>4</th>\n",
       "      <td>2019-09-15 12:00:00+07:00</td>\n",
       "      <td>187.610</td>\n",
       "      <td>188.46</td>\n",
       "      <td>187.45</td>\n",
       "      <td>188.18</td>\n",
       "    </tr>\n",
       "    <tr>\n",
       "      <th>...</th>\n",
       "      <td>...</td>\n",
       "      <td>...</td>\n",
       "      <td>...</td>\n",
       "      <td>...</td>\n",
       "      <td>...</td>\n",
       "    </tr>\n",
       "    <tr>\n",
       "      <th>8141</th>\n",
       "      <td>2021-07-24 13:00:00+07:00</td>\n",
       "      <td>2133.900</td>\n",
       "      <td>2146.40</td>\n",
       "      <td>2126.70</td>\n",
       "      <td>2133.50</td>\n",
       "    </tr>\n",
       "    <tr>\n",
       "      <th>8142</th>\n",
       "      <td>2021-07-24 15:00:00+07:00</td>\n",
       "      <td>2133.500</td>\n",
       "      <td>2144.00</td>\n",
       "      <td>2117.60</td>\n",
       "      <td>2142.20</td>\n",
       "    </tr>\n",
       "    <tr>\n",
       "      <th>8143</th>\n",
       "      <td>2021-07-24 17:00:00+07:00</td>\n",
       "      <td>2142.200</td>\n",
       "      <td>2169.70</td>\n",
       "      <td>2132.70</td>\n",
       "      <td>2156.20</td>\n",
       "    </tr>\n",
       "    <tr>\n",
       "      <th>8144</th>\n",
       "      <td>2021-07-24 19:00:00+07:00</td>\n",
       "      <td>2156.200</td>\n",
       "      <td>2175.90</td>\n",
       "      <td>2146.90</td>\n",
       "      <td>2156.30</td>\n",
       "    </tr>\n",
       "    <tr>\n",
       "      <th>8145</th>\n",
       "      <td>2021-07-24 21:00:00+07:00</td>\n",
       "      <td>2156.300</td>\n",
       "      <td>2181.50</td>\n",
       "      <td>2146.10</td>\n",
       "      <td>2152.40</td>\n",
       "    </tr>\n",
       "  </tbody>\n",
       "</table>\n",
       "<p>8146 rows × 5 columns</p>\n",
       "</div>"
      ],
      "text/plain": [
       "                          time      open     high      low    close\n",
       "0    2019-09-15 04:00:00+07:00   188.375   188.89   187.27   187.84\n",
       "1    2019-09-15 06:00:00+07:00   187.840   190.86   187.81   188.88\n",
       "2    2019-09-15 08:00:00+07:00   188.880   189.10   187.95   187.96\n",
       "3    2019-09-15 10:00:00+07:00   187.960   188.03   186.21   187.61\n",
       "4    2019-09-15 12:00:00+07:00   187.610   188.46   187.45   188.18\n",
       "...                        ...       ...      ...      ...      ...\n",
       "8141 2021-07-24 13:00:00+07:00  2133.900  2146.40  2126.70  2133.50\n",
       "8142 2021-07-24 15:00:00+07:00  2133.500  2144.00  2117.60  2142.20\n",
       "8143 2021-07-24 17:00:00+07:00  2142.200  2169.70  2132.70  2156.20\n",
       "8144 2021-07-24 19:00:00+07:00  2156.200  2175.90  2146.90  2156.30\n",
       "8145 2021-07-24 21:00:00+07:00  2156.300  2181.50  2146.10  2152.40\n",
       "\n",
       "[8146 rows x 5 columns]"
      ]
     },
     "execution_count": 24,
     "metadata": {},
     "output_type": "execute_result"
    }
   ],
   "source": [
    "df"
   ]
  },
  {
   "cell_type": "markdown",
   "metadata": {},
   "source": [
    "### Get signal"
   ]
  },
  {
   "cell_type": "code",
   "execution_count": 25,
   "metadata": {},
   "outputs": [],
   "source": [
    "df = get_signal(df, signal, interval)"
   ]
  },
  {
   "cell_type": "code",
   "execution_count": 26,
   "metadata": {},
   "outputs": [
    {
     "data": {
      "text/html": [
       "<div>\n",
       "<style scoped>\n",
       "    .dataframe tbody tr th:only-of-type {\n",
       "        vertical-align: middle;\n",
       "    }\n",
       "\n",
       "    .dataframe tbody tr th {\n",
       "        vertical-align: top;\n",
       "    }\n",
       "\n",
       "    .dataframe thead th {\n",
       "        text-align: right;\n",
       "    }\n",
       "</style>\n",
       "<table border=\"1\" class=\"dataframe\">\n",
       "  <thead>\n",
       "    <tr style=\"text-align: right;\">\n",
       "      <th></th>\n",
       "      <th>time</th>\n",
       "      <th>open</th>\n",
       "      <th>high</th>\n",
       "      <th>low</th>\n",
       "      <th>close</th>\n",
       "      <th>signal</th>\n",
       "    </tr>\n",
       "  </thead>\n",
       "  <tbody>\n",
       "    <tr>\n",
       "      <th>0</th>\n",
       "      <td>2019-09-19 05:00:00+07:00</td>\n",
       "      <td>211.78</td>\n",
       "      <td>212.99</td>\n",
       "      <td>209.91</td>\n",
       "      <td>210.11</td>\n",
       "      <td>197.828077</td>\n",
       "    </tr>\n",
       "    <tr>\n",
       "      <th>1</th>\n",
       "      <td>2019-09-19 07:00:00+07:00</td>\n",
       "      <td>210.19</td>\n",
       "      <td>210.19</td>\n",
       "      <td>205.64</td>\n",
       "      <td>206.14</td>\n",
       "      <td>198.478523</td>\n",
       "    </tr>\n",
       "    <tr>\n",
       "      <th>2</th>\n",
       "      <td>2019-09-19 09:00:00+07:00</td>\n",
       "      <td>206.20</td>\n",
       "      <td>207.75</td>\n",
       "      <td>202.05</td>\n",
       "      <td>204.55</td>\n",
       "      <td>199.123938</td>\n",
       "    </tr>\n",
       "    <tr>\n",
       "      <th>3</th>\n",
       "      <td>2019-09-19 11:00:00+07:00</td>\n",
       "      <td>204.55</td>\n",
       "      <td>206.37</td>\n",
       "      <td>203.06</td>\n",
       "      <td>206.34</td>\n",
       "      <td>199.768846</td>\n",
       "    </tr>\n",
       "    <tr>\n",
       "      <th>4</th>\n",
       "      <td>2019-09-19 13:00:00+07:00</td>\n",
       "      <td>206.34</td>\n",
       "      <td>206.34</td>\n",
       "      <td>205.12</td>\n",
       "      <td>205.94</td>\n",
       "      <td>200.410954</td>\n",
       "    </tr>\n",
       "    <tr>\n",
       "      <th>...</th>\n",
       "      <td>...</td>\n",
       "      <td>...</td>\n",
       "      <td>...</td>\n",
       "      <td>...</td>\n",
       "      <td>...</td>\n",
       "      <td>...</td>\n",
       "    </tr>\n",
       "    <tr>\n",
       "      <th>8092</th>\n",
       "      <td>2021-07-24 13:00:00+07:00</td>\n",
       "      <td>2133.90</td>\n",
       "      <td>2146.40</td>\n",
       "      <td>2126.70</td>\n",
       "      <td>2133.50</td>\n",
       "      <td>1968.128154</td>\n",
       "    </tr>\n",
       "    <tr>\n",
       "      <th>8093</th>\n",
       "      <td>2021-07-24 15:00:00+07:00</td>\n",
       "      <td>2133.50</td>\n",
       "      <td>2144.00</td>\n",
       "      <td>2117.60</td>\n",
       "      <td>2142.20</td>\n",
       "      <td>1975.864000</td>\n",
       "    </tr>\n",
       "    <tr>\n",
       "      <th>8094</th>\n",
       "      <td>2021-07-24 17:00:00+07:00</td>\n",
       "      <td>2142.20</td>\n",
       "      <td>2169.70</td>\n",
       "      <td>2132.70</td>\n",
       "      <td>2156.20</td>\n",
       "      <td>1983.500000</td>\n",
       "    </tr>\n",
       "    <tr>\n",
       "      <th>8095</th>\n",
       "      <td>2021-07-24 19:00:00+07:00</td>\n",
       "      <td>2156.20</td>\n",
       "      <td>2175.90</td>\n",
       "      <td>2146.90</td>\n",
       "      <td>2156.30</td>\n",
       "      <td>1991.062154</td>\n",
       "    </tr>\n",
       "    <tr>\n",
       "      <th>8096</th>\n",
       "      <td>2021-07-24 21:00:00+07:00</td>\n",
       "      <td>2156.30</td>\n",
       "      <td>2181.50</td>\n",
       "      <td>2146.10</td>\n",
       "      <td>2152.40</td>\n",
       "      <td>1998.477231</td>\n",
       "    </tr>\n",
       "  </tbody>\n",
       "</table>\n",
       "<p>8097 rows × 6 columns</p>\n",
       "</div>"
      ],
      "text/plain": [
       "                          time     open     high      low    close  \\\n",
       "0    2019-09-19 05:00:00+07:00   211.78   212.99   209.91   210.11   \n",
       "1    2019-09-19 07:00:00+07:00   210.19   210.19   205.64   206.14   \n",
       "2    2019-09-19 09:00:00+07:00   206.20   207.75   202.05   204.55   \n",
       "3    2019-09-19 11:00:00+07:00   204.55   206.37   203.06   206.34   \n",
       "4    2019-09-19 13:00:00+07:00   206.34   206.34   205.12   205.94   \n",
       "...                        ...      ...      ...      ...      ...   \n",
       "8092 2021-07-24 13:00:00+07:00  2133.90  2146.40  2126.70  2133.50   \n",
       "8093 2021-07-24 15:00:00+07:00  2133.50  2144.00  2117.60  2142.20   \n",
       "8094 2021-07-24 17:00:00+07:00  2142.20  2169.70  2132.70  2156.20   \n",
       "8095 2021-07-24 19:00:00+07:00  2156.20  2175.90  2146.90  2156.30   \n",
       "8096 2021-07-24 21:00:00+07:00  2156.30  2181.50  2146.10  2152.40   \n",
       "\n",
       "           signal  \n",
       "0      197.828077  \n",
       "1      198.478523  \n",
       "2      199.123938  \n",
       "3      199.768846  \n",
       "4      200.410954  \n",
       "...           ...  \n",
       "8092  1968.128154  \n",
       "8093  1975.864000  \n",
       "8094  1983.500000  \n",
       "8095  1991.062154  \n",
       "8096  1998.477231  \n",
       "\n",
       "[8097 rows x 6 columns]"
      ]
     },
     "execution_count": 26,
     "metadata": {},
     "output_type": "execute_result"
    }
   ],
   "source": [
    "df"
   ]
  },
  {
   "cell_type": "markdown",
   "metadata": {},
   "source": [
    "### Run simulation "
   ]
  },
  {
   "cell_type": "code",
   "execution_count": 27,
   "metadata": {},
   "outputs": [],
   "source": [
    "df_simu = df.copy()"
   ]
  },
  {
   "cell_type": "code",
   "execution_count": 28,
   "metadata": {},
   "outputs": [],
   "source": [
    "budget = 100\n",
    "last_action_price = 0\n",
    "last_action_amount = 0"
   ]
  },
  {
   "cell_type": "code",
   "execution_count": 29,
   "metadata": {},
   "outputs": [],
   "source": [
    "signal_dict = {'action':[], 'action_price':[], 'budget':[], 'profit':[], 'drawdown':[]}\n",
    "\n",
    "for i in range(len(df_simu)):\n",
    "    if df['close'][i] > df['signal'][i]:\n",
    "        action = 'buy'\n",
    "    elif df['close'][i] < df['signal'][i]:\n",
    "        action = 'sell'\n",
    "    else:\n",
    "        action = signal_dict['action'][-1]\n",
    "    \n",
    "    if i > 0:\n",
    "        if action != signal_dict['action'][-1]:\n",
    "            if last_action_price > 0:\n",
    "                if action == 'buy':\n",
    "                    profit = (last_action_price - df['close'][i]) * last_action_amount\n",
    "                elif action == 'sell':\n",
    "                    profit = (df['close'][i] - last_action_price) * last_action_amount\n",
    "\n",
    "            last_action_price = df['close'][i]\n",
    "            last_action_amount = round_down_amount(budget / last_action_price, decimal)\n",
    "            \n",
    "            budget += profit\n",
    "        else:\n",
    "            profit = 0\n",
    "    else:\n",
    "        profit = 0\n",
    "        \n",
    "    \n",
    "    if last_action_price > 0:\n",
    "        if action == 'buy':\n",
    "            drawdown = (df['low'][i] - last_action_price) / last_action_price\n",
    "        elif action == 'sell':\n",
    "            drawdown = (last_action_price - df['high'][i]) / last_action_price\n",
    "    else:\n",
    "        drawdown = 0\n",
    "        max_drawdown = 0\n",
    "        \n",
    "    signal_dict['action'].append(action)\n",
    "    signal_dict['action_price'].append(last_action_price)\n",
    "    signal_dict['budget'].append(budget)\n",
    "    signal_dict['profit'].append(profit)\n",
    "    signal_dict['drawdown'].append(drawdown)"
   ]
  },
  {
   "cell_type": "code",
   "execution_count": 30,
   "metadata": {},
   "outputs": [
    {
     "data": {
      "text/plain": [
       "3417.163689999999"
      ]
     },
     "execution_count": 30,
     "metadata": {},
     "output_type": "execute_result"
    }
   ],
   "source": [
    "budget"
   ]
  },
  {
   "cell_type": "code",
   "execution_count": 31,
   "metadata": {},
   "outputs": [],
   "source": [
    "for s in signal_dict.keys():\n",
    "    df_simu[s] = signal_dict[s]"
   ]
  },
  {
   "cell_type": "code",
   "execution_count": 32,
   "metadata": {},
   "outputs": [],
   "source": [
    "df_simu.to_csv('simulation.csv', index=False)"
   ]
  },
  {
   "cell_type": "markdown",
   "metadata": {},
   "source": [
    "### Viz "
   ]
  },
  {
   "cell_type": "code",
   "execution_count": 33,
   "metadata": {},
   "outputs": [],
   "source": [
    "import matplotlib.pyplot as plt"
   ]
  },
  {
   "cell_type": "code",
   "execution_count": 34,
   "metadata": {},
   "outputs": [
    {
     "data": {
      "text/plain": [
       "[<matplotlib.lines.Line2D at 0x202ca441460>]"
      ]
     },
     "execution_count": 34,
     "metadata": {},
     "output_type": "execute_result"
    },
    {
     "data": {
      "image/png": "[encoded data removed]",
      "text/plain": [
       "<Figure size 2160x576 with 1 Axes>"
      ]
     },
     "metadata": {
      "needs_background": "light"
     },
     "output_type": "display_data"
    }
   ],
   "source": [
    "fig, ax = plt.subplots(figsize=(30, 8))\n",
    "ax.plot(df_simu['budget'])"
   ]
  },
  {
   "cell_type": "code",
   "execution_count": 35,
   "metadata": {},
   "outputs": [
    {
     "data": {
      "text/plain": [
       "(array([  1.,   0.,   0.,   0.,   0.,   0.,   0.,   0.,   1.,   0.,   0.,\n",
       "          0.,   1.,   0.,   0.,   0.,   0.,   0.,   0.,   0.,   1.,   0.,\n",
       "          0.,   0.,   0.,   0.,   0.,   0.,   0.,   0.,   0.,   0.,   2.,\n",
       "          0.,   0.,   0.,   1.,   0.,   0.,   0.,   0.,   0.,   0.,   1.,\n",
       "          0.,   0.,   0.,   0.,   0.,   0.,   0.,   1.,   0.,   0.,   2.,\n",
       "          0.,   0.,   1.,   2.,   4.,   0.,   0.,   1.,   0.,   1.,   1.,\n",
       "          3.,   3.,   1.,   3.,   6.,   1.,   4.,   2.,   1.,   2.,   1.,\n",
       "          5.,   4.,   2.,   6.,   4.,   6.,  10.,   3.,   8.,   7.,  10.,\n",
       "         14.,  14.,  21.,  17.,  16.,  32.,  30.,  21.,  27.,  25.,  37.,\n",
       "         57.,  41.,  61.,  42.,  70.,  65.,  72.,  84., 103., 100., 130.,\n",
       "        120., 112., 137., 155., 139., 162.,  91.,  90.,  91.,  95., 111.,\n",
       "         73.,  90.,  69.,  80.,  71.,  90.,  69.,  84.,  84.,  71.,  72.,\n",
       "         73.,  53.,  66.,  47.,  62.,  59.,  73.,  54.,  72.,  63.,  51.,\n",
       "         55.,  54.,  52.,  59.,  57.,  31.,  46.,  43.,  45.,  48.,  37.,\n",
       "         32.,  32.,  39.,  34.,  30.,  27.,  30.,  38.,  31.,  27.,  39.,\n",
       "         29.,  26.,  24.,  30.,  24.,  29.,  30.,  31.,  30.,  33.,  31.,\n",
       "         30.,  27.,  27.,  28.,  35.,  32.,  34.,  19.,  23.,  25.,  27.,\n",
       "         38.,  31.,  19.,  21.,  24.,  28.,  29.,  16.,  20.,  22.,  18.,\n",
       "         25.,  24.,  22.,  33.,  10.,  18.,  21.,  25.,  22.,  30.,  26.,\n",
       "         21.,  15.,  26.,  13.,  19.,  27.,  20.,  19.,  21.,  18.,  15.,\n",
       "         21.,  12.,  27.,  18.,  15.,  19.,  17.,  14.,  15.,  24.,  15.,\n",
       "         18.,  14.,  13.,  15.,  15.,  18.,  11.,  12.,  19.,  21.,  15.,\n",
       "          9.,  10.,  16.,  16.,  11.,  17.,   9.,   7.,  12.,  15.,  16.,\n",
       "         11.,  14.,  11.,   9.,   9.,  10.,   7.,  11.,   3.,   8.,  16.,\n",
       "         12.,  10.,  10.,   7.,  20.,   8.,  12.,   8.,  13.,  13.,   8.,\n",
       "          6.,  10.,   4.,   2.,  11.,   5.,   7.,  12.,   6.,   9.,   8.,\n",
       "          6.,   7.,   8.,  10.,   8.,   8.,  14.,   7.,  10.,   9.,   7.,\n",
       "         12.,   4.,   5.,   6.,  13.,   5.,   8.,   3.,   9.,   5.,   6.,\n",
       "          3.,  10.,  11.,   9.,   9.,  11.,   6.,  11.,   7.,   6.,   7.,\n",
       "         10.,   3.,   4.,   9.,  10.,   9.,   8.,   5.,   7.,   8.,   9.,\n",
       "         11.,   9.,   7.,   5.,  12.,  11.,  11.,   4.,   9.,   5.,   8.,\n",
       "          9.,  14.,   7.,   3.,   7.,   7.,  10.,   3.,   4.,   6.,   5.,\n",
       "          5.,   8.,   5.,   1.,   4.,   7.,   4.,   4.,   1.,   5.,   4.,\n",
       "          5.,   4.,   2.,   4.,   2.,   1.,   4.,   5.,   2.,   4.,   2.,\n",
       "          5.,   2.,   2.,   2.,   3.,   2.,   2.,   4.,   2.,   1.,   3.,\n",
       "          3.,   3.,   1.,   0.,   1.,   5.,   0.,   2.,   0.,   1.,   0.,\n",
       "          3.,   1.,   2.,   2.,   1.,   1.,   3.,   2.,   2.,   1.,   2.,\n",
       "          4.,   0.,   6.,   2.,   2.,   1.,   1.,   2.,   3.,   3.,   2.,\n",
       "          2.,   2.,   5.,   1.,   3.,   3.,   0.,   2.,   0.,   4.,   0.,\n",
       "          3.,   0.,   1.,   0.,   0.,   3.,   3.,   2.,   1.,   1.,   0.,\n",
       "          0.,   1.,   0.,   0.,   0.,   0.,   2.,   0.,   0.,   0.,   0.,\n",
       "          1.,   0.,   0.,   1.,   0.,   1.,   1.,   1.,   0.,   2.,   0.,\n",
       "          1.,   0.,   1.,   0.,   0.,   0.,   2.,   0.,   0.,   3.,   0.,\n",
       "          2.,   1.,   1.,   0.,   0.,   2.,   1.,   2.,   2.,   2.,   0.,\n",
       "          0.,   1.,   0.,   2.,   0.,   2.,   0.,   1.,   1.,   2.,   2.,\n",
       "          0.,   4.,   2.,   2.,   0.,   1.,   0.,   1.,   4.,   0.,   2.,\n",
       "          3.,   1.,   2.,   1.,   0.,   0.,   1.,   0.,   1.,   1.,   0.,\n",
       "          0.,   0.,   2.,   5.,   2.,   1.,   2.,   2.,   0.,   0.,   1.,\n",
       "          1.,   1.,   1.,   1.,   1.,   0.,   2.,   0.,   0.,   1.,   0.,\n",
       "          2.,   3.,   2.,   0.,   0.,   0.,   0.,   2.,   0.,   1.,   3.,\n",
       "          2.,   1.,   1.,   1.,   0.,   0.,   1.,   1.,   1.,   2.,   1.,\n",
       "          2.,   0.,   0.,   0.,   2.,   1.,   0.,   1.,   0.,   0.,   1.,\n",
       "          2.,   3.,   2.,   0.,   0.,   3.,   0.,   1.,   3.,   1.,   0.,\n",
       "          1.,   3.,   2.,   1.,   0.,   0.,   2.,   0.,   2.,   1.,   0.,\n",
       "          1.,   0.,   0.,   1.,   1.,   0.,   2.,   3.,   1.,   0.,   1.,\n",
       "          2.,   1.,   0.,   2.,   0.,   3.,   2.,   2.,   1.,   2.,   0.,\n",
       "          0.,   1.,   1.,   0.,   2.,   1.,   2.,   0.,   2.,   0.,   1.,\n",
       "          2.,   0.,   0.,   2.,   0.,   0.,   0.,   0.,   1.,   0.,   1.,\n",
       "          1.,   0.,   1.,   2.,   0.,   0.,   1.,   0.,   1.,   1.,   0.,\n",
       "          0.,   1.,   0.,   0.,   1.,   1.,   0.,   1.,   1.,   3.,   1.,\n",
       "          3.,   0.,   1.,   0.,   1.,   0.,   0.,   0.,   0.,   0.,   0.,\n",
       "          2.,   2.,   0.,   0.,   0.,   1.,   1.,   0.,   0.,   0.,   0.,\n",
       "          1.,   0.,   0.,   0.,   0.,   0.,   0.,   0.,   0.,   1.,   0.,\n",
       "          0.,   0.,   1.,   1.,   0.,   1.,   2.,   0.,   0.,   2.,   0.,\n",
       "          0.,   0.,   0.,   0.,   1.,   1.,   0.,   0.,   1.,   0.,   0.,\n",
       "          0.,   0.,   0.,   0.,   2.,   0.,   0.,   0.,   1.,   0.,   1.,\n",
       "          2.,   0.,   0.,   0.,   0.,   0.,   0.,   0.,   0.,   0.,   0.,\n",
       "          0.,   0.,   0.,   0.,   1.,   0.,   0.,   0.,   0.,   0.,   1.,\n",
       "          0.,   0.,   1.,   0.,   0.,   0.,   0.,   0.,   0.,   0.,   0.,\n",
       "          1.,   0.,   0.,   0.,   0.,   0.,   0.,   0.,   0.,   0.,   1.,\n",
       "          2.,   0.,   1.,   0.,   0.,   0.,   1.,   1.,   0.,   0.,   0.,\n",
       "          0.,   0.,   1.,   0.,   0.,   0.,   0.,   0.,   0.,   1.,   0.,\n",
       "          2.,   0.,   1.,   0.,   1.,   0.,   0.,   0.,   1.,   1.,   1.,\n",
       "          1.,   1.,   0.,   0.,   1.,   1.,   0.,   0.,   0.,   0.,   1.,\n",
       "          0.,   1.,   1.,   1.,   0.,   0.,   1.,   0.,   1.,   0.,   0.,\n",
       "          1.,   1.,   0.,   0.,   1.,   0.,   0.,   0.,   0.,   0.,   0.,\n",
       "          0.,   0.,   0.,   0.,   1.,   0.,   2.,   1.,   0.,   1.,   0.,\n",
       "          0.,   0.,   0.,   0.,   0.,   0.,   1.,   0.,   0.,   1.,   1.,\n",
       "          0.,   0.,   1.,   0.,   0.,   1.,   0.,   0.,   0.,   1.,   0.,\n",
       "          0.,   0.,   0.,   0.,   0.,   0.,   0.,   0.,   0.,   0.,   0.,\n",
       "          0.,   0.,   0.,   0.,   0.,   1.,   1.,   2.,   0.,   0.,   0.,\n",
       "          0.,   0.,   1.,   1.,   0.,   1.,   0.,   0.,   0.,   0.,   0.,\n",
       "          1.,   0.,   0.,   0.,   0.,   0.,   0.,   0.,   0.,   0.,   0.,\n",
       "          0.,   0.,   2.,   0.,   0.,   0.,   0.,   0.,   0.,   0.,   0.,\n",
       "          0.,   0.,   1.,   0.,   0.,   0.,   0.,   0.,   0.,   0.,   0.,\n",
       "          0.,   0.,   1.,   0.,   0.,   1.,   0.,   0.,   0.,   0.,   0.,\n",
       "          0.,   0.,   1.,   0.,   0.,   0.,   0.,   0.,   0.,   0.,   0.,\n",
       "          0.,   0.,   0.,   0.,   0.,   0.,   0.,   0.,   0.,   0.,   0.,\n",
       "          0.,   0.,   0.,   0.,   0.,   1.,   0.,   0.,   0.,   0.,   0.,\n",
       "          1.,   0.,   0.,   0.,   0.,   0.,   0.,   0.,   1.,   0.,   0.,\n",
       "          0.,   0.,   0.,   0.,   0.,   0.,   0.,   1.,   0.,   1.]),\n",
       " array([-0.11087286, -0.10991649, -0.10896012, ...,  0.84358526,\n",
       "         0.84454163,  0.845498  ]),\n",
       " <BarContainer object of 1000 artists>)"
      ]
     },
     "execution_count": 35,
     "metadata": {},
     "output_type": "execute_result"
    },
    {
     "data": {
      "image/png": "[encoded data removed]",
      "text/plain": [
       "<Figure size 2160x576 with 1 Axes>"
      ]
     },
     "metadata": {
      "needs_background": "light"
     },
     "output_type": "display_data"
    }
   ],
   "source": [
    "fig, ax = plt.subplots(figsize=(30,8))\n",
    "ax.hist(df_simu['drawdown'], bins=1000)"
   ]
  },
  {
   "cell_type": "code",
   "execution_count": 36,
   "metadata": {},
   "outputs": [
    {
     "data": {
      "text/plain": [
       "count    8097.000000\n",
       "mean        0.065680\n",
       "std         0.109108\n",
       "min        -0.110873\n",
       "25%         0.000126\n",
       "50%         0.026354\n",
       "75%         0.089917\n",
       "max         0.845498\n",
       "Name: drawdown, dtype: float64"
      ]
     },
     "execution_count": 36,
     "metadata": {},
     "output_type": "execute_result"
    }
   ],
   "source": [
    "df_simu['drawdown'].describe()"
   ]
  }
 ],
 "metadata": {
  "kernelspec": {
   "display_name": "Python 3",
   "language": "python",
   "name": "python3"
  },
  "language_info": {
   "codemirror_mode": {
    "name": "ipython",
    "version": 3
   },
   "file_extension": ".py",
   "mimetype": "text/x-python",
   "name": "python",
   "nbconvert_exporter": "python",
   "pygments_lexer": "ipython3",
   "version": "3.8.8"
  }
 },
 "nbformat": 4,
 "nbformat_minor": 4
}
