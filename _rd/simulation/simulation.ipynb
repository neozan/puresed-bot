{
 "cells": [
  {
   "cell_type": "code",
   "execution_count": 1,
   "metadata": {},
   "outputs": [],
   "source": [
    "import numpy as np\n",
    "import pandas as pd\n",
    "import datetime as dt\n",
    "from dateutil import tz\n",
    "import math\n",
    "import json\n",
    "import ccxt"
   ]
  },
  {
   "cell_type": "code",
   "execution_count": 2,
   "metadata": {},
   "outputs": [],
   "source": [
    "def convert_tz(utc):\n",
    "    from_zone = tz.tzutc()\n",
    "    to_zone = tz.tzlocal()\n",
    "    utc = utc.replace(tzinfo=from_zone).astimezone(to_zone)\n",
    "    \n",
    "    return utc"
   ]
  },
  {
   "cell_type": "code",
   "execution_count": 3,
   "metadata": {},
   "outputs": [],
   "source": [
    "def get_date_list(start_date, end_date=None):\n",
    "    '''\n",
    "    Generate list of date to fetch 1 day iteration from fetch_ohlcv.\n",
    "    '''\n",
    "    if end_date == None:\n",
    "        end_date = dt.date.today()\n",
    "    \n",
    "    num_day = (end_date - start_date).days\n",
    "    date_list = [dt.date.today() - dt.timedelta(days = x) for x in range(num_day, 0, -1)]\n",
    "    \n",
    "    return date_list"
   ]
  },
  {
   "cell_type": "code",
   "execution_count": 4,
   "metadata": {},
   "outputs": [],
   "source": [
    "def get_js_date(dt_date):\n",
    "    '''\n",
    "    Transform dt.datetime to JavaScript format.\n",
    "    '''\n",
    "    dt_datetime = dt.datetime(dt_date.year, dt_date.month, dt_date.day)\n",
    "    js_datetime = dt_datetime.timestamp() * 1000\n",
    "    \n",
    "    return js_datetime"
   ]
  },
  {
   "cell_type": "code",
   "execution_count": 5,
   "metadata": {},
   "outputs": [],
   "source": [
    "def get_ohlcv(symbol, date_list, timeframe, limit, exchange):\n",
    "    df = pd.DataFrame(columns = ['time', 'open', 'high', 'low', 'close', 'volume'])\n",
    "\n",
    "    for i in range(len(date_list)):\n",
    "        since = get_js_date(date_list[i])\n",
    "        ohlcv = exchange.fetch_ohlcv(symbol, timeframe, since, limit)\n",
    "        temp_df = pd.DataFrame(ohlcv)\n",
    "        temp_df.columns = ['time', 'open', 'high', 'low', 'close', 'volume']\n",
    "        temp_df['time'] = pd.to_datetime(temp_df['time'], unit='ms')\n",
    "        temp_df['time'] = temp_df['time'].apply(lambda x: convert_tz(x))\n",
    "\n",
    "        df = pd.concat([df, temp_df])\n",
    "\n",
    "    df = df.reset_index(drop=True)\n",
    "\n",
    "    return df"
   ]
  },
  {
   "cell_type": "code",
   "execution_count": 6,
   "metadata": {},
   "outputs": [],
   "source": [
    "def get_timeframe(interval):\n",
    "    timeframe_dict = {1440:'1d', 240:'4h', 60:'1h', 30:'30m', 15:'15m'}\n",
    "    \n",
    "    for i in timeframe_dict.keys():\n",
    "        if interval % i == 0:\n",
    "            min_interval = i\n",
    "            break\n",
    "            \n",
    "    min_timeframe = timeframe_dict[min_interval]\n",
    "    step = int(interval / min_interval)\n",
    "            \n",
    "    return min_timeframe, step"
   ]
  },
  {
   "cell_type": "code",
   "execution_count": 7,
   "metadata": {},
   "outputs": [],
   "source": [
    "def group_timeframe(df, step):\n",
    "    h_dict = {'time':[], 'open':[], 'high':[], 'low':[], 'close':[]}\n",
    "    \n",
    "    mod = len(df) % step\n",
    "    if  mod != 0:\n",
    "        df = df.iloc[:-mod, :]\n",
    "        \n",
    "    for i in [x for x in range(0, len(df), step)]:\n",
    "        temp_df = df.iloc[i:i + step, :]\n",
    "        h_dict['time'].append(temp_df['time'][i])\n",
    "        h_dict['open'].append(temp_df['open'][i])\n",
    "        h_dict['high'].append(max(temp_df['high']))\n",
    "        h_dict['low'].append(min(temp_df['low']))\n",
    "        h_dict['close'].append(temp_df['close'][i + 1])\n",
    "\n",
    "    df = pd.DataFrame(h_dict)\n",
    "    \n",
    "    return df"
   ]
  },
  {
   "cell_type": "code",
   "execution_count": 8,
   "metadata": {},
   "outputs": [],
   "source": [
    "def get_signal(df, signal, window):\n",
    "    func_dict = {'tma': signal_tma}\n",
    "    \n",
    "    df = func_dict[signal](df, window)\n",
    "    \n",
    "    return df"
   ]
  },
  {
   "cell_type": "code",
   "execution_count": 9,
   "metadata": {},
   "outputs": [],
   "source": [
    "def signal_tma(df, window):\n",
    "    sub_interval = (window + 1) / 2\n",
    "    \n",
    "    # trunc ma to get minimum avg steps\n",
    "    df['ma'] = df['close'].rolling(window=math.trunc(sub_interval)).mean()\n",
    "    \n",
    "    # round tma to reach window steps\n",
    "    df['signal'] = df['ma'].rolling(window=int(np.round(sub_interval))).mean()\n",
    "    \n",
    "    df = df.drop(columns=['ma'])\n",
    "    df = df.dropna().reset_index(drop=True)\n",
    "    \n",
    "    return df"
   ]
  },
  {
   "cell_type": "code",
   "execution_count": 10,
   "metadata": {},
   "outputs": [],
   "source": [
    "def round_down_amount(amount, decimal):\n",
    "    floor_amount = np.floor((amount * (10 ** decimal))) / (10 ** decimal)\n",
    "    \n",
    "    return floor_amount"
   ]
  },
  {
   "cell_type": "markdown",
   "metadata": {},
   "source": [
    "### Config "
   ]
  },
  {
   "cell_type": "code",
   "execution_count": 11,
   "metadata": {},
   "outputs": [],
   "source": [
    "with open('../../../_keys/ftx/ftx_test_keys.json') as keys_file:\n",
    "    keys_dict = json.load(keys_file)"
   ]
  },
  {
   "cell_type": "code",
   "execution_count": 12,
   "metadata": {},
   "outputs": [],
   "source": [
    "exchange = ccxt.ftx({'apiKey': keys_dict['apiKey'],\n",
    "                     'secret': keys_dict['secret'],\n",
    "                     'enableRateLimit': True})"
   ]
  },
  {
   "cell_type": "code",
   "execution_count": 13,
   "metadata": {},
   "outputs": [],
   "source": [
    "base_currency = 'ETH'\n",
    "quote_currency = 'USD'\n",
    "decimal = 3"
   ]
  },
  {
   "cell_type": "code",
   "execution_count": 14,
   "metadata": {},
   "outputs": [],
   "source": [
    "file_path = 'data'"
   ]
  },
  {
   "cell_type": "code",
   "execution_count": 15,
   "metadata": {},
   "outputs": [],
   "source": [
    "signal = 'tma'\n",
    "interval = 15\n",
    "window = 50"
   ]
  },
  {
   "cell_type": "code",
   "execution_count": 16,
   "metadata": {},
   "outputs": [],
   "source": [
    "start_date = dt.date(2021, 1, 1) # first available data\n",
    "end_date = dt.date(2021, 7, 26)"
   ]
  },
  {
   "cell_type": "markdown",
   "metadata": {},
   "source": [
    "### Get timeframe "
   ]
  },
  {
   "cell_type": "code",
   "execution_count": 17,
   "metadata": {},
   "outputs": [],
   "source": [
    "min_timeframe, step = get_timeframe(interval)"
   ]
  },
  {
   "cell_type": "code",
   "execution_count": 18,
   "metadata": {},
   "outputs": [],
   "source": [
    "limit = int(1440 / (interval / step))"
   ]
  },
  {
   "cell_type": "markdown",
   "metadata": {},
   "source": [
    "### Get data"
   ]
  },
  {
   "cell_type": "code",
   "execution_count": 19,
   "metadata": {},
   "outputs": [],
   "source": [
    "symbol = '{}/{}'.format(base_currency, quote_currency)"
   ]
  },
  {
   "cell_type": "code",
   "execution_count": 20,
   "metadata": {},
   "outputs": [],
   "source": [
    "date_list = get_date_list(start_date, end_date)"
   ]
  },
  {
   "cell_type": "code",
   "execution_count": 21,
   "metadata": {},
   "outputs": [],
   "source": [
    "raw_df = get_ohlcv(symbol, date_list, min_timeframe, limit, exchange)"
   ]
  },
  {
   "cell_type": "code",
   "execution_count": 22,
   "metadata": {},
   "outputs": [
    {
     "data": {
      "text/html": [
       "<div>\n",
       "<style scoped>\n",
       "    .dataframe tbody tr th:only-of-type {\n",
       "        vertical-align: middle;\n",
       "    }\n",
       "\n",
       "    .dataframe tbody tr th {\n",
       "        vertical-align: top;\n",
       "    }\n",
       "\n",
       "    .dataframe thead th {\n",
       "        text-align: right;\n",
       "    }\n",
       "</style>\n",
       "<table border=\"1\" class=\"dataframe\">\n",
       "  <thead>\n",
       "    <tr style=\"text-align: right;\">\n",
       "      <th></th>\n",
       "      <th>time</th>\n",
       "      <th>open</th>\n",
       "      <th>high</th>\n",
       "      <th>low</th>\n",
       "      <th>close</th>\n",
       "      <th>volume</th>\n",
       "    </tr>\n",
       "  </thead>\n",
       "  <tbody>\n",
       "    <tr>\n",
       "      <th>0</th>\n",
       "      <td>2021-01-11 00:00:00+07:00</td>\n",
       "      <td>1299.2</td>\n",
       "      <td>1304.6</td>\n",
       "      <td>1283.1</td>\n",
       "      <td>1295.0</td>\n",
       "      <td>1.693833e+06</td>\n",
       "    </tr>\n",
       "    <tr>\n",
       "      <th>1</th>\n",
       "      <td>2021-01-11 00:15:00+07:00</td>\n",
       "      <td>1295.0</td>\n",
       "      <td>1295.0</td>\n",
       "      <td>1261.9</td>\n",
       "      <td>1271.2</td>\n",
       "      <td>1.297876e+06</td>\n",
       "    </tr>\n",
       "    <tr>\n",
       "      <th>2</th>\n",
       "      <td>2021-01-11 00:30:00+07:00</td>\n",
       "      <td>1271.2</td>\n",
       "      <td>1280.6</td>\n",
       "      <td>1247.0</td>\n",
       "      <td>1269.3</td>\n",
       "      <td>2.046958e+06</td>\n",
       "    </tr>\n",
       "    <tr>\n",
       "      <th>3</th>\n",
       "      <td>2021-01-11 00:45:00+07:00</td>\n",
       "      <td>1269.3</td>\n",
       "      <td>1305.6</td>\n",
       "      <td>1264.3</td>\n",
       "      <td>1302.0</td>\n",
       "      <td>7.224795e+05</td>\n",
       "    </tr>\n",
       "    <tr>\n",
       "      <th>4</th>\n",
       "      <td>2021-01-11 01:00:00+07:00</td>\n",
       "      <td>1302.0</td>\n",
       "      <td>1313.4</td>\n",
       "      <td>1297.3</td>\n",
       "      <td>1305.5</td>\n",
       "      <td>1.405367e+06</td>\n",
       "    </tr>\n",
       "    <tr>\n",
       "      <th>...</th>\n",
       "      <td>...</td>\n",
       "      <td>...</td>\n",
       "      <td>...</td>\n",
       "      <td>...</td>\n",
       "      <td>...</td>\n",
       "      <td>...</td>\n",
       "    </tr>\n",
       "    <tr>\n",
       "      <th>19771</th>\n",
       "      <td>2021-08-04 22:45:00+07:00</td>\n",
       "      <td>2665.9</td>\n",
       "      <td>2676.6</td>\n",
       "      <td>2663.6</td>\n",
       "      <td>2673.3</td>\n",
       "      <td>3.027698e+06</td>\n",
       "    </tr>\n",
       "    <tr>\n",
       "      <th>19772</th>\n",
       "      <td>2021-08-04 23:00:00+07:00</td>\n",
       "      <td>2673.3</td>\n",
       "      <td>2727.5</td>\n",
       "      <td>2666.1</td>\n",
       "      <td>2713.6</td>\n",
       "      <td>1.742171e+07</td>\n",
       "    </tr>\n",
       "    <tr>\n",
       "      <th>19773</th>\n",
       "      <td>2021-08-04 23:15:00+07:00</td>\n",
       "      <td>2713.5</td>\n",
       "      <td>2724.1</td>\n",
       "      <td>2694.4</td>\n",
       "      <td>2701.2</td>\n",
       "      <td>7.824130e+06</td>\n",
       "    </tr>\n",
       "    <tr>\n",
       "      <th>19774</th>\n",
       "      <td>2021-08-04 23:30:00+07:00</td>\n",
       "      <td>2701.2</td>\n",
       "      <td>2721.0</td>\n",
       "      <td>2696.0</td>\n",
       "      <td>2718.9</td>\n",
       "      <td>4.533317e+06</td>\n",
       "    </tr>\n",
       "    <tr>\n",
       "      <th>19775</th>\n",
       "      <td>2021-08-04 23:45:00+07:00</td>\n",
       "      <td>2718.9</td>\n",
       "      <td>2727.5</td>\n",
       "      <td>2704.4</td>\n",
       "      <td>2710.7</td>\n",
       "      <td>4.395066e+06</td>\n",
       "    </tr>\n",
       "  </tbody>\n",
       "</table>\n",
       "<p>19776 rows × 6 columns</p>\n",
       "</div>"
      ],
      "text/plain": [
       "                           time    open    high     low   close        volume\n",
       "0     2021-01-11 00:00:00+07:00  1299.2  1304.6  1283.1  1295.0  1.693833e+06\n",
       "1     2021-01-11 00:15:00+07:00  1295.0  1295.0  1261.9  1271.2  1.297876e+06\n",
       "2     2021-01-11 00:30:00+07:00  1271.2  1280.6  1247.0  1269.3  2.046958e+06\n",
       "3     2021-01-11 00:45:00+07:00  1269.3  1305.6  1264.3  1302.0  7.224795e+05\n",
       "4     2021-01-11 01:00:00+07:00  1302.0  1313.4  1297.3  1305.5  1.405367e+06\n",
       "...                         ...     ...     ...     ...     ...           ...\n",
       "19771 2021-08-04 22:45:00+07:00  2665.9  2676.6  2663.6  2673.3  3.027698e+06\n",
       "19772 2021-08-04 23:00:00+07:00  2673.3  2727.5  2666.1  2713.6  1.742171e+07\n",
       "19773 2021-08-04 23:15:00+07:00  2713.5  2724.1  2694.4  2701.2  7.824130e+06\n",
       "19774 2021-08-04 23:30:00+07:00  2701.2  2721.0  2696.0  2718.9  4.533317e+06\n",
       "19775 2021-08-04 23:45:00+07:00  2718.9  2727.5  2704.4  2710.7  4.395066e+06\n",
       "\n",
       "[19776 rows x 6 columns]"
      ]
     },
     "execution_count": 22,
     "metadata": {},
     "output_type": "execute_result"
    }
   ],
   "source": [
    "raw_df"
   ]
  },
  {
   "cell_type": "markdown",
   "metadata": {},
   "source": [
    "### Group timeframe"
   ]
  },
  {
   "cell_type": "code",
   "execution_count": 23,
   "metadata": {},
   "outputs": [],
   "source": [
    "if step > 1:\n",
    "    df = group_timeframe(raw_df, step)\n",
    "else:\n",
    "    df = raw_df.copy()"
   ]
  },
  {
   "cell_type": "code",
   "execution_count": 24,
   "metadata": {},
   "outputs": [
    {
     "data": {
      "text/html": [
       "<div>\n",
       "<style scoped>\n",
       "    .dataframe tbody tr th:only-of-type {\n",
       "        vertical-align: middle;\n",
       "    }\n",
       "\n",
       "    .dataframe tbody tr th {\n",
       "        vertical-align: top;\n",
       "    }\n",
       "\n",
       "    .dataframe thead th {\n",
       "        text-align: right;\n",
       "    }\n",
       "</style>\n",
       "<table border=\"1\" class=\"dataframe\">\n",
       "  <thead>\n",
       "    <tr style=\"text-align: right;\">\n",
       "      <th></th>\n",
       "      <th>time</th>\n",
       "      <th>open</th>\n",
       "      <th>high</th>\n",
       "      <th>low</th>\n",
       "      <th>close</th>\n",
       "      <th>volume</th>\n",
       "    </tr>\n",
       "  </thead>\n",
       "  <tbody>\n",
       "    <tr>\n",
       "      <th>0</th>\n",
       "      <td>2021-01-11 00:00:00+07:00</td>\n",
       "      <td>1299.2</td>\n",
       "      <td>1304.6</td>\n",
       "      <td>1283.1</td>\n",
       "      <td>1295.0</td>\n",
       "      <td>1.693833e+06</td>\n",
       "    </tr>\n",
       "    <tr>\n",
       "      <th>1</th>\n",
       "      <td>2021-01-11 00:15:00+07:00</td>\n",
       "      <td>1295.0</td>\n",
       "      <td>1295.0</td>\n",
       "      <td>1261.9</td>\n",
       "      <td>1271.2</td>\n",
       "      <td>1.297876e+06</td>\n",
       "    </tr>\n",
       "    <tr>\n",
       "      <th>2</th>\n",
       "      <td>2021-01-11 00:30:00+07:00</td>\n",
       "      <td>1271.2</td>\n",
       "      <td>1280.6</td>\n",
       "      <td>1247.0</td>\n",
       "      <td>1269.3</td>\n",
       "      <td>2.046958e+06</td>\n",
       "    </tr>\n",
       "    <tr>\n",
       "      <th>3</th>\n",
       "      <td>2021-01-11 00:45:00+07:00</td>\n",
       "      <td>1269.3</td>\n",
       "      <td>1305.6</td>\n",
       "      <td>1264.3</td>\n",
       "      <td>1302.0</td>\n",
       "      <td>7.224795e+05</td>\n",
       "    </tr>\n",
       "    <tr>\n",
       "      <th>4</th>\n",
       "      <td>2021-01-11 01:00:00+07:00</td>\n",
       "      <td>1302.0</td>\n",
       "      <td>1313.4</td>\n",
       "      <td>1297.3</td>\n",
       "      <td>1305.5</td>\n",
       "      <td>1.405367e+06</td>\n",
       "    </tr>\n",
       "    <tr>\n",
       "      <th>...</th>\n",
       "      <td>...</td>\n",
       "      <td>...</td>\n",
       "      <td>...</td>\n",
       "      <td>...</td>\n",
       "      <td>...</td>\n",
       "      <td>...</td>\n",
       "    </tr>\n",
       "    <tr>\n",
       "      <th>19771</th>\n",
       "      <td>2021-08-04 22:45:00+07:00</td>\n",
       "      <td>2665.9</td>\n",
       "      <td>2676.6</td>\n",
       "      <td>2663.6</td>\n",
       "      <td>2673.3</td>\n",
       "      <td>3.027698e+06</td>\n",
       "    </tr>\n",
       "    <tr>\n",
       "      <th>19772</th>\n",
       "      <td>2021-08-04 23:00:00+07:00</td>\n",
       "      <td>2673.3</td>\n",
       "      <td>2727.5</td>\n",
       "      <td>2666.1</td>\n",
       "      <td>2713.6</td>\n",
       "      <td>1.742171e+07</td>\n",
       "    </tr>\n",
       "    <tr>\n",
       "      <th>19773</th>\n",
       "      <td>2021-08-04 23:15:00+07:00</td>\n",
       "      <td>2713.5</td>\n",
       "      <td>2724.1</td>\n",
       "      <td>2694.4</td>\n",
       "      <td>2701.2</td>\n",
       "      <td>7.824130e+06</td>\n",
       "    </tr>\n",
       "    <tr>\n",
       "      <th>19774</th>\n",
       "      <td>2021-08-04 23:30:00+07:00</td>\n",
       "      <td>2701.2</td>\n",
       "      <td>2721.0</td>\n",
       "      <td>2696.0</td>\n",
       "      <td>2718.9</td>\n",
       "      <td>4.533317e+06</td>\n",
       "    </tr>\n",
       "    <tr>\n",
       "      <th>19775</th>\n",
       "      <td>2021-08-04 23:45:00+07:00</td>\n",
       "      <td>2718.9</td>\n",
       "      <td>2727.5</td>\n",
       "      <td>2704.4</td>\n",
       "      <td>2710.7</td>\n",
       "      <td>4.395066e+06</td>\n",
       "    </tr>\n",
       "  </tbody>\n",
       "</table>\n",
       "<p>19776 rows × 6 columns</p>\n",
       "</div>"
      ],
      "text/plain": [
       "                           time    open    high     low   close        volume\n",
       "0     2021-01-11 00:00:00+07:00  1299.2  1304.6  1283.1  1295.0  1.693833e+06\n",
       "1     2021-01-11 00:15:00+07:00  1295.0  1295.0  1261.9  1271.2  1.297876e+06\n",
       "2     2021-01-11 00:30:00+07:00  1271.2  1280.6  1247.0  1269.3  2.046958e+06\n",
       "3     2021-01-11 00:45:00+07:00  1269.3  1305.6  1264.3  1302.0  7.224795e+05\n",
       "4     2021-01-11 01:00:00+07:00  1302.0  1313.4  1297.3  1305.5  1.405367e+06\n",
       "...                         ...     ...     ...     ...     ...           ...\n",
       "19771 2021-08-04 22:45:00+07:00  2665.9  2676.6  2663.6  2673.3  3.027698e+06\n",
       "19772 2021-08-04 23:00:00+07:00  2673.3  2727.5  2666.1  2713.6  1.742171e+07\n",
       "19773 2021-08-04 23:15:00+07:00  2713.5  2724.1  2694.4  2701.2  7.824130e+06\n",
       "19774 2021-08-04 23:30:00+07:00  2701.2  2721.0  2696.0  2718.9  4.533317e+06\n",
       "19775 2021-08-04 23:45:00+07:00  2718.9  2727.5  2704.4  2710.7  4.395066e+06\n",
       "\n",
       "[19776 rows x 6 columns]"
      ]
     },
     "execution_count": 24,
     "metadata": {},
     "output_type": "execute_result"
    }
   ],
   "source": [
    "df"
   ]
  },
  {
   "cell_type": "markdown",
   "metadata": {},
   "source": [
    "### Get signal"
   ]
  },
  {
   "cell_type": "code",
   "execution_count": 25,
   "metadata": {},
   "outputs": [],
   "source": [
    "df = get_signal(df, signal, window)"
   ]
  },
  {
   "cell_type": "code",
   "execution_count": 26,
   "metadata": {},
   "outputs": [
    {
     "data": {
      "text/html": [
       "<div>\n",
       "<style scoped>\n",
       "    .dataframe tbody tr th:only-of-type {\n",
       "        vertical-align: middle;\n",
       "    }\n",
       "\n",
       "    .dataframe tbody tr th {\n",
       "        vertical-align: top;\n",
       "    }\n",
       "\n",
       "    .dataframe thead th {\n",
       "        text-align: right;\n",
       "    }\n",
       "</style>\n",
       "<table border=\"1\" class=\"dataframe\">\n",
       "  <thead>\n",
       "    <tr style=\"text-align: right;\">\n",
       "      <th></th>\n",
       "      <th>time</th>\n",
       "      <th>open</th>\n",
       "      <th>high</th>\n",
       "      <th>low</th>\n",
       "      <th>close</th>\n",
       "      <th>volume</th>\n",
       "      <th>signal</th>\n",
       "    </tr>\n",
       "  </thead>\n",
       "  <tbody>\n",
       "    <tr>\n",
       "      <th>0</th>\n",
       "      <td>2021-01-11 12:15:00+07:00</td>\n",
       "      <td>1120.1</td>\n",
       "      <td>1128.4</td>\n",
       "      <td>1097.4</td>\n",
       "      <td>1120.0</td>\n",
       "      <td>1.000616e+06</td>\n",
       "      <td>1236.329846</td>\n",
       "    </tr>\n",
       "    <tr>\n",
       "      <th>1</th>\n",
       "      <td>2021-01-11 12:30:00+07:00</td>\n",
       "      <td>1120.0</td>\n",
       "      <td>1123.9</td>\n",
       "      <td>1098.4</td>\n",
       "      <td>1101.2</td>\n",
       "      <td>1.329672e+06</td>\n",
       "      <td>1232.345538</td>\n",
       "    </tr>\n",
       "    <tr>\n",
       "      <th>2</th>\n",
       "      <td>2021-01-11 12:45:00+07:00</td>\n",
       "      <td>1101.2</td>\n",
       "      <td>1104.4</td>\n",
       "      <td>1079.5</td>\n",
       "      <td>1092.9</td>\n",
       "      <td>2.080525e+06</td>\n",
       "      <td>1228.129692</td>\n",
       "    </tr>\n",
       "    <tr>\n",
       "      <th>3</th>\n",
       "      <td>2021-01-11 13:00:00+07:00</td>\n",
       "      <td>1092.9</td>\n",
       "      <td>1093.8</td>\n",
       "      <td>1057.7</td>\n",
       "      <td>1059.8</td>\n",
       "      <td>4.152529e+06</td>\n",
       "      <td>1223.616769</td>\n",
       "    </tr>\n",
       "    <tr>\n",
       "      <th>4</th>\n",
       "      <td>2021-01-11 13:15:00+07:00</td>\n",
       "      <td>1059.8</td>\n",
       "      <td>1087.7</td>\n",
       "      <td>1054.4</td>\n",
       "      <td>1082.9</td>\n",
       "      <td>1.723165e+06</td>\n",
       "      <td>1218.904923</td>\n",
       "    </tr>\n",
       "    <tr>\n",
       "      <th>...</th>\n",
       "      <td>...</td>\n",
       "      <td>...</td>\n",
       "      <td>...</td>\n",
       "      <td>...</td>\n",
       "      <td>...</td>\n",
       "      <td>...</td>\n",
       "      <td>...</td>\n",
       "    </tr>\n",
       "    <tr>\n",
       "      <th>19722</th>\n",
       "      <td>2021-08-04 22:45:00+07:00</td>\n",
       "      <td>2665.9</td>\n",
       "      <td>2676.6</td>\n",
       "      <td>2663.6</td>\n",
       "      <td>2673.3</td>\n",
       "      <td>3.027698e+06</td>\n",
       "      <td>2508.137231</td>\n",
       "    </tr>\n",
       "    <tr>\n",
       "      <th>19723</th>\n",
       "      <td>2021-08-04 23:00:00+07:00</td>\n",
       "      <td>2673.3</td>\n",
       "      <td>2727.5</td>\n",
       "      <td>2666.1</td>\n",
       "      <td>2713.6</td>\n",
       "      <td>1.742171e+07</td>\n",
       "      <td>2511.668154</td>\n",
       "    </tr>\n",
       "    <tr>\n",
       "      <th>19724</th>\n",
       "      <td>2021-08-04 23:15:00+07:00</td>\n",
       "      <td>2713.5</td>\n",
       "      <td>2724.1</td>\n",
       "      <td>2694.4</td>\n",
       "      <td>2701.2</td>\n",
       "      <td>7.824130e+06</td>\n",
       "      <td>2515.562154</td>\n",
       "    </tr>\n",
       "    <tr>\n",
       "      <th>19725</th>\n",
       "      <td>2021-08-04 23:30:00+07:00</td>\n",
       "      <td>2701.2</td>\n",
       "      <td>2721.0</td>\n",
       "      <td>2696.0</td>\n",
       "      <td>2718.9</td>\n",
       "      <td>4.533317e+06</td>\n",
       "      <td>2519.824923</td>\n",
       "    </tr>\n",
       "    <tr>\n",
       "      <th>19726</th>\n",
       "      <td>2021-08-04 23:45:00+07:00</td>\n",
       "      <td>2718.9</td>\n",
       "      <td>2727.5</td>\n",
       "      <td>2704.4</td>\n",
       "      <td>2710.7</td>\n",
       "      <td>4.395066e+06</td>\n",
       "      <td>2524.433231</td>\n",
       "    </tr>\n",
       "  </tbody>\n",
       "</table>\n",
       "<p>19727 rows × 7 columns</p>\n",
       "</div>"
      ],
      "text/plain": [
       "                           time    open    high     low   close        volume  \\\n",
       "0     2021-01-11 12:15:00+07:00  1120.1  1128.4  1097.4  1120.0  1.000616e+06   \n",
       "1     2021-01-11 12:30:00+07:00  1120.0  1123.9  1098.4  1101.2  1.329672e+06   \n",
       "2     2021-01-11 12:45:00+07:00  1101.2  1104.4  1079.5  1092.9  2.080525e+06   \n",
       "3     2021-01-11 13:00:00+07:00  1092.9  1093.8  1057.7  1059.8  4.152529e+06   \n",
       "4     2021-01-11 13:15:00+07:00  1059.8  1087.7  1054.4  1082.9  1.723165e+06   \n",
       "...                         ...     ...     ...     ...     ...           ...   \n",
       "19722 2021-08-04 22:45:00+07:00  2665.9  2676.6  2663.6  2673.3  3.027698e+06   \n",
       "19723 2021-08-04 23:00:00+07:00  2673.3  2727.5  2666.1  2713.6  1.742171e+07   \n",
       "19724 2021-08-04 23:15:00+07:00  2713.5  2724.1  2694.4  2701.2  7.824130e+06   \n",
       "19725 2021-08-04 23:30:00+07:00  2701.2  2721.0  2696.0  2718.9  4.533317e+06   \n",
       "19726 2021-08-04 23:45:00+07:00  2718.9  2727.5  2704.4  2710.7  4.395066e+06   \n",
       "\n",
       "            signal  \n",
       "0      1236.329846  \n",
       "1      1232.345538  \n",
       "2      1228.129692  \n",
       "3      1223.616769  \n",
       "4      1218.904923  \n",
       "...            ...  \n",
       "19722  2508.137231  \n",
       "19723  2511.668154  \n",
       "19724  2515.562154  \n",
       "19725  2519.824923  \n",
       "19726  2524.433231  \n",
       "\n",
       "[19727 rows x 7 columns]"
      ]
     },
     "execution_count": 26,
     "metadata": {},
     "output_type": "execute_result"
    }
   ],
   "source": [
    "df"
   ]
  },
  {
   "cell_type": "markdown",
   "metadata": {},
   "source": [
    "### Run simulation "
   ]
  },
  {
   "cell_type": "code",
   "execution_count": 27,
   "metadata": {},
   "outputs": [],
   "source": [
    "simu_df = df.copy()"
   ]
  },
  {
   "cell_type": "code",
   "execution_count": 28,
   "metadata": {},
   "outputs": [],
   "source": [
    "budget = 100\n",
    "last_action_price = 0\n",
    "last_action_amount = 0"
   ]
  },
  {
   "cell_type": "code",
   "execution_count": 29,
   "metadata": {},
   "outputs": [],
   "source": [
    "signal_dict = {'action':[], 'action_price':[], 'budget':[], 'profit':[], 'drawdown':[]}\n",
    "\n",
    "for i in range(len(simu_df)):\n",
    "    if df['close'][i] > df['signal'][i]:\n",
    "        action = 'buy'\n",
    "    elif df['close'][i] < df['signal'][i]:\n",
    "        action = 'sell'\n",
    "    else:\n",
    "        action = signal_dict['action'][-1]\n",
    "    \n",
    "    if i > 0:\n",
    "        if action != signal_dict['action'][-1]:\n",
    "            if last_action_price > 0:\n",
    "                if action == 'buy':\n",
    "                    profit = (last_action_price - df['close'][i]) * last_action_amount\n",
    "                elif action == 'sell':\n",
    "                    profit = (df['close'][i] - last_action_price) * last_action_amount\n",
    "\n",
    "            last_action_price = df['close'][i]\n",
    "            last_action_amount = round_down_amount(budget / last_action_price, decimal)\n",
    "            \n",
    "            budget += profit\n",
    "        else:\n",
    "            profit = 0\n",
    "    else:\n",
    "        profit = 0\n",
    "        \n",
    "    \n",
    "    if last_action_price > 0:\n",
    "        if action == 'buy':\n",
    "            drawdown = (df['low'][i] - last_action_price) / last_action_price\n",
    "        elif action == 'sell':\n",
    "            drawdown = (last_action_price - df['high'][i]) / last_action_price\n",
    "    else:\n",
    "        drawdown = 0\n",
    "        max_drawdown = 0\n",
    "        \n",
    "    signal_dict['action'].append(action)\n",
    "    signal_dict['action_price'].append(last_action_price)\n",
    "    signal_dict['budget'].append(budget)\n",
    "    signal_dict['profit'].append(profit)\n",
    "    signal_dict['drawdown'].append(drawdown)"
   ]
  },
  {
   "cell_type": "code",
   "execution_count": 30,
   "metadata": {},
   "outputs": [
    {
     "data": {
      "text/plain": [
       "148.3429999999998"
      ]
     },
     "execution_count": 30,
     "metadata": {},
     "output_type": "execute_result"
    }
   ],
   "source": [
    "budget"
   ]
  },
  {
   "cell_type": "code",
   "execution_count": 31,
   "metadata": {},
   "outputs": [],
   "source": [
    "for s in signal_dict.keys():\n",
    "    simu_df[s] = signal_dict[s]"
   ]
  },
  {
   "cell_type": "code",
   "execution_count": 32,
   "metadata": {},
   "outputs": [],
   "source": [
    "simu_df.to_csv('simulation.csv', index=False)"
   ]
  },
  {
   "cell_type": "markdown",
   "metadata": {},
   "source": [
    "### Viz "
   ]
  },
  {
   "cell_type": "code",
   "execution_count": 33,
   "metadata": {},
   "outputs": [],
   "source": [
    "import matplotlib.pyplot as plt"
   ]
  },
  {
   "cell_type": "code",
   "execution_count": 34,
   "metadata": {},
   "outputs": [
    {
     "data": {
      "text/plain": [
       "[<matplotlib.lines.Line2D at 0x153339a6e80>]"
      ]
     },
     "execution_count": 34,
     "metadata": {},
     "output_type": "execute_result"
    },
    {
     "data": {
      "image/png": "[encoded data removed]",
      "text/plain": [
       "<Figure size 2160x576 with 1 Axes>"
      ]
     },
     "metadata": {
      "needs_background": "light"
     },
     "output_type": "display_data"
    }
   ],
   "source": [
    "fig, ax = plt.subplots(figsize=(30, 8))\n",
    "ax.plot(simu_df['budget'])"
   ]
  },
  {
   "cell_type": "code",
   "execution_count": 35,
   "metadata": {},
   "outputs": [
    {
     "data": {
      "text/plain": [
       "(array([  1.,   0.,   0.,   0.,   0.,   0.,   0.,   0.,   0.,   0.,   0.,\n",
       "          0.,   0.,   0.,   0.,   0.,   0.,   0.,   0.,   0.,   0.,   0.,\n",
       "          0.,   0.,   0.,   0.,   0.,   0.,   0.,   0.,   0.,   0.,   0.,\n",
       "          0.,   0.,   0.,   0.,   0.,   0.,   0.,   0.,   0.,   0.,   0.,\n",
       "          0.,   0.,   0.,   0.,   0.,   0.,   0.,   0.,   0.,   0.,   0.,\n",
       "          0.,   0.,   0.,   0.,   0.,   0.,   0.,   0.,   0.,   0.,   0.,\n",
       "          0.,   0.,   0.,   0.,   0.,   0.,   0.,   0.,   0.,   0.,   0.,\n",
       "          0.,   0.,   1.,   0.,   0.,   0.,   0.,   0.,   0.,   0.,   0.,\n",
       "          0.,   0.,   0.,   0.,   0.,   0.,   0.,   0.,   0.,   0.,   0.,\n",
       "          0.,   0.,   0.,   0.,   0.,   0.,   0.,   0.,   0.,   0.,   0.,\n",
       "          0.,   0.,   0.,   0.,   0.,   0.,   0.,   0.,   0.,   0.,   0.,\n",
       "          0.,   0.,   0.,   0.,   0.,   0.,   0.,   0.,   0.,   0.,   0.,\n",
       "          0.,   0.,   0.,   0.,   0.,   0.,   0.,   0.,   1.,   0.,   1.,\n",
       "          0.,   0.,   0.,   1.,   0.,   0.,   0.,   0.,   0.,   0.,   0.,\n",
       "          0.,   0.,   2.,   0.,   0.,   0.,   0.,   0.,   0.,   1.,   0.,\n",
       "          1.,   0.,   2.,   0.,   0.,   1.,   0.,   0.,   0.,   0.,   1.,\n",
       "          0.,   2.,   0.,   0.,   2.,   1.,   0.,   0.,   0.,   0.,   3.,\n",
       "          0.,   0.,   0.,   0.,   1.,   1.,   0.,   0.,   3.,   1.,   0.,\n",
       "          0.,   2.,   1.,   1.,   2.,   1.,   0.,   1.,   1.,   2.,   1.,\n",
       "          1.,   0.,   2.,   4.,   0.,   0.,   1.,   2.,   2.,   2.,   7.,\n",
       "          4.,   2.,   2.,   5.,   3.,   7.,   5.,   5.,   5.,   9.,   8.,\n",
       "          7.,  11.,   9.,   8.,   9.,  10.,  12.,  14.,  12.,  17.,  12.,\n",
       "          8.,  14.,  20.,  25.,  19.,  14.,  31.,  30.,  32.,  29.,  47.,\n",
       "         30.,  32.,  52.,  45.,  55.,  54.,  65.,  62.,  76., 100., 123.,\n",
       "         97., 117., 157., 152., 184., 199., 190., 207., 259., 263., 278.,\n",
       "        303., 308., 315., 287., 261., 297., 336., 238., 202., 211., 206.,\n",
       "        226., 219., 212., 186., 196., 183., 175., 157., 158., 166., 162.,\n",
       "        170., 159., 139., 145., 142., 150., 142., 114., 144., 141., 129.,\n",
       "        138., 115., 137., 125., 128., 116., 120.,  96., 126., 127., 109.,\n",
       "        126., 101.,  94., 101.,  86.,  88.,  95., 101.,  97.,  85., 101.,\n",
       "        103.,  94.,  92.,  83.,  90.,  92.,  77.,  94.,  95.,  84., 109.,\n",
       "         92.,  68., 108.,  87.,  92.,  84.,  85.,  80.,  74.,  65.,  85.,\n",
       "         82.,  80.,  76.,  70.,  72.,  68.,  61.,  56.,  55.,  59.,  60.,\n",
       "         57.,  55.,  63.,  81.,  59.,  46.,  57.,  71.,  65.,  74.,  66.,\n",
       "         57.,  54.,  58.,  53.,  55.,  52.,  47.,  53.,  51.,  49.,  49.,\n",
       "         49.,  53.,  57.,  61.,  45.,  57.,  35.,  52.,  63.,  46.,  37.,\n",
       "         57.,  39.,  40.,  38.,  43.,  40.,  30.,  41.,  41.,  40.,  37.,\n",
       "         34.,  41.,  48.,  32.,  53.,  39.,  21.,  22.,  25.,  37.,  33.,\n",
       "         23.,  40.,  23.,  17.,  16.,  32.,  33.,  25.,  30.,  25.,  21.,\n",
       "         30.,  25.,  20.,  26.,  24.,  22.,  25.,  29.,  23.,  31.,  21.,\n",
       "         21.,  20.,  11.,  15.,  21.,  18.,  23.,  25.,  19.,  18.,  32.,\n",
       "         21.,  25.,  22.,  18.,  20.,  27.,  24.,  17.,  16.,  19.,  14.,\n",
       "         18.,  20.,  13.,  14.,  21.,  11.,  18.,  22.,  16.,  15.,   8.,\n",
       "         13.,  16.,  19.,  12.,   7.,  13.,  10.,  14.,   7.,  11.,  10.,\n",
       "         14.,   9.,   9.,  19.,   9.,  11.,  13.,   8.,   7.,  10.,  10.,\n",
       "          6.,   7.,  10.,  14.,   6.,   7.,  14.,   6.,  10.,   9.,  11.,\n",
       "         12.,   8.,   7.,   6.,   5.,   8.,   6.,   6.,   8.,   8.,   9.,\n",
       "          5.,   3.,   4.,   5.,   6.,  10.,   2.,   9.,   6.,   5.,   2.,\n",
       "         12.,   3.,   6.,   5.,   7.,   5.,   5.,   2.,   5.,   4.,   4.,\n",
       "          4.,   7.,   6.,   4.,   7.,   5.,   6.,   5.,   4.,   6.,   2.,\n",
       "          4.,   4.,   9.,   4.,   3.,   2.,   7.,   3.,   3.,   1.,   1.,\n",
       "          2.,   1.,   3.,   3.,   4.,   2.,   2.,   5.,   4.,   3.,   4.,\n",
       "          0.,   6.,   1.,   3.,   3.,   1.,   3.,   4.,   1.,   4.,   3.,\n",
       "          2.,   4.,   0.,   1.,   3.,   3.,   2.,   3.,   1.,   1.,   0.,\n",
       "          4.,   3.,   1.,   5.,   3.,   3.,   2.,   2.,   1.,   4.,   3.,\n",
       "          3.,   4.,   3.,   2.,   1.,   2.,   4.,   2.,   0.,   1.,   4.,\n",
       "          2.,   1.,   2.,   3.,   4.,   1.,   0.,   2.,   2.,   2.,   1.,\n",
       "          0.,   0.,   2.,   2.,   0.,   1.,   0.,   0.,   2.,   2.,   2.,\n",
       "          0.,   1.,   1.,   0.,   1.,   1.,   2.,   0.,   0.,   1.,   0.,\n",
       "          1.,   2.,   1.,   1.,   2.,   1.,   1.,   1.,   0.,   4.,   0.,\n",
       "          0.,   1.,   0.,   1.,   2.,   1.,   1.,   2.,   0.,   0.,   0.,\n",
       "          1.,   2.,   0.,   0.,   2.,   1.,   0.,   1.,   0.,   0.,   1.,\n",
       "          0.,   1.,   0.,   2.,   1.,   0.,   0.,   0.,   0.,   0.,   2.,\n",
       "          0.,   1.,   0.,   1.,   0.,   0.,   1.,   1.,   0.,   0.,   1.,\n",
       "          0.,   0.,   0.,   1.,   0.,   0.,   0.,   0.,   1.,   1.,   0.,\n",
       "          2.,   0.,   0.,   0.,   0.,   0.,   0.,   1.,   0.,   0.,   0.,\n",
       "          0.,   0.,   0.,   0.,   0.,   1.,   1.,   0.,   0.,   0.,   0.,\n",
       "          0.,   1.,   0.,   0.,   0.,   0.,   0.,   0.,   0.,   0.,   0.,\n",
       "          0.,   0.,   0.,   0.,   0.,   0.,   0.,   1.,   0.,   0.,   1.,\n",
       "          1.,   0.,   0.,   0.,   0.,   1.,   0.,   0.,   0.,   0.,   0.,\n",
       "          0.,   0.,   0.,   0.,   0.,   0.,   1.,   0.,   0.,   0.,   0.,\n",
       "          0.,   0.,   0.,   0.,   0.,   0.,   0.,   0.,   0.,   0.,   0.,\n",
       "          0.,   0.,   1.,   1.,   1.,   0.,   0.,   0.,   1.,   0.,   0.,\n",
       "          0.,   1.,   1.,   1.,   0.,   0.,   0.,   2.,   0.,   0.,   0.,\n",
       "          0.,   0.,   0.,   0.,   1.,   1.,   0.,   0.,   0.,   0.,   0.,\n",
       "          0.,   0.,   0.,   1.,   0.,   0.,   0.,   0.,   0.,   0.,   0.,\n",
       "          0.,   0.,   1.,   1.,   0.,   1.,   0.,   0.,   0.,   1.,   0.,\n",
       "          0.,   0.,   0.,   0.,   0.,   0.,   0.,   0.,   2.,   1.,   0.,\n",
       "          0.,   0.,   1.,   1.,   0.,   0.,   0.,   1.,   1.,   0.,   0.,\n",
       "          0.,   1.,   0.,   0.,   1.,   0.,   0.,   1.,   1.,   0.,   1.,\n",
       "          0.,   0.,   0.,   0.,   0.,   0.,   1.,   0.,   0.,   0.,   0.,\n",
       "          0.,   0.,   1.,   0.,   0.,   0.,   0.,   0.,   0.,   1.,   2.,\n",
       "          1.,   0.,   0.,   0.,   0.,   0.,   0.,   0.,   0.,   0.,   1.,\n",
       "          0.,   0.,   0.,   0.,   0.,   0.,   0.,   0.,   0.,   2.,   0.,\n",
       "          0.,   0.,   0.,   0.,   0.,   0.,   0.,   0.,   0.,   0.,   0.,\n",
       "          0.,   0.,   0.,   0.,   0.,   0.,   0.,   0.,   0.,   0.,   0.,\n",
       "          0.,   0.,   0.,   0.,   0.,   0.,   0.,   0.,   0.,   0.,   0.,\n",
       "          0.,   0.,   0.,   0.,   2.,   0.,   0.,   2.,   0.,   0.,   0.,\n",
       "          0.,   0.,   0.,   0.,   0.,   0.,   0.,   0.,   0.,   0.,   0.,\n",
       "          0.,   0.,   0.,   0.,   0.,   0.,   0.,   0.,   0.,   0.,   0.,\n",
       "          0.,   1.,   0.,   0.,   0.,   0.,   0.,   0.,   0.,   1.]),\n",
       " array([-0.12456296, -0.12412036, -0.12367777, ...,  0.31714855,\n",
       "         0.31759115,  0.31803374]),\n",
       " <BarContainer object of 1000 artists>)"
      ]
     },
     "execution_count": 35,
     "metadata": {},
     "output_type": "execute_result"
    },
    {
     "data": {
      "image/png": "[encoded data removed]",
      "text/plain": [
       "<Figure size 2160x576 with 1 Axes>"
      ]
     },
     "metadata": {
      "needs_background": "light"
     },
     "output_type": "display_data"
    }
   ],
   "source": [
    "fig, ax = plt.subplots(figsize=(30,8))\n",
    "ax.hist(simu_df['drawdown'], bins=1000)"
   ]
  },
  {
   "cell_type": "code",
   "execution_count": 36,
   "metadata": {},
   "outputs": [
    {
     "data": {
      "text/plain": [
       "count    19727.000000\n",
       "mean         0.021731\n",
       "std          0.032513\n",
       "min         -0.124563\n",
       "25%         -0.000395\n",
       "50%          0.011694\n",
       "75%          0.034789\n",
       "max          0.318034\n",
       "Name: drawdown, dtype: float64"
      ]
     },
     "execution_count": 36,
     "metadata": {},
     "output_type": "execute_result"
    }
   ],
   "source": [
    "simu_df['drawdown'].describe()"
   ]
  }
 ],
 "metadata": {
  "kernelspec": {
   "display_name": "Python 3",
   "language": "python",
   "name": "python3"
  },
  "language_info": {
   "codemirror_mode": {
    "name": "ipython",
    "version": 3
   },
   "file_extension": ".py",
   "mimetype": "text/x-python",
   "name": "python",
   "nbconvert_exporter": "python",
   "pygments_lexer": "ipython3",
   "version": "3.8.8"
  }
 },
 "nbformat": 4,
 "nbformat_minor": 4
}
