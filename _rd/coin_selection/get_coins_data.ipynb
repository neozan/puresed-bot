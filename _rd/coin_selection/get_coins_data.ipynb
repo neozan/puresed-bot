{
 "cells": [
  {
   "cell_type": "code",
   "execution_count": 1,
   "metadata": {},
   "outputs": [],
   "source": [
    "import numpy as np\n",
    "import pandas as pd\n",
    "import datetime as dt\n",
    "from dateutil import tz\n",
    "import json\n",
    "import ccxt"
   ]
  },
  {
   "cell_type": "code",
   "execution_count": 2,
   "metadata": {},
   "outputs": [],
   "source": [
    "def convert_tz(utc):\n",
    "    from_zone = tz.tzutc()\n",
    "    to_zone = tz.tzlocal()\n",
    "    utc = utc.replace(tzinfo=from_zone).astimezone(to_zone)\n",
    "    \n",
    "    return utc"
   ]
  },
  {
   "cell_type": "code",
   "execution_count": 3,
   "metadata": {},
   "outputs": [],
   "source": [
    "def get_date_list(start_date, end_date=None):\n",
    "    '''\n",
    "    Generate list of date to fetch 1 day iteration from fetch_ohlcv.\n",
    "    '''\n",
    "    if end_date == None:\n",
    "        end_date = dt.date.today()\n",
    "    \n",
    "    num_day = (end_date - start_date).days\n",
    "    date_list = [dt.date.today() - dt.timedelta(days = x) for x in range(num_day, 0, -1)]\n",
    "    \n",
    "    return date_list"
   ]
  },
  {
   "cell_type": "code",
   "execution_count": 4,
   "metadata": {},
   "outputs": [],
   "source": [
    "def get_js_date(dt_date):\n",
    "    '''\n",
    "    Transform dt.datetime to JavaScript format.\n",
    "    '''\n",
    "    dt_datetime = dt.datetime(dt_date.year, dt_date.month, dt_date.day)\n",
    "    js_datetime = dt_datetime.timestamp() * 1000\n",
    "    \n",
    "    return js_datetime"
   ]
  },
  {
   "cell_type": "code",
   "execution_count": 5,
   "metadata": {},
   "outputs": [],
   "source": [
    "def get_ohlcv(symbol, date_list, timeframe, limit):\n",
    "    df = pd.DataFrame(columns = ['time', 'open', 'high', 'low', 'close', 'volume'])\n",
    "\n",
    "    for i in range(len(date_list)):\n",
    "        since = get_ts_date(date_list[i])\n",
    "        ohlcv = exchange.fetch_ohlcv(symbol, timeframe, since, limit)\n",
    "        temp_df = pd.DataFrame(ohlcv)\n",
    "        temp_df.columns = [['time', 'open', 'high', 'low', 'close', 'volume']]\n",
    "        temp_df['time'] = pd.to_datetime(temp_df['time'], unit='ms')\n",
    "        temp_df['time'] = temp_df['time'].apply(lambda x: convert_tz(x))\n",
    "\n",
    "        df = pd.concat([df, temp_df])\n",
    "\n",
    "    df = df.reset_index(drop = True)\n",
    "\n",
    "    return df"
   ]
  },
  {
   "cell_type": "markdown",
   "metadata": {},
   "source": [
    "### Config "
   ]
  },
  {
   "cell_type": "code",
   "execution_count": 6,
   "metadata": {},
   "outputs": [],
   "source": [
    "with open('../../../_keys/ftx/ftx_main_keys.json') as keys_file:\n",
    "    keys_dict = json.load(keys_file)"
   ]
  },
  {
   "cell_type": "code",
   "execution_count": 7,
   "metadata": {},
   "outputs": [],
   "source": [
    "exchange = ccxt.ftx({'apiKey': keys_dict['apiKey'],\n",
    "                     'secret': keys_dict['secret'],\n",
    "                     'enableRateLimit': True})"
   ]
  },
  {
   "cell_type": "code",
   "execution_count": 8,
   "metadata": {},
   "outputs": [],
   "source": [
    "file_path = 'data'"
   ]
  },
  {
   "cell_type": "code",
   "execution_count": 10,
   "metadata": {},
   "outputs": [],
   "source": [
    "timeframe = '1m'\n",
    "limit = 60 * 24"
   ]
  },
  {
   "cell_type": "markdown",
   "metadata": {},
   "source": [
    "### Get data"
   ]
  },
  {
   "cell_type": "code",
   "execution_count": 27,
   "metadata": {},
   "outputs": [],
   "source": [
    "base_currency = 'BTC'\n",
    "quote_currency = 'USDT'"
   ]
  },
  {
   "cell_type": "code",
   "execution_count": 28,
   "metadata": {},
   "outputs": [],
   "source": [
    "start_date = dt.date(2021, 1, 1)\n",
    "date_list = get_date_list(start_date)"
   ]
  },
  {
   "cell_type": "code",
   "execution_count": 29,
   "metadata": {},
   "outputs": [],
   "source": [
    "symbol = '{}/{}'.format(base_currency, quote_currency)\n",
    "df = get_ohlcv(symbol, date_list, timeframe, limit)"
   ]
  },
  {
   "cell_type": "code",
   "execution_count": 30,
   "metadata": {},
   "outputs": [],
   "source": [
    "df.to_csv('{}/{}-{}.csv'.format(file_path, base_currency, quote_currency), index=False)"
   ]
  }
 ],
 "metadata": {
  "kernelspec": {
   "display_name": "Python 3",
   "language": "python",
   "name": "python3"
  },
  "language_info": {
   "codemirror_mode": {
    "name": "ipython",
    "version": 3
   },
   "file_extension": ".py",
   "mimetype": "text/x-python",
   "name": "python",
   "nbconvert_exporter": "python",
   "pygments_lexer": "ipython3",
   "version": "3.8.8"
  }
 },
 "nbformat": 4,
 "nbformat_minor": 4
}
