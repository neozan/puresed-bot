{
 "cells": [
  {
   "cell_type": "code",
   "execution_count": 1,
   "metadata": {},
   "outputs": [],
   "source": [
    "import numpy as np\n",
    "import pandas as pd\n",
    "import datetime as dt\n",
    "from dateutil import tz\n",
    "import json\n",
    "import ccxt"
   ]
  },
  {
   "cell_type": "code",
   "execution_count": 2,
   "metadata": {},
   "outputs": [],
   "source": [
    "def convert_tz(utc):\n",
    "    from_zone = tz.tzutc()\n",
    "    to_zone = tz.tzlocal()\n",
    "    utc = utc.replace(tzinfo=from_zone).astimezone(to_zone)\n",
    "    \n",
    "    return utc"
   ]
  },
  {
   "cell_type": "markdown",
   "metadata": {},
   "source": [
    "### Config "
   ]
  },
  {
   "cell_type": "code",
   "execution_count": 3,
   "metadata": {},
   "outputs": [],
   "source": [
    "with open('_keys/binance_keys.json') as keys_file:\n",
    "    keys_dict = json.load(keys_file)\n",
    "exchange = ccxt.binance(keys_dict)"
   ]
  },
  {
   "cell_type": "code",
   "execution_count": 4,
   "metadata": {},
   "outputs": [],
   "source": [
    "symbol = 'ETH/USDT'\n",
    "timeframe = '15m'\n",
    "since = None\n",
    "limit = 100"
   ]
  },
  {
   "cell_type": "markdown",
   "metadata": {},
   "source": [
    "### Ticker"
   ]
  },
  {
   "cell_type": "code",
   "execution_count": 5,
   "metadata": {},
   "outputs": [],
   "source": [
    "ticker = exchange.fetch_ticker(symbol)"
   ]
  },
  {
   "cell_type": "code",
   "execution_count": 6,
   "metadata": {},
   "outputs": [
    {
     "data": {
      "text/plain": [
       "2487.77"
      ]
     },
     "execution_count": 6,
     "metadata": {},
     "output_type": "execute_result"
    }
   ],
   "source": [
    "ticker['last']"
   ]
  },
  {
   "cell_type": "markdown",
   "metadata": {},
   "source": [
    "### OHLCV"
   ]
  },
  {
   "cell_type": "code",
   "execution_count": 7,
   "metadata": {},
   "outputs": [],
   "source": [
    "ohlcv = exchange.fetch_ohlcv(symbol, timeframe, since, limit)"
   ]
  },
  {
   "cell_type": "code",
   "execution_count": 8,
   "metadata": {},
   "outputs": [],
   "source": [
    "df = pd.DataFrame(ohlcv)\n",
    "df.columns = ['Time', 'Open', 'High', 'Low', 'Close', 'Volume']\n",
    "df['Time'] = pd.to_datetime(df['Time'], unit = 'ms')\n",
    "df['Time'] = df['Time'].apply(lambda x: convert_tz(x))"
   ]
  },
  {
   "cell_type": "code",
   "execution_count": 9,
   "metadata": {},
   "outputs": [
    {
     "data": {
      "text/html": [
       "<div>\n",
       "<style scoped>\n",
       "    .dataframe tbody tr th:only-of-type {\n",
       "        vertical-align: middle;\n",
       "    }\n",
       "\n",
       "    .dataframe tbody tr th {\n",
       "        vertical-align: top;\n",
       "    }\n",
       "\n",
       "    .dataframe thead th {\n",
       "        text-align: right;\n",
       "    }\n",
       "</style>\n",
       "<table border=\"1\" class=\"dataframe\">\n",
       "  <thead>\n",
       "    <tr style=\"text-align: right;\">\n",
       "      <th></th>\n",
       "      <th>Time</th>\n",
       "      <th>Open</th>\n",
       "      <th>High</th>\n",
       "      <th>Low</th>\n",
       "      <th>Close</th>\n",
       "      <th>Volume</th>\n",
       "    </tr>\n",
       "  </thead>\n",
       "  <tbody>\n",
       "    <tr>\n",
       "      <th>0</th>\n",
       "      <td>2021-04-25 16:45:00+07:00</td>\n",
       "      <td>2205.17</td>\n",
       "      <td>2257.93</td>\n",
       "      <td>2203.36</td>\n",
       "      <td>2255.04</td>\n",
       "      <td>16658.32162</td>\n",
       "    </tr>\n",
       "    <tr>\n",
       "      <th>1</th>\n",
       "      <td>2021-04-25 17:00:00+07:00</td>\n",
       "      <td>2255.04</td>\n",
       "      <td>2288.72</td>\n",
       "      <td>2235.38</td>\n",
       "      <td>2282.51</td>\n",
       "      <td>21214.32605</td>\n",
       "    </tr>\n",
       "    <tr>\n",
       "      <th>2</th>\n",
       "      <td>2021-04-25 17:15:00+07:00</td>\n",
       "      <td>2282.12</td>\n",
       "      <td>2289.58</td>\n",
       "      <td>2267.99</td>\n",
       "      <td>2278.93</td>\n",
       "      <td>12978.45257</td>\n",
       "    </tr>\n",
       "    <tr>\n",
       "      <th>3</th>\n",
       "      <td>2021-04-25 17:30:00+07:00</td>\n",
       "      <td>2278.96</td>\n",
       "      <td>2281.35</td>\n",
       "      <td>2256.74</td>\n",
       "      <td>2265.27</td>\n",
       "      <td>11914.64678</td>\n",
       "    </tr>\n",
       "    <tr>\n",
       "      <th>4</th>\n",
       "      <td>2021-04-25 17:45:00+07:00</td>\n",
       "      <td>2265.19</td>\n",
       "      <td>2269.45</td>\n",
       "      <td>2250.03</td>\n",
       "      <td>2259.50</td>\n",
       "      <td>9095.96544</td>\n",
       "    </tr>\n",
       "    <tr>\n",
       "      <th>...</th>\n",
       "      <td>...</td>\n",
       "      <td>...</td>\n",
       "      <td>...</td>\n",
       "      <td>...</td>\n",
       "      <td>...</td>\n",
       "      <td>...</td>\n",
       "    </tr>\n",
       "    <tr>\n",
       "      <th>95</th>\n",
       "      <td>2021-04-26 16:30:00+07:00</td>\n",
       "      <td>2425.78</td>\n",
       "      <td>2448.79</td>\n",
       "      <td>2424.82</td>\n",
       "      <td>2448.18</td>\n",
       "      <td>5309.74615</td>\n",
       "    </tr>\n",
       "    <tr>\n",
       "      <th>96</th>\n",
       "      <td>2021-04-26 16:45:00+07:00</td>\n",
       "      <td>2448.18</td>\n",
       "      <td>2485.00</td>\n",
       "      <td>2446.69</td>\n",
       "      <td>2483.23</td>\n",
       "      <td>22540.86718</td>\n",
       "    </tr>\n",
       "    <tr>\n",
       "      <th>97</th>\n",
       "      <td>2021-04-26 17:00:00+07:00</td>\n",
       "      <td>2483.38</td>\n",
       "      <td>2485.00</td>\n",
       "      <td>2468.29</td>\n",
       "      <td>2479.04</td>\n",
       "      <td>13736.58850</td>\n",
       "    </tr>\n",
       "    <tr>\n",
       "      <th>98</th>\n",
       "      <td>2021-04-26 17:15:00+07:00</td>\n",
       "      <td>2479.04</td>\n",
       "      <td>2496.90</td>\n",
       "      <td>2473.29</td>\n",
       "      <td>2495.31</td>\n",
       "      <td>15250.75645</td>\n",
       "    </tr>\n",
       "    <tr>\n",
       "      <th>99</th>\n",
       "      <td>2021-04-26 17:30:00+07:00</td>\n",
       "      <td>2495.17</td>\n",
       "      <td>2495.45</td>\n",
       "      <td>2487.76</td>\n",
       "      <td>2487.76</td>\n",
       "      <td>1684.91606</td>\n",
       "    </tr>\n",
       "  </tbody>\n",
       "</table>\n",
       "<p>100 rows × 6 columns</p>\n",
       "</div>"
      ],
      "text/plain": [
       "                        Time     Open     High      Low    Close       Volume\n",
       "0  2021-04-25 16:45:00+07:00  2205.17  2257.93  2203.36  2255.04  16658.32162\n",
       "1  2021-04-25 17:00:00+07:00  2255.04  2288.72  2235.38  2282.51  21214.32605\n",
       "2  2021-04-25 17:15:00+07:00  2282.12  2289.58  2267.99  2278.93  12978.45257\n",
       "3  2021-04-25 17:30:00+07:00  2278.96  2281.35  2256.74  2265.27  11914.64678\n",
       "4  2021-04-25 17:45:00+07:00  2265.19  2269.45  2250.03  2259.50   9095.96544\n",
       "..                       ...      ...      ...      ...      ...          ...\n",
       "95 2021-04-26 16:30:00+07:00  2425.78  2448.79  2424.82  2448.18   5309.74615\n",
       "96 2021-04-26 16:45:00+07:00  2448.18  2485.00  2446.69  2483.23  22540.86718\n",
       "97 2021-04-26 17:00:00+07:00  2483.38  2485.00  2468.29  2479.04  13736.58850\n",
       "98 2021-04-26 17:15:00+07:00  2479.04  2496.90  2473.29  2495.31  15250.75645\n",
       "99 2021-04-26 17:30:00+07:00  2495.17  2495.45  2487.76  2487.76   1684.91606\n",
       "\n",
       "[100 rows x 6 columns]"
      ]
     },
     "execution_count": 9,
     "metadata": {},
     "output_type": "execute_result"
    }
   ],
   "source": [
    "df"
   ]
  },
  {
   "cell_type": "markdown",
   "metadata": {},
   "source": [
    "### Order"
   ]
  },
  {
   "cell_type": "code",
   "execution_count": 10,
   "metadata": {},
   "outputs": [],
   "source": [
    "open_orders = exchange.fetch_open_orders(symbol)"
   ]
  },
  {
   "cell_type": "code",
   "execution_count": 11,
   "metadata": {},
   "outputs": [
    {
     "data": {
      "text/plain": [
       "[{'info': {'symbol': 'ETHUSDT',\n",
       "   'orderId': '3759243158',\n",
       "   'orderListId': '-1',\n",
       "   'clientOrderId': 'and_23bf96d909cc4f07b1bf37f08c5ff9ce',\n",
       "   'price': '2600.00000000',\n",
       "   'origQty': '0.32281000',\n",
       "   'executedQty': '0.00000000',\n",
       "   'cummulativeQuoteQty': '0.00000000',\n",
       "   'status': 'NEW',\n",
       "   'timeInForce': 'GTC',\n",
       "   'type': 'LIMIT',\n",
       "   'side': 'SELL',\n",
       "   'stopPrice': '0.00000000',\n",
       "   'icebergQty': '0.00000000',\n",
       "   'time': '1619410920145',\n",
       "   'updateTime': '1619410920145',\n",
       "   'isWorking': True,\n",
       "   'origQuoteOrderQty': '0.00000000'},\n",
       "  'id': '3759243158',\n",
       "  'clientOrderId': 'and_23bf96d909cc4f07b1bf37f08c5ff9ce',\n",
       "  'timestamp': 1619410920145,\n",
       "  'datetime': '2021-04-26T04:22:00.145Z',\n",
       "  'lastTradeTimestamp': None,\n",
       "  'symbol': 'ETH/USDT',\n",
       "  'type': 'limit',\n",
       "  'timeInForce': 'GTC',\n",
       "  'postOnly': False,\n",
       "  'side': 'sell',\n",
       "  'price': 2600.0,\n",
       "  'stopPrice': 0.0,\n",
       "  'amount': 0.32281,\n",
       "  'cost': 0.0,\n",
       "  'average': None,\n",
       "  'filled': 0.0,\n",
       "  'remaining': 0.32281,\n",
       "  'status': 'open',\n",
       "  'fee': None,\n",
       "  'trades': [],\n",
       "  'fees': []}]"
      ]
     },
     "execution_count": 11,
     "metadata": {},
     "output_type": "execute_result"
    }
   ],
   "source": [
    "open_orders"
   ]
  },
  {
   "cell_type": "code",
   "execution_count": 12,
   "metadata": {},
   "outputs": [],
   "source": [
    "order_type = 'limit'\n",
    "side = 'buy'\n",
    "amount = 0.1\n",
    "price = 1500\n",
    "\n",
    "order = exchange.create_order(symbol, order_type, side, amount, price)"
   ]
  },
  {
   "cell_type": "code",
   "execution_count": 13,
   "metadata": {},
   "outputs": [
    {
     "data": {
      "text/plain": [
       "{'info': {'symbol': 'ETHUSDT',\n",
       "  'orderId': '3762873269',\n",
       "  'orderListId': '-1',\n",
       "  'clientOrderId': 'x-R4BD3S8287f94c7d1ccaf84b59ed05',\n",
       "  'transactTime': '1619433128006',\n",
       "  'price': '1500.00000000',\n",
       "  'origQty': '0.10000000',\n",
       "  'executedQty': '0.00000000',\n",
       "  'cummulativeQuoteQty': '0.00000000',\n",
       "  'status': 'NEW',\n",
       "  'timeInForce': 'GTC',\n",
       "  'type': 'LIMIT',\n",
       "  'side': 'BUY',\n",
       "  'fills': []},\n",
       " 'id': '3762873269',\n",
       " 'clientOrderId': 'x-R4BD3S8287f94c7d1ccaf84b59ed05',\n",
       " 'timestamp': 1619433128006,\n",
       " 'datetime': '2021-04-26T10:32:08.006Z',\n",
       " 'lastTradeTimestamp': None,\n",
       " 'symbol': 'ETH/USDT',\n",
       " 'type': 'limit',\n",
       " 'timeInForce': 'GTC',\n",
       " 'postOnly': False,\n",
       " 'side': 'buy',\n",
       " 'price': 1500.0,\n",
       " 'stopPrice': None,\n",
       " 'amount': 0.1,\n",
       " 'cost': 0.0,\n",
       " 'average': None,\n",
       " 'filled': 0.0,\n",
       " 'remaining': 0.1,\n",
       " 'status': 'open',\n",
       " 'fee': None,\n",
       " 'trades': [],\n",
       " 'fees': []}"
      ]
     },
     "execution_count": 13,
     "metadata": {},
     "output_type": "execute_result"
    }
   ],
   "source": [
    "order"
   ]
  },
  {
   "cell_type": "code",
   "execution_count": 14,
   "metadata": {},
   "outputs": [],
   "source": [
    "open_orders = exchange.fetch_open_orders(symbol)"
   ]
  },
  {
   "cell_type": "code",
   "execution_count": 15,
   "metadata": {},
   "outputs": [
    {
     "data": {
      "text/plain": [
       "[{'info': {'symbol': 'ETHUSDT',\n",
       "   'orderId': '3759243158',\n",
       "   'orderListId': '-1',\n",
       "   'clientOrderId': 'and_23bf96d909cc4f07b1bf37f08c5ff9ce',\n",
       "   'price': '2600.00000000',\n",
       "   'origQty': '0.32281000',\n",
       "   'executedQty': '0.00000000',\n",
       "   'cummulativeQuoteQty': '0.00000000',\n",
       "   'status': 'NEW',\n",
       "   'timeInForce': 'GTC',\n",
       "   'type': 'LIMIT',\n",
       "   'side': 'SELL',\n",
       "   'stopPrice': '0.00000000',\n",
       "   'icebergQty': '0.00000000',\n",
       "   'time': '1619410920145',\n",
       "   'updateTime': '1619410920145',\n",
       "   'isWorking': True,\n",
       "   'origQuoteOrderQty': '0.00000000'},\n",
       "  'id': '3759243158',\n",
       "  'clientOrderId': 'and_23bf96d909cc4f07b1bf37f08c5ff9ce',\n",
       "  'timestamp': 1619410920145,\n",
       "  'datetime': '2021-04-26T04:22:00.145Z',\n",
       "  'lastTradeTimestamp': None,\n",
       "  'symbol': 'ETH/USDT',\n",
       "  'type': 'limit',\n",
       "  'timeInForce': 'GTC',\n",
       "  'postOnly': False,\n",
       "  'side': 'sell',\n",
       "  'price': 2600.0,\n",
       "  'stopPrice': 0.0,\n",
       "  'amount': 0.32281,\n",
       "  'cost': 0.0,\n",
       "  'average': None,\n",
       "  'filled': 0.0,\n",
       "  'remaining': 0.32281,\n",
       "  'status': 'open',\n",
       "  'fee': None,\n",
       "  'trades': [],\n",
       "  'fees': []}]"
      ]
     },
     "execution_count": 15,
     "metadata": {},
     "output_type": "execute_result"
    }
   ],
   "source": [
    "open_orders"
   ]
  },
  {
   "cell_type": "code",
   "execution_count": 16,
   "metadata": {},
   "outputs": [],
   "source": [
    "order = exchange.cancel_order (order['id'], symbol)"
   ]
  },
  {
   "cell_type": "code",
   "execution_count": 17,
   "metadata": {},
   "outputs": [
    {
     "data": {
      "text/plain": [
       "{'info': {'symbol': 'ETHUSDT',\n",
       "  'origClientOrderId': 'x-R4BD3S8287f94c7d1ccaf84b59ed05',\n",
       "  'orderId': '3762873269',\n",
       "  'orderListId': '-1',\n",
       "  'clientOrderId': 'b461RnwG0DHNoG9vU4plSz',\n",
       "  'price': '1500.00000000',\n",
       "  'origQty': '0.10000000',\n",
       "  'executedQty': '0.00000000',\n",
       "  'cummulativeQuoteQty': '0.00000000',\n",
       "  'status': 'CANCELED',\n",
       "  'timeInForce': 'GTC',\n",
       "  'type': 'LIMIT',\n",
       "  'side': 'BUY'},\n",
       " 'id': '3762873269',\n",
       " 'clientOrderId': 'b461RnwG0DHNoG9vU4plSz',\n",
       " 'timestamp': None,\n",
       " 'datetime': None,\n",
       " 'lastTradeTimestamp': None,\n",
       " 'symbol': 'ETH/USDT',\n",
       " 'type': 'limit',\n",
       " 'timeInForce': 'GTC',\n",
       " 'postOnly': False,\n",
       " 'side': 'buy',\n",
       " 'price': 1500.0,\n",
       " 'stopPrice': None,\n",
       " 'amount': 0.1,\n",
       " 'cost': 0.0,\n",
       " 'average': None,\n",
       " 'filled': 0.0,\n",
       " 'remaining': 0.1,\n",
       " 'status': 'canceled',\n",
       " 'fee': None,\n",
       " 'trades': [],\n",
       " 'fees': []}"
      ]
     },
     "execution_count": 17,
     "metadata": {},
     "output_type": "execute_result"
    }
   ],
   "source": [
    "order"
   ]
  },
  {
   "cell_type": "code",
   "execution_count": 18,
   "metadata": {},
   "outputs": [],
   "source": [
    "open_orders = exchange.fetch_open_orders(symbol)"
   ]
  },
  {
   "cell_type": "code",
   "execution_count": 19,
   "metadata": {},
   "outputs": [
    {
     "data": {
      "text/plain": [
       "[{'info': {'symbol': 'ETHUSDT',\n",
       "   'orderId': '3759243158',\n",
       "   'orderListId': '-1',\n",
       "   'clientOrderId': 'and_23bf96d909cc4f07b1bf37f08c5ff9ce',\n",
       "   'price': '2600.00000000',\n",
       "   'origQty': '0.32281000',\n",
       "   'executedQty': '0.00000000',\n",
       "   'cummulativeQuoteQty': '0.00000000',\n",
       "   'status': 'NEW',\n",
       "   'timeInForce': 'GTC',\n",
       "   'type': 'LIMIT',\n",
       "   'side': 'SELL',\n",
       "   'stopPrice': '0.00000000',\n",
       "   'icebergQty': '0.00000000',\n",
       "   'time': '1619410920145',\n",
       "   'updateTime': '1619410920145',\n",
       "   'isWorking': True,\n",
       "   'origQuoteOrderQty': '0.00000000'},\n",
       "  'id': '3759243158',\n",
       "  'clientOrderId': 'and_23bf96d909cc4f07b1bf37f08c5ff9ce',\n",
       "  'timestamp': 1619410920145,\n",
       "  'datetime': '2021-04-26T04:22:00.145Z',\n",
       "  'lastTradeTimestamp': None,\n",
       "  'symbol': 'ETH/USDT',\n",
       "  'type': 'limit',\n",
       "  'timeInForce': 'GTC',\n",
       "  'postOnly': False,\n",
       "  'side': 'sell',\n",
       "  'price': 2600.0,\n",
       "  'stopPrice': 0.0,\n",
       "  'amount': 0.32281,\n",
       "  'cost': 0.0,\n",
       "  'average': None,\n",
       "  'filled': 0.0,\n",
       "  'remaining': 0.32281,\n",
       "  'status': 'open',\n",
       "  'fee': None,\n",
       "  'trades': [],\n",
       "  'fees': []},\n",
       " {'info': {'symbol': 'ETHUSDT',\n",
       "   'orderId': '3762873269',\n",
       "   'orderListId': '-1',\n",
       "   'clientOrderId': 'x-R4BD3S8287f94c7d1ccaf84b59ed05',\n",
       "   'price': '1500.00000000',\n",
       "   'origQty': '0.10000000',\n",
       "   'executedQty': '0.00000000',\n",
       "   'cummulativeQuoteQty': '0.00000000',\n",
       "   'status': 'NEW',\n",
       "   'timeInForce': 'GTC',\n",
       "   'type': 'LIMIT',\n",
       "   'side': 'BUY',\n",
       "   'stopPrice': '0.00000000',\n",
       "   'icebergQty': '0.00000000',\n",
       "   'time': '1619433128006',\n",
       "   'updateTime': '1619433128006',\n",
       "   'isWorking': True,\n",
       "   'origQuoteOrderQty': '0.00000000'},\n",
       "  'id': '3762873269',\n",
       "  'clientOrderId': 'x-R4BD3S8287f94c7d1ccaf84b59ed05',\n",
       "  'timestamp': 1619433128006,\n",
       "  'datetime': '2021-04-26T10:32:08.006Z',\n",
       "  'lastTradeTimestamp': None,\n",
       "  'symbol': 'ETH/USDT',\n",
       "  'type': 'limit',\n",
       "  'timeInForce': 'GTC',\n",
       "  'postOnly': False,\n",
       "  'side': 'buy',\n",
       "  'price': 1500.0,\n",
       "  'stopPrice': 0.0,\n",
       "  'amount': 0.1,\n",
       "  'cost': 0.0,\n",
       "  'average': None,\n",
       "  'filled': 0.0,\n",
       "  'remaining': 0.1,\n",
       "  'status': 'open',\n",
       "  'fee': None,\n",
       "  'trades': [],\n",
       "  'fees': []}]"
      ]
     },
     "execution_count": 19,
     "metadata": {},
     "output_type": "execute_result"
    }
   ],
   "source": [
    "open_orders"
   ]
  },
  {
   "cell_type": "code",
   "execution_count": 20,
   "metadata": {},
   "outputs": [],
   "source": [
    "test_symbol = 'LUNA/USDT'\n",
    "closed_order = exchange.fetch_closed_orders(test_symbol)"
   ]
  },
  {
   "cell_type": "code",
   "execution_count": 21,
   "metadata": {},
   "outputs": [
    {
     "data": {
      "text/plain": [
       "[{'info': {'symbol': 'LUNAUSDT',\n",
       "   'orderId': '141612146',\n",
       "   'orderListId': '-1',\n",
       "   'clientOrderId': 'and_3b0684b6248f41349b5c24de5b06cbdf',\n",
       "   'price': '13.63810000',\n",
       "   'origQty': '49.16000000',\n",
       "   'executedQty': '49.16000000',\n",
       "   'cummulativeQuoteQty': '670.44899600',\n",
       "   'status': 'FILLED',\n",
       "   'timeInForce': 'GTC',\n",
       "   'type': 'LIMIT',\n",
       "   'side': 'BUY',\n",
       "   'stopPrice': '0.00000000',\n",
       "   'icebergQty': '0.00000000',\n",
       "   'time': '1619069139146',\n",
       "   'updateTime': '1619069195122',\n",
       "   'isWorking': True,\n",
       "   'origQuoteOrderQty': '0.00000000'},\n",
       "  'id': '141612146',\n",
       "  'clientOrderId': 'and_3b0684b6248f41349b5c24de5b06cbdf',\n",
       "  'timestamp': 1619069139146,\n",
       "  'datetime': '2021-04-22T05:25:39.146Z',\n",
       "  'lastTradeTimestamp': None,\n",
       "  'symbol': 'LUNA/USDT',\n",
       "  'type': 'limit',\n",
       "  'timeInForce': 'GTC',\n",
       "  'postOnly': False,\n",
       "  'side': 'buy',\n",
       "  'price': 13.6381,\n",
       "  'stopPrice': 0.0,\n",
       "  'amount': 49.16,\n",
       "  'cost': 670.448996,\n",
       "  'average': 13.6381,\n",
       "  'filled': 49.16,\n",
       "  'remaining': 0.0,\n",
       "  'status': 'closed',\n",
       "  'fee': None,\n",
       "  'trades': [],\n",
       "  'fees': []},\n",
       " {'info': {'symbol': 'LUNAUSDT',\n",
       "   'orderId': '148291513',\n",
       "   'orderListId': '-1',\n",
       "   'clientOrderId': 'web_ad35a3e0accb44ed82efe4752e738f9c',\n",
       "   'price': '17.80000000',\n",
       "   'origQty': '49.11000000',\n",
       "   'executedQty': '49.11000000',\n",
       "   'cummulativeQuoteQty': '874.25622000',\n",
       "   'status': 'FILLED',\n",
       "   'timeInForce': 'GTC',\n",
       "   'type': 'LIMIT',\n",
       "   'side': 'SELL',\n",
       "   'stopPrice': '0.00000000',\n",
       "   'icebergQty': '0.00000000',\n",
       "   'time': '1619364520823',\n",
       "   'updateTime': '1619364520823',\n",
       "   'isWorking': True,\n",
       "   'origQuoteOrderQty': '0.00000000'},\n",
       "  'id': '148291513',\n",
       "  'clientOrderId': 'web_ad35a3e0accb44ed82efe4752e738f9c',\n",
       "  'timestamp': 1619364520823,\n",
       "  'datetime': '2021-04-25T15:28:40.823Z',\n",
       "  'lastTradeTimestamp': None,\n",
       "  'symbol': 'LUNA/USDT',\n",
       "  'type': 'limit',\n",
       "  'timeInForce': 'GTC',\n",
       "  'postOnly': False,\n",
       "  'side': 'sell',\n",
       "  'price': 17.8,\n",
       "  'stopPrice': 0.0,\n",
       "  'amount': 49.11,\n",
       "  'cost': 874.25622,\n",
       "  'average': 17.802,\n",
       "  'filled': 49.11,\n",
       "  'remaining': 0.0,\n",
       "  'status': 'closed',\n",
       "  'fee': None,\n",
       "  'trades': [],\n",
       "  'fees': []}]"
      ]
     },
     "execution_count": 21,
     "metadata": {},
     "output_type": "execute_result"
    }
   ],
   "source": [
    "closed_order"
   ]
  },
  {
   "cell_type": "code",
   "execution_count": 22,
   "metadata": {},
   "outputs": [],
   "source": [
    "test_id = '148291513'\n",
    "status = [x for x in closed_order if x['id'] == test_id][0]['status']"
   ]
  },
  {
   "cell_type": "markdown",
   "metadata": {},
   "source": [
    "### Balance"
   ]
  },
  {
   "cell_type": "code",
   "execution_count": 23,
   "metadata": {},
   "outputs": [],
   "source": [
    "balance = exchange.fetch_balance()"
   ]
  },
  {
   "cell_type": "code",
   "execution_count": 24,
   "metadata": {},
   "outputs": [
    {
     "data": {
      "text/html": [
       "<div>\n",
       "<style scoped>\n",
       "    .dataframe tbody tr th:only-of-type {\n",
       "        vertical-align: middle;\n",
       "    }\n",
       "\n",
       "    .dataframe tbody tr th {\n",
       "        vertical-align: top;\n",
       "    }\n",
       "\n",
       "    .dataframe thead th {\n",
       "        text-align: right;\n",
       "    }\n",
       "</style>\n",
       "<table border=\"1\" class=\"dataframe\">\n",
       "  <thead>\n",
       "    <tr style=\"text-align: right;\">\n",
       "      <th></th>\n",
       "      <th>asset</th>\n",
       "      <th>free</th>\n",
       "      <th>locked</th>\n",
       "    </tr>\n",
       "  </thead>\n",
       "  <tbody>\n",
       "    <tr>\n",
       "      <th>0</th>\n",
       "      <td>BTC</td>\n",
       "      <td>0.00000000</td>\n",
       "      <td>0.00000000</td>\n",
       "    </tr>\n",
       "    <tr>\n",
       "      <th>1</th>\n",
       "      <td>LTC</td>\n",
       "      <td>0.00000000</td>\n",
       "      <td>0.00000000</td>\n",
       "    </tr>\n",
       "    <tr>\n",
       "      <th>2</th>\n",
       "      <td>ETH</td>\n",
       "      <td>0.00000221</td>\n",
       "      <td>0.32281000</td>\n",
       "    </tr>\n",
       "    <tr>\n",
       "      <th>3</th>\n",
       "      <td>NEO</td>\n",
       "      <td>0.00000000</td>\n",
       "      <td>0.00000000</td>\n",
       "    </tr>\n",
       "    <tr>\n",
       "      <th>4</th>\n",
       "      <td>BNB</td>\n",
       "      <td>0.00000000</td>\n",
       "      <td>0.00000000</td>\n",
       "    </tr>\n",
       "    <tr>\n",
       "      <th>...</th>\n",
       "      <td>...</td>\n",
       "      <td>...</td>\n",
       "      <td>...</td>\n",
       "    </tr>\n",
       "    <tr>\n",
       "      <th>407</th>\n",
       "      <td>1INCHUP</td>\n",
       "      <td>0.00000000</td>\n",
       "      <td>0.00000000</td>\n",
       "    </tr>\n",
       "    <tr>\n",
       "      <th>408</th>\n",
       "      <td>1INCHDOWN</td>\n",
       "      <td>0.00000000</td>\n",
       "      <td>0.00000000</td>\n",
       "    </tr>\n",
       "    <tr>\n",
       "      <th>409</th>\n",
       "      <td>MIR</td>\n",
       "      <td>0.00000000</td>\n",
       "      <td>0.00000000</td>\n",
       "    </tr>\n",
       "    <tr>\n",
       "      <th>410</th>\n",
       "      <td>BAR</td>\n",
       "      <td>0.00000000</td>\n",
       "      <td>0.00000000</td>\n",
       "    </tr>\n",
       "    <tr>\n",
       "      <th>411</th>\n",
       "      <td>FORTH</td>\n",
       "      <td>0.00000000</td>\n",
       "      <td>0.00000000</td>\n",
       "    </tr>\n",
       "  </tbody>\n",
       "</table>\n",
       "<p>412 rows × 3 columns</p>\n",
       "</div>"
      ],
      "text/plain": [
       "         asset        free      locked\n",
       "0          BTC  0.00000000  0.00000000\n",
       "1          LTC  0.00000000  0.00000000\n",
       "2          ETH  0.00000221  0.32281000\n",
       "3          NEO  0.00000000  0.00000000\n",
       "4          BNB  0.00000000  0.00000000\n",
       "..         ...         ...         ...\n",
       "407    1INCHUP  0.00000000  0.00000000\n",
       "408  1INCHDOWN  0.00000000  0.00000000\n",
       "409        MIR  0.00000000  0.00000000\n",
       "410        BAR  0.00000000  0.00000000\n",
       "411      FORTH  0.00000000  0.00000000\n",
       "\n",
       "[412 rows x 3 columns]"
      ]
     },
     "execution_count": 24,
     "metadata": {},
     "output_type": "execute_result"
    }
   ],
   "source": [
    "pd.DataFrame(balance['info']['balances'])"
   ]
  },
  {
   "cell_type": "code",
   "execution_count": 25,
   "metadata": {},
   "outputs": [
    {
     "data": {
      "text/plain": [
       "{'free': 2.21e-06, 'used': 0.32281, 'total': 0.32281221}"
      ]
     },
     "execution_count": 25,
     "metadata": {},
     "output_type": "execute_result"
    }
   ],
   "source": [
    "coin = symbol.split('/')[0]\n",
    "balance[coin]"
   ]
  }
 ],
 "metadata": {
  "kernelspec": {
   "display_name": "Python 3",
   "language": "python",
   "name": "python3"
  },
  "language_info": {
   "codemirror_mode": {
    "name": "ipython",
    "version": 3
   },
   "file_extension": ".py",
   "mimetype": "text/x-python",
   "name": "python",
   "nbconvert_exporter": "python",
   "pygments_lexer": "ipython3",
   "version": "3.7.6"
  }
 },
 "nbformat": 4,
 "nbformat_minor": 4
}
