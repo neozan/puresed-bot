{
 "cells": [
  {
   "cell_type": "code",
   "execution_count": 1,
   "metadata": {},
   "outputs": [],
   "source": [
    "import numpy as np\n",
    "import pandas as pd\n",
    "import datetime as dt\n",
    "from dateutil import tz\n",
    "import math\n",
    "import json\n",
    "import ccxt"
   ]
  },
  {
   "cell_type": "code",
   "execution_count": 2,
   "metadata": {},
   "outputs": [],
   "source": [
    "def convert_tz(utc):\n",
    "    from_zone = tz.tzutc()\n",
    "    to_zone = tz.tzlocal()\n",
    "    utc = utc.replace(tzinfo = from_zone).astimezone(to_zone)\n",
    "    \n",
    "    return utc"
   ]
  },
  {
   "cell_type": "code",
   "execution_count": 3,
   "metadata": {},
   "outputs": [],
   "source": [
    "def get_date_list(start_day):\n",
    "    num_day = (dt.date.today() - start_day).days\n",
    "    date_list = [dt.date.today() - dt.timedelta(days = x) for x in range(num_day, 0, -1)]\n",
    "    return date_list"
   ]
  },
  {
   "cell_type": "code",
   "execution_count": 4,
   "metadata": {},
   "outputs": [],
   "source": [
    "def get_ts_date(dt_date):\n",
    "    dt_datetime = dt.datetime(dt_date.year, dt_date.month, dt_date.day)\n",
    "    ts = dt_datetime.timestamp() * 1000\n",
    "    \n",
    "    return ts"
   ]
  },
  {
   "cell_type": "code",
   "execution_count": 5,
   "metadata": {},
   "outputs": [],
   "source": [
    "def get_ohlcv(symbol, date_list, timeframe, limit):\n",
    "    df = pd.DataFrame(columns = ['time', 'open', 'high', 'low', 'close', 'volume'])\n",
    "\n",
    "    for i in range(len(date_list)):\n",
    "        since = get_ts_date(date_list[i])\n",
    "        ohlcv = exchange.fetch_ohlcv(symbol, timeframe, since, limit)\n",
    "        df_temp = pd.DataFrame(ohlcv)\n",
    "        df_temp.columns = ['time', 'open', 'high', 'low', 'close', 'volume']\n",
    "        df_temp['time'] = pd.to_datetime(df_temp['time'], unit = 'ms')\n",
    "        df_temp['time'] = df_temp['time'].apply(lambda x: convert_tz(x))\n",
    "\n",
    "        df = pd.concat([df, df_temp])\n",
    "\n",
    "    df = df.reset_index(drop = True)\n",
    "\n",
    "    return df"
   ]
  },
  {
   "cell_type": "code",
   "execution_count": 6,
   "metadata": {},
   "outputs": [],
   "source": [
    "def get_timeframe(period):\n",
    "    timeframe_dict = {1440:'1d', 240:'4h', 60:'1h', 30:'30m', 15:'15m'}\n",
    "    \n",
    "    for i in timeframe_dict.keys():\n",
    "        if period % i == 0:\n",
    "            min_period = i\n",
    "            break\n",
    "            \n",
    "    min_timeframe = timeframe_dict[min_period]\n",
    "    step = int(period / min_period)\n",
    "            \n",
    "    return min_timeframe, step"
   ]
  },
  {
   "cell_type": "code",
   "execution_count": 7,
   "metadata": {},
   "outputs": [],
   "source": [
    "def group_timeframe(df, step):\n",
    "    h_dict = {'time':[], 'open':[], 'high':[], 'low':[], 'close':[]}\n",
    "    \n",
    "    mod = len(df) % step\n",
    "    if  mod != 0:\n",
    "        df = df.iloc[:-mod, :]\n",
    "        \n",
    "    for i in [x for x in range(0, len(df), step)]:\n",
    "        df_temp = df.iloc[i:i + step, :]\n",
    "        h_dict['time'].append(df_temp['time'][i])\n",
    "        h_dict['open'].append(df_temp['open'][i])\n",
    "        h_dict['high'].append(max(df_temp['high']))\n",
    "        h_dict['low'].append(min(df_temp['low']))\n",
    "        h_dict['close'].append(df_temp['close'][i + 1])\n",
    "\n",
    "    df = pd.DataFrame(h_dict)\n",
    "    \n",
    "    return df"
   ]
  },
  {
   "cell_type": "code",
   "execution_count": 8,
   "metadata": {},
   "outputs": [],
   "source": [
    "def get_signal(df, signal, interval):\n",
    "    func_dict = {'tma': signal_tma}\n",
    "    \n",
    "    df = func_dict[signal](df, interval)\n",
    "    \n",
    "    return df"
   ]
  },
  {
   "cell_type": "code",
   "execution_count": 9,
   "metadata": {},
   "outputs": [],
   "source": [
    "def signal_tma(df, interval):\n",
    "    df['ma'] = df['close'].rolling(window = math.trunc(interval)).mean()\n",
    "    df['signal'] = df['ma'].rolling(window = math.trunc(interval)).mean()\n",
    "    df = df.drop(columns = ['ma'])\n",
    "    df = df.dropna().reset_index(drop = True)\n",
    "    \n",
    "    return df"
   ]
  },
  {
   "cell_type": "code",
   "execution_count": 10,
   "metadata": {},
   "outputs": [],
   "source": [
    "def round_down_amount(amount, decimal):\n",
    "    floor_amount = np.floor((amount * (10 ** decimal))) / (10 ** decimal)\n",
    "    \n",
    "    return floor_amount"
   ]
  },
  {
   "cell_type": "markdown",
   "metadata": {},
   "source": [
    "### Config "
   ]
  },
  {
   "cell_type": "code",
   "execution_count": 11,
   "metadata": {},
   "outputs": [],
   "source": [
    "with open('../../../_keys/ftx/ftx_test_keys.json') as keys_file:\n",
    "    keys_dict = json.load(keys_file)"
   ]
  },
  {
   "cell_type": "code",
   "execution_count": 12,
   "metadata": {},
   "outputs": [],
   "source": [
    "exchange = ccxt.ftx({'apiKey': keys_dict['apiKey'],\n",
    "                     'secret': keys_dict['secret'],\n",
    "                     'enableRateLimit': True})"
   ]
  },
  {
   "cell_type": "code",
   "execution_count": 13,
   "metadata": {},
   "outputs": [],
   "source": [
    "base_currency = 'ETH'\n",
    "quote_currency = 'USD'\n",
    "decimal = 3"
   ]
  },
  {
   "cell_type": "code",
   "execution_count": 14,
   "metadata": {},
   "outputs": [],
   "source": [
    "file_path = 'data'"
   ]
  },
  {
   "cell_type": "code",
   "execution_count": 15,
   "metadata": {},
   "outputs": [],
   "source": [
    "signal = 'tma'\n",
    "period = 120\n",
    "interval = 50"
   ]
  },
  {
   "cell_type": "code",
   "execution_count": 16,
   "metadata": {},
   "outputs": [],
   "source": [
    "start_date = dt.date(2020, 1, 1)"
   ]
  },
  {
   "cell_type": "markdown",
   "metadata": {},
   "source": [
    "### Get timeframe "
   ]
  },
  {
   "cell_type": "code",
   "execution_count": 17,
   "metadata": {},
   "outputs": [],
   "source": [
    "min_timeframe, step = get_timeframe(period)"
   ]
  },
  {
   "cell_type": "code",
   "execution_count": 18,
   "metadata": {},
   "outputs": [],
   "source": [
    "limit = int(1440 / (period / step))"
   ]
  },
  {
   "cell_type": "markdown",
   "metadata": {},
   "source": [
    "### Get data"
   ]
  },
  {
   "cell_type": "code",
   "execution_count": 19,
   "metadata": {},
   "outputs": [],
   "source": [
    "symbol = '{}/{}'.format(base_currency, quote_currency)"
   ]
  },
  {
   "cell_type": "code",
   "execution_count": 20,
   "metadata": {},
   "outputs": [],
   "source": [
    "date_list = get_date_list(start_date)"
   ]
  },
  {
   "cell_type": "code",
   "execution_count": 21,
   "metadata": {},
   "outputs": [],
   "source": [
    "df_raw = get_ohlcv(symbol, date_list, min_timeframe, limit)"
   ]
  },
  {
   "cell_type": "code",
   "execution_count": 22,
   "metadata": {},
   "outputs": [
    {
     "data": {
      "text/html": [
       "<div>\n",
       "<style scoped>\n",
       "    .dataframe tbody tr th:only-of-type {\n",
       "        vertical-align: middle;\n",
       "    }\n",
       "\n",
       "    .dataframe tbody tr th {\n",
       "        vertical-align: top;\n",
       "    }\n",
       "\n",
       "    .dataframe thead th {\n",
       "        text-align: right;\n",
       "    }\n",
       "</style>\n",
       "<table border=\"1\" class=\"dataframe\">\n",
       "  <thead>\n",
       "    <tr style=\"text-align: right;\">\n",
       "      <th></th>\n",
       "      <th>time</th>\n",
       "      <th>open</th>\n",
       "      <th>high</th>\n",
       "      <th>low</th>\n",
       "      <th>close</th>\n",
       "      <th>volume</th>\n",
       "    </tr>\n",
       "  </thead>\n",
       "  <tbody>\n",
       "    <tr>\n",
       "      <th>0</th>\n",
       "      <td>2020-01-01 00:00:00+07:00</td>\n",
       "      <td>129.62</td>\n",
       "      <td>129.63</td>\n",
       "      <td>128.24</td>\n",
       "      <td>128.75</td>\n",
       "      <td>5.453050e+01</td>\n",
       "    </tr>\n",
       "    <tr>\n",
       "      <th>1</th>\n",
       "      <td>2020-01-01 01:00:00+07:00</td>\n",
       "      <td>128.76</td>\n",
       "      <td>129.41</td>\n",
       "      <td>128.46</td>\n",
       "      <td>128.84</td>\n",
       "      <td>0.000000e+00</td>\n",
       "    </tr>\n",
       "    <tr>\n",
       "      <th>2</th>\n",
       "      <td>2020-01-01 02:00:00+07:00</td>\n",
       "      <td>128.84</td>\n",
       "      <td>128.84</td>\n",
       "      <td>127.94</td>\n",
       "      <td>127.98</td>\n",
       "      <td>1.998859e+03</td>\n",
       "    </tr>\n",
       "    <tr>\n",
       "      <th>3</th>\n",
       "      <td>2020-01-01 03:00:00+07:00</td>\n",
       "      <td>127.95</td>\n",
       "      <td>128.37</td>\n",
       "      <td>127.70</td>\n",
       "      <td>127.84</td>\n",
       "      <td>9.212380e+02</td>\n",
       "    </tr>\n",
       "    <tr>\n",
       "      <th>4</th>\n",
       "      <td>2020-01-01 04:00:00+07:00</td>\n",
       "      <td>127.84</td>\n",
       "      <td>128.52</td>\n",
       "      <td>127.75</td>\n",
       "      <td>128.41</td>\n",
       "      <td>0.000000e+00</td>\n",
       "    </tr>\n",
       "    <tr>\n",
       "      <th>...</th>\n",
       "      <td>...</td>\n",
       "      <td>...</td>\n",
       "      <td>...</td>\n",
       "      <td>...</td>\n",
       "      <td>...</td>\n",
       "      <td>...</td>\n",
       "    </tr>\n",
       "    <tr>\n",
       "      <th>13387</th>\n",
       "      <td>2021-07-11 19:00:00+07:00</td>\n",
       "      <td>2129.40</td>\n",
       "      <td>2138.80</td>\n",
       "      <td>2120.50</td>\n",
       "      <td>2123.40</td>\n",
       "      <td>5.689400e+06</td>\n",
       "    </tr>\n",
       "    <tr>\n",
       "      <th>13388</th>\n",
       "      <td>2021-07-11 20:00:00+07:00</td>\n",
       "      <td>2123.40</td>\n",
       "      <td>2135.80</td>\n",
       "      <td>2113.10</td>\n",
       "      <td>2135.80</td>\n",
       "      <td>4.444128e+06</td>\n",
       "    </tr>\n",
       "    <tr>\n",
       "      <th>13389</th>\n",
       "      <td>2021-07-11 21:00:00+07:00</td>\n",
       "      <td>2135.80</td>\n",
       "      <td>2148.30</td>\n",
       "      <td>2127.30</td>\n",
       "      <td>2145.80</td>\n",
       "      <td>7.610563e+06</td>\n",
       "    </tr>\n",
       "    <tr>\n",
       "      <th>13390</th>\n",
       "      <td>2021-07-11 22:00:00+07:00</td>\n",
       "      <td>2145.80</td>\n",
       "      <td>2150.50</td>\n",
       "      <td>2134.50</td>\n",
       "      <td>2145.60</td>\n",
       "      <td>4.536010e+06</td>\n",
       "    </tr>\n",
       "    <tr>\n",
       "      <th>13391</th>\n",
       "      <td>2021-07-11 23:00:00+07:00</td>\n",
       "      <td>2145.60</td>\n",
       "      <td>2155.70</td>\n",
       "      <td>2128.70</td>\n",
       "      <td>2149.90</td>\n",
       "      <td>1.021385e+07</td>\n",
       "    </tr>\n",
       "  </tbody>\n",
       "</table>\n",
       "<p>13392 rows × 6 columns</p>\n",
       "</div>"
      ],
      "text/plain": [
       "                           time     open     high      low    close  \\\n",
       "0     2020-01-01 00:00:00+07:00   129.62   129.63   128.24   128.75   \n",
       "1     2020-01-01 01:00:00+07:00   128.76   129.41   128.46   128.84   \n",
       "2     2020-01-01 02:00:00+07:00   128.84   128.84   127.94   127.98   \n",
       "3     2020-01-01 03:00:00+07:00   127.95   128.37   127.70   127.84   \n",
       "4     2020-01-01 04:00:00+07:00   127.84   128.52   127.75   128.41   \n",
       "...                         ...      ...      ...      ...      ...   \n",
       "13387 2021-07-11 19:00:00+07:00  2129.40  2138.80  2120.50  2123.40   \n",
       "13388 2021-07-11 20:00:00+07:00  2123.40  2135.80  2113.10  2135.80   \n",
       "13389 2021-07-11 21:00:00+07:00  2135.80  2148.30  2127.30  2145.80   \n",
       "13390 2021-07-11 22:00:00+07:00  2145.80  2150.50  2134.50  2145.60   \n",
       "13391 2021-07-11 23:00:00+07:00  2145.60  2155.70  2128.70  2149.90   \n",
       "\n",
       "             volume  \n",
       "0      5.453050e+01  \n",
       "1      0.000000e+00  \n",
       "2      1.998859e+03  \n",
       "3      9.212380e+02  \n",
       "4      0.000000e+00  \n",
       "...             ...  \n",
       "13387  5.689400e+06  \n",
       "13388  4.444128e+06  \n",
       "13389  7.610563e+06  \n",
       "13390  4.536010e+06  \n",
       "13391  1.021385e+07  \n",
       "\n",
       "[13392 rows x 6 columns]"
      ]
     },
     "execution_count": 22,
     "metadata": {},
     "output_type": "execute_result"
    }
   ],
   "source": [
    "df_raw"
   ]
  },
  {
   "cell_type": "markdown",
   "metadata": {},
   "source": [
    "### Group timeframe"
   ]
  },
  {
   "cell_type": "code",
   "execution_count": 23,
   "metadata": {},
   "outputs": [],
   "source": [
    "df = group_timeframe(df_raw, step)"
   ]
  },
  {
   "cell_type": "code",
   "execution_count": 24,
   "metadata": {},
   "outputs": [
    {
     "data": {
      "text/html": [
       "<div>\n",
       "<style scoped>\n",
       "    .dataframe tbody tr th:only-of-type {\n",
       "        vertical-align: middle;\n",
       "    }\n",
       "\n",
       "    .dataframe tbody tr th {\n",
       "        vertical-align: top;\n",
       "    }\n",
       "\n",
       "    .dataframe thead th {\n",
       "        text-align: right;\n",
       "    }\n",
       "</style>\n",
       "<table border=\"1\" class=\"dataframe\">\n",
       "  <thead>\n",
       "    <tr style=\"text-align: right;\">\n",
       "      <th></th>\n",
       "      <th>time</th>\n",
       "      <th>open</th>\n",
       "      <th>high</th>\n",
       "      <th>low</th>\n",
       "      <th>close</th>\n",
       "    </tr>\n",
       "  </thead>\n",
       "  <tbody>\n",
       "    <tr>\n",
       "      <th>0</th>\n",
       "      <td>2020-01-01 00:00:00+07:00</td>\n",
       "      <td>129.62</td>\n",
       "      <td>129.63</td>\n",
       "      <td>128.24</td>\n",
       "      <td>128.84</td>\n",
       "    </tr>\n",
       "    <tr>\n",
       "      <th>1</th>\n",
       "      <td>2020-01-01 02:00:00+07:00</td>\n",
       "      <td>128.84</td>\n",
       "      <td>128.84</td>\n",
       "      <td>127.70</td>\n",
       "      <td>127.84</td>\n",
       "    </tr>\n",
       "    <tr>\n",
       "      <th>2</th>\n",
       "      <td>2020-01-01 04:00:00+07:00</td>\n",
       "      <td>127.84</td>\n",
       "      <td>128.76</td>\n",
       "      <td>127.75</td>\n",
       "      <td>128.50</td>\n",
       "    </tr>\n",
       "    <tr>\n",
       "      <th>3</th>\n",
       "      <td>2020-01-01 06:00:00+07:00</td>\n",
       "      <td>128.51</td>\n",
       "      <td>128.85</td>\n",
       "      <td>128.16</td>\n",
       "      <td>128.36</td>\n",
       "    </tr>\n",
       "    <tr>\n",
       "      <th>4</th>\n",
       "      <td>2020-01-01 08:00:00+07:00</td>\n",
       "      <td>128.36</td>\n",
       "      <td>130.47</td>\n",
       "      <td>128.29</td>\n",
       "      <td>130.37</td>\n",
       "    </tr>\n",
       "    <tr>\n",
       "      <th>...</th>\n",
       "      <td>...</td>\n",
       "      <td>...</td>\n",
       "      <td>...</td>\n",
       "      <td>...</td>\n",
       "      <td>...</td>\n",
       "    </tr>\n",
       "    <tr>\n",
       "      <th>6691</th>\n",
       "      <td>2021-07-11 14:00:00+07:00</td>\n",
       "      <td>2091.40</td>\n",
       "      <td>2120.00</td>\n",
       "      <td>2087.40</td>\n",
       "      <td>2111.80</td>\n",
       "    </tr>\n",
       "    <tr>\n",
       "      <th>6692</th>\n",
       "      <td>2021-07-11 16:00:00+07:00</td>\n",
       "      <td>2111.80</td>\n",
       "      <td>2134.60</td>\n",
       "      <td>2107.60</td>\n",
       "      <td>2120.60</td>\n",
       "    </tr>\n",
       "    <tr>\n",
       "      <th>6693</th>\n",
       "      <td>2021-07-11 18:00:00+07:00</td>\n",
       "      <td>2120.60</td>\n",
       "      <td>2138.80</td>\n",
       "      <td>2116.00</td>\n",
       "      <td>2123.40</td>\n",
       "    </tr>\n",
       "    <tr>\n",
       "      <th>6694</th>\n",
       "      <td>2021-07-11 20:00:00+07:00</td>\n",
       "      <td>2123.40</td>\n",
       "      <td>2148.30</td>\n",
       "      <td>2113.10</td>\n",
       "      <td>2145.80</td>\n",
       "    </tr>\n",
       "    <tr>\n",
       "      <th>6695</th>\n",
       "      <td>2021-07-11 22:00:00+07:00</td>\n",
       "      <td>2145.80</td>\n",
       "      <td>2155.70</td>\n",
       "      <td>2128.70</td>\n",
       "      <td>2149.90</td>\n",
       "    </tr>\n",
       "  </tbody>\n",
       "</table>\n",
       "<p>6696 rows × 5 columns</p>\n",
       "</div>"
      ],
      "text/plain": [
       "                          time     open     high      low    close\n",
       "0    2020-01-01 00:00:00+07:00   129.62   129.63   128.24   128.84\n",
       "1    2020-01-01 02:00:00+07:00   128.84   128.84   127.70   127.84\n",
       "2    2020-01-01 04:00:00+07:00   127.84   128.76   127.75   128.50\n",
       "3    2020-01-01 06:00:00+07:00   128.51   128.85   128.16   128.36\n",
       "4    2020-01-01 08:00:00+07:00   128.36   130.47   128.29   130.37\n",
       "...                        ...      ...      ...      ...      ...\n",
       "6691 2021-07-11 14:00:00+07:00  2091.40  2120.00  2087.40  2111.80\n",
       "6692 2021-07-11 16:00:00+07:00  2111.80  2134.60  2107.60  2120.60\n",
       "6693 2021-07-11 18:00:00+07:00  2120.60  2138.80  2116.00  2123.40\n",
       "6694 2021-07-11 20:00:00+07:00  2123.40  2148.30  2113.10  2145.80\n",
       "6695 2021-07-11 22:00:00+07:00  2145.80  2155.70  2128.70  2149.90\n",
       "\n",
       "[6696 rows x 5 columns]"
      ]
     },
     "execution_count": 24,
     "metadata": {},
     "output_type": "execute_result"
    }
   ],
   "source": [
    "df"
   ]
  },
  {
   "cell_type": "markdown",
   "metadata": {},
   "source": [
    "### Get signal"
   ]
  },
  {
   "cell_type": "code",
   "execution_count": 25,
   "metadata": {},
   "outputs": [],
   "source": [
    "df = get_signal(df, signal, interval)"
   ]
  },
  {
   "cell_type": "code",
   "execution_count": 26,
   "metadata": {},
   "outputs": [
    {
     "data": {
      "text/html": [
       "<div>\n",
       "<style scoped>\n",
       "    .dataframe tbody tr th:only-of-type {\n",
       "        vertical-align: middle;\n",
       "    }\n",
       "\n",
       "    .dataframe tbody tr th {\n",
       "        vertical-align: top;\n",
       "    }\n",
       "\n",
       "    .dataframe thead th {\n",
       "        text-align: right;\n",
       "    }\n",
       "</style>\n",
       "<table border=\"1\" class=\"dataframe\">\n",
       "  <thead>\n",
       "    <tr style=\"text-align: right;\">\n",
       "      <th></th>\n",
       "      <th>time</th>\n",
       "      <th>open</th>\n",
       "      <th>high</th>\n",
       "      <th>low</th>\n",
       "      <th>close</th>\n",
       "      <th>signal</th>\n",
       "    </tr>\n",
       "  </thead>\n",
       "  <tbody>\n",
       "    <tr>\n",
       "      <th>0</th>\n",
       "      <td>2020-01-09 04:00:00+07:00</td>\n",
       "      <td>139.05</td>\n",
       "      <td>140.45</td>\n",
       "      <td>138.58</td>\n",
       "      <td>140.37</td>\n",
       "      <td>135.020728</td>\n",
       "    </tr>\n",
       "    <tr>\n",
       "      <th>1</th>\n",
       "      <td>2020-01-09 06:00:00+07:00</td>\n",
       "      <td>140.37</td>\n",
       "      <td>141.32</td>\n",
       "      <td>139.62</td>\n",
       "      <td>139.93</td>\n",
       "      <td>135.213780</td>\n",
       "    </tr>\n",
       "    <tr>\n",
       "      <th>2</th>\n",
       "      <td>2020-01-09 08:00:00+07:00</td>\n",
       "      <td>139.93</td>\n",
       "      <td>141.46</td>\n",
       "      <td>139.76</td>\n",
       "      <td>140.36</td>\n",
       "      <td>135.407328</td>\n",
       "    </tr>\n",
       "    <tr>\n",
       "      <th>3</th>\n",
       "      <td>2020-01-09 10:00:00+07:00</td>\n",
       "      <td>140.36</td>\n",
       "      <td>140.36</td>\n",
       "      <td>139.53</td>\n",
       "      <td>140.03</td>\n",
       "      <td>135.600256</td>\n",
       "    </tr>\n",
       "    <tr>\n",
       "      <th>4</th>\n",
       "      <td>2020-01-09 12:00:00+07:00</td>\n",
       "      <td>140.03</td>\n",
       "      <td>140.03</td>\n",
       "      <td>138.84</td>\n",
       "      <td>139.55</td>\n",
       "      <td>135.792092</td>\n",
       "    </tr>\n",
       "    <tr>\n",
       "      <th>...</th>\n",
       "      <td>...</td>\n",
       "      <td>...</td>\n",
       "      <td>...</td>\n",
       "      <td>...</td>\n",
       "      <td>...</td>\n",
       "      <td>...</td>\n",
       "    </tr>\n",
       "    <tr>\n",
       "      <th>6593</th>\n",
       "      <td>2021-07-11 14:00:00+07:00</td>\n",
       "      <td>2091.40</td>\n",
       "      <td>2120.00</td>\n",
       "      <td>2087.40</td>\n",
       "      <td>2111.80</td>\n",
       "      <td>2256.954520</td>\n",
       "    </tr>\n",
       "    <tr>\n",
       "      <th>6594</th>\n",
       "      <td>2021-07-11 16:00:00+07:00</td>\n",
       "      <td>2111.80</td>\n",
       "      <td>2134.60</td>\n",
       "      <td>2107.60</td>\n",
       "      <td>2120.60</td>\n",
       "      <td>2254.967040</td>\n",
       "    </tr>\n",
       "    <tr>\n",
       "      <th>6595</th>\n",
       "      <td>2021-07-11 18:00:00+07:00</td>\n",
       "      <td>2120.60</td>\n",
       "      <td>2138.80</td>\n",
       "      <td>2116.00</td>\n",
       "      <td>2123.40</td>\n",
       "      <td>2252.777960</td>\n",
       "    </tr>\n",
       "    <tr>\n",
       "      <th>6596</th>\n",
       "      <td>2021-07-11 20:00:00+07:00</td>\n",
       "      <td>2123.40</td>\n",
       "      <td>2148.30</td>\n",
       "      <td>2113.10</td>\n",
       "      <td>2145.80</td>\n",
       "      <td>2250.405760</td>\n",
       "    </tr>\n",
       "    <tr>\n",
       "      <th>6597</th>\n",
       "      <td>2021-07-11 22:00:00+07:00</td>\n",
       "      <td>2145.80</td>\n",
       "      <td>2155.70</td>\n",
       "      <td>2128.70</td>\n",
       "      <td>2149.90</td>\n",
       "      <td>2247.864200</td>\n",
       "    </tr>\n",
       "  </tbody>\n",
       "</table>\n",
       "<p>6598 rows × 6 columns</p>\n",
       "</div>"
      ],
      "text/plain": [
       "                          time     open     high      low    close  \\\n",
       "0    2020-01-09 04:00:00+07:00   139.05   140.45   138.58   140.37   \n",
       "1    2020-01-09 06:00:00+07:00   140.37   141.32   139.62   139.93   \n",
       "2    2020-01-09 08:00:00+07:00   139.93   141.46   139.76   140.36   \n",
       "3    2020-01-09 10:00:00+07:00   140.36   140.36   139.53   140.03   \n",
       "4    2020-01-09 12:00:00+07:00   140.03   140.03   138.84   139.55   \n",
       "...                        ...      ...      ...      ...      ...   \n",
       "6593 2021-07-11 14:00:00+07:00  2091.40  2120.00  2087.40  2111.80   \n",
       "6594 2021-07-11 16:00:00+07:00  2111.80  2134.60  2107.60  2120.60   \n",
       "6595 2021-07-11 18:00:00+07:00  2120.60  2138.80  2116.00  2123.40   \n",
       "6596 2021-07-11 20:00:00+07:00  2123.40  2148.30  2113.10  2145.80   \n",
       "6597 2021-07-11 22:00:00+07:00  2145.80  2155.70  2128.70  2149.90   \n",
       "\n",
       "           signal  \n",
       "0      135.020728  \n",
       "1      135.213780  \n",
       "2      135.407328  \n",
       "3      135.600256  \n",
       "4      135.792092  \n",
       "...           ...  \n",
       "6593  2256.954520  \n",
       "6594  2254.967040  \n",
       "6595  2252.777960  \n",
       "6596  2250.405760  \n",
       "6597  2247.864200  \n",
       "\n",
       "[6598 rows x 6 columns]"
      ]
     },
     "execution_count": 26,
     "metadata": {},
     "output_type": "execute_result"
    }
   ],
   "source": [
    "df"
   ]
  },
  {
   "cell_type": "markdown",
   "metadata": {},
   "source": [
    "### Run simulation "
   ]
  },
  {
   "cell_type": "code",
   "execution_count": 27,
   "metadata": {},
   "outputs": [],
   "source": [
    "df_simu = df.copy()"
   ]
  },
  {
   "cell_type": "code",
   "execution_count": 28,
   "metadata": {},
   "outputs": [],
   "source": [
    "budget = 100\n",
    "last_action_price = 0\n",
    "last_action_amount = 0"
   ]
  },
  {
   "cell_type": "code",
   "execution_count": 29,
   "metadata": {},
   "outputs": [],
   "source": [
    "signal_dict = {'action':[], 'action_price':[], 'budget':[], 'profit':[], 'drawdown':[]}\n",
    "\n",
    "for i in range(len(df_simu)):\n",
    "    if df['close'][i] > df['signal'][i]:\n",
    "        action = 'buy'\n",
    "    elif df['close'][i] < df['signal'][i]:\n",
    "        action = 'sell'\n",
    "    else:\n",
    "        action = signal_dict['action'][-1]\n",
    "    \n",
    "    if i > 0:\n",
    "        if action != signal_dict['action'][-1]:\n",
    "            if last_action_price > 0:\n",
    "                if action == 'buy':\n",
    "                    profit = (last_action_price - df['close'][i]) * last_action_amount\n",
    "                elif action == 'sell':\n",
    "                    profit = (df['close'][i] - last_action_price) * last_action_amount\n",
    "\n",
    "            last_action_price = df['close'][i]\n",
    "            last_action_amount = round_down_amount(budget / last_action_price, decimal)\n",
    "            \n",
    "            budget += profit\n",
    "        else:\n",
    "            profit = 0\n",
    "    else:\n",
    "        profit = 0\n",
    "        \n",
    "    \n",
    "    if last_action_price > 0:\n",
    "        if action == 'buy':\n",
    "            drawdown = (df['low'][i] - last_action_price) / last_action_price\n",
    "        elif action == 'sell':\n",
    "            drawdown = (last_action_price - df['high'][i]) / last_action_price\n",
    "    else:\n",
    "        drawdown = 0\n",
    "        max_drawdown = 0\n",
    "        \n",
    "    signal_dict['action'].append(action)\n",
    "    signal_dict['action_price'].append(last_action_price)\n",
    "    signal_dict['budget'].append(budget)\n",
    "    signal_dict['profit'].append(profit)\n",
    "    signal_dict['drawdown'].append(drawdown)"
   ]
  },
  {
   "cell_type": "code",
   "execution_count": 30,
   "metadata": {},
   "outputs": [
    {
     "data": {
      "text/plain": [
       "479.2235000000002"
      ]
     },
     "execution_count": 30,
     "metadata": {},
     "output_type": "execute_result"
    }
   ],
   "source": [
    "budget"
   ]
  },
  {
   "cell_type": "code",
   "execution_count": 31,
   "metadata": {},
   "outputs": [],
   "source": [
    "for s in signal_dict.keys():\n",
    "    df_simu[s] = signal_dict[s]"
   ]
  },
  {
   "cell_type": "code",
   "execution_count": 32,
   "metadata": {},
   "outputs": [],
   "source": [
    "df_simu.to_csv('simulation.csv', index = False)"
   ]
  },
  {
   "cell_type": "markdown",
   "metadata": {},
   "source": [
    "### Viz "
   ]
  },
  {
   "cell_type": "code",
   "execution_count": 33,
   "metadata": {},
   "outputs": [],
   "source": [
    "import matplotlib.pyplot as plt"
   ]
  },
  {
   "cell_type": "code",
   "execution_count": 34,
   "metadata": {},
   "outputs": [
    {
     "data": {
      "text/plain": [
       "[<matplotlib.lines.Line2D at 0x23d7c4eeac0>]"
      ]
     },
     "execution_count": 34,
     "metadata": {},
     "output_type": "execute_result"
    },
    {
     "data": {
      "image/png": "[encoded data removed]",
      "text/plain": [
       "<Figure size 2160x576 with 1 Axes>"
      ]
     },
     "metadata": {
      "needs_background": "light"
     },
     "output_type": "display_data"
    }
   ],
   "source": [
    "fig, ax = plt.subplots(figsize=(30,8))\n",
    "ax.plot(df_simu['budget'])"
   ]
  },
  {
   "cell_type": "code",
   "execution_count": 35,
   "metadata": {},
   "outputs": [
    {
     "data": {
      "text/plain": [
       "(array([  1.,   0.,   0.,   0.,   0.,   0.,   1.,   0.,   0.,   0.,   0.,\n",
       "          0.,   1.,   0.,   0.,   0.,   0.,   0.,   0.,   0.,   0.,   1.,\n",
       "          0.,   0.,   0.,   0.,   0.,   1.,   1.,   0.,   0.,   0.,   0.,\n",
       "          2.,   1.,   0.,   0.,   0.,   0.,   0.,   2.,   2.,   2.,   0.,\n",
       "          1.,   3.,   2.,   5.,   3.,   1.,  10.,   5.,   7.,   5.,   3.,\n",
       "          5.,   5.,  10.,   4.,   6.,   9.,   8.,   9.,   9.,   7.,  12.,\n",
       "          7.,  16.,   9.,   6.,  15.,  11.,  15.,  27.,  21.,  25.,  18.,\n",
       "         24.,  19.,  25.,  38.,  37.,  42.,  45.,  54.,  67.,  66.,  60.,\n",
       "         63.,  87.,  97., 137., 102., 108.,  85.,  66.,  63.,  75.,  78.,\n",
       "         68.,  65.,  49.,  62.,  68.,  42.,  47.,  59.,  47.,  51.,  51.,\n",
       "         53.,  62.,  53.,  52.,  32.,  44.,  54.,  50.,  38.,  40.,  40.,\n",
       "         41.,  36.,  43.,  29.,  38.,  27.,  27.,  36.,  41.,  43.,  49.,\n",
       "         35.,  27.,  32.,  34.,  24.,  29.,  21.,  29.,  24.,  26.,  34.,\n",
       "         38.,  22.,  29.,  32.,  33.,  34.,  27.,  30.,  23.,  26.,  40.,\n",
       "         28.,  29.,  36.,  26.,  25.,  25.,  23.,  22.,  18.,  19.,  14.,\n",
       "         19.,  33.,  21.,  16.,  14.,  13.,  10.,  18.,  16.,  18.,  16.,\n",
       "         11.,  14.,  16.,  13.,  16.,  22.,  16.,  12.,  16.,  19.,  14.,\n",
       "         13.,  11.,  12.,  18.,  20.,  17.,  18.,  14.,  11.,  15.,  18.,\n",
       "         21.,  20.,  15.,  14.,  17.,  19.,  15.,  22.,  21.,  21.,  20.,\n",
       "         16.,  13.,   8.,  16.,  21.,  10.,  17.,  13.,  11.,  14.,  12.,\n",
       "          7.,  12.,  11.,  15.,  15.,  13.,  17.,  12.,  12.,   9.,  11.,\n",
       "         12.,  20.,  11.,  17.,  14.,  19.,  11.,  14.,  16.,  10.,  16.,\n",
       "          7.,   8.,  11.,   9.,  10.,  19.,   8.,   8.,  15.,   8.,   6.,\n",
       "         10.,  11.,   5.,   7.,  10.,   7.,  11.,   3.,   5.,  11.,   8.,\n",
       "         11.,   4.,   7.,  13.,   5.,   7.,   8.,   7.,   4.,   9.,   4.,\n",
       "          6.,   5.,   6.,   5.,   3.,   4.,   8.,   3.,   3.,  11.,   3.,\n",
       "          9.,   5.,   7.,   8.,   2.,   7.,   6.,   7.,   7.,   4.,   5.,\n",
       "         10.,   2.,   3.,   4.,   6.,   3.,   4.,   4.,   4.,   4.,   4.,\n",
       "          3.,   1.,  11.,   3.,   7.,   2.,   6.,   4.,   5.,   4.,   4.,\n",
       "          5.,   5.,   5.,   3.,   1.,   6.,   3.,   5.,   9.,   3.,   2.,\n",
       "          4.,   1.,   4.,   0.,   3.,   0.,   1.,   3.,   2.,   4.,   3.,\n",
       "         10.,   2.,   3.,   3.,   2.,   2.,   1.,   4.,   4.,   6.,   7.,\n",
       "          2.,   1.,   3.,   7.,   4.,   3.,   6.,   5.,   4.,   2.,   6.,\n",
       "          7.,   3.,   6.,   1.,   7.,   3.,   2.,   3.,   0.,   6.,   7.,\n",
       "          5.,   2.,   5.,   2.,   1.,   4.,   4.,   3.,   2.,   2.,   5.,\n",
       "          5.,   0.,   3.,   0.,   2.,   3.,   6.,   5.,   2.,   3.,   0.,\n",
       "          2.,   0.,   1.,   3.,   1.,   0.,   1.,   2.,   3.,   2.,   0.,\n",
       "          1.,   2.,   1.,   2.,   1.,   0.,   3.,   1.,   0.,   3.,   0.,\n",
       "          3.,   1.,   2.,   1.,   3.,   4.,   3.,   3.,   1.,   2.,   0.,\n",
       "          3.,   1.,   5.,   2.,   0.,   2.,   1.,   2.,   3.,   2.,   1.,\n",
       "          5.,   4.,   0.,   1.,   1.,   3.,   1.,   1.,   4.,   6.,   2.,\n",
       "          2.,   1.,   1.,   1.,   3.,   3.,   1.,   3.,   1.,   4.,   2.,\n",
       "          3.,   0.,   2.,   0.,   3.,   2.,   1.,   1.,   2.,   0.,   1.,\n",
       "          2.,   2.,   1.,   2.,   1.,   2.,   0.,   3.,   2.,   3.,   4.,\n",
       "          1.,   2.,   1.,   1.,   1.,   3.,   5.,   0.,   0.,   3.,   2.,\n",
       "          2.,   2.,   0.,   1.,   0.,   0.,   2.,   1.,   1.,   0.,   1.,\n",
       "          0.,   1.,   0.,   1.,   1.,   0.,   0.,   0.,   0.,   1.,   0.,\n",
       "          0.,   0.,   2.,   0.,   0.,   0.,   0.,   2.,   0.,   0.,   1.,\n",
       "          0.,   0.,   0.,   1.,   1.,   1.,   2.,   0.,   1.,   0.,   1.,\n",
       "          1.,   0.,   1.,   0.,   1.,   0.,   0.,   1.,   1.,   1.,   2.,\n",
       "          1.,   3.,   0.,   1.,   0.,   1.,   1.,   1.,   0.,   0.,   1.,\n",
       "          0.,   3.,   3.,   2.,   1.,   1.,   3.,   3.,   0.,   1.,   1.,\n",
       "          4.,   3.,   1.,   1.,   4.,   2.,   0.,   1.,   4.,   5.,   2.,\n",
       "          1.,   5.,   2.,   3.,   0.,   1.,   1.,   2.,   2.,   1.,   2.,\n",
       "          3.,   1.,   1.,   3.,   4.,   0.,   2.,   1.,   3.,   3.,   1.,\n",
       "          0.,   1.,   2.,   1.,   2.,   0.,   2.,   3.,   3.,   1.,   1.,\n",
       "          0.,   1.,   2.,   2.,   2.,   0.,   3.,   1.,   0.,   4.,   0.,\n",
       "          2.,   1.,   2.,   2.,   5.,   1.,   0.,   0.,   1.,   1.,   2.,\n",
       "          0.,   1.,   3.,   0.,   0.,   2.,   1.,   0.,   0.,   0.,   1.,\n",
       "          2.,   0.,   1.,   0.,   2.,   0.,   0.,   0.,   3.,   0.,   1.,\n",
       "          1.,   1.,   0.,   2.,   0.,   0.,   1.,   1.,   1.,   1.,   0.,\n",
       "          0.,   0.,   0.,   0.,   0.,   1.,   0.,   0.,   0.,   0.,   0.,\n",
       "          0.,   1.,   0.,   0.,   0.,   0.,   0.,   0.,   0.,   0.,   0.,\n",
       "          0.,   0.,   0.,   0.,   1.,   0.,   0.,   0.,   1.,   0.,   1.,\n",
       "          2.,   1.,   0.,   0.,   0.,   0.,   1.,   1.,   0.,   0.,   0.,\n",
       "          0.,   0.,   0.,   0.,   0.,   2.,   0.,   0.,   0.,   0.,   0.,\n",
       "          0.,   0.,   0.,   0.,   0.,   1.,   0.,   0.,   0.,   1.,   0.,\n",
       "          0.,   0.,   0.,   0.,   0.,   0.,   1.,   0.,   1.,   0.,   0.,\n",
       "          0.,   0.,   0.,   0.,   0.,   0.,   0.,   1.,   1.,   0.,   0.,\n",
       "          0.,   0.,   0.,   1.,   0.,   0.,   0.,   0.,   1.,   0.,   0.,\n",
       "          0.,   0.,   0.,   0.,   0.,   0.,   0.,   0.,   0.,   0.,   0.,\n",
       "          0.,   0.,   0.,   0.,   0.,   0.,   0.,   0.,   0.,   1.,   0.,\n",
       "          1.,   0.,   0.,   0.,   0.,   0.,   0.,   0.,   1.,   2.,   1.,\n",
       "          0.,   1.,   1.,   0.,   2.,   0.,   0.,   1.,   0.,   0.,   1.,\n",
       "          1.,   0.,   0.,   0.,   0.,   2.,   2.,   1.,   0.,   0.,   0.,\n",
       "          1.,   1.,   0.,   0.,   0.,   0.,   0.,   1.,   0.,   0.,   0.,\n",
       "          0.,   0.,   2.,   0.,   0.,   0.,   0.,   0.,   0.,   0.,   1.,\n",
       "          0.,   0.,   1.,   0.,   1.,   0.,   0.,   0.,   0.,   0.,   0.,\n",
       "          2.,   0.,   0.,   0.,   0.,   0.,   0.,   1.,   0.,   0.,   0.,\n",
       "          2.,   0.,   1.,   0.,   0.,   0.,   0.,   0.,   1.,   0.,   0.,\n",
       "          0.,   0.,   0.,   0.,   0.,   0.,   1.,   0.,   0.,   0.,   1.,\n",
       "          0.,   0.,   0.,   0.,   0.,   0.,   0.,   0.,   0.,   0.,   0.,\n",
       "          0.,   1.,   0.,   0.,   0.,   0.,   0.,   0.,   0.,   1.,   0.,\n",
       "          0.,   0.,   0.,   1.,   0.,   0.,   0.,   0.,   0.,   0.,   1.,\n",
       "          0.,   0.,   0.,   0.,   0.,   0.,   0.,   0.,   0.,   0.,   0.,\n",
       "          1.,   0.,   0.,   0.,   0.,   0.,   0.,   0.,   1.,   0.,   0.,\n",
       "          0.,   0.,   0.,   0.,   0.,   0.,   0.,   0.,   0.,   0.,   0.,\n",
       "          0.,   1.,   0.,   0.,   0.,   0.,   0.,   0.,   0.,   0.,   1.,\n",
       "          0.,   0.,   0.,   0.,   0.,   0.,   0.,   0.,   0.,   0.,   0.,\n",
       "          0.,   0.,   0.,   0.,   1.,   0.,   1.,   0.,   0.,   0.,   0.,\n",
       "          0.,   0.,   0.,   0.,   0.,   0.,   0.,   0.,   0.,   1.]),\n",
       " array([-0.11548318, -0.11425076, -0.11301834, ...,  1.11446968,\n",
       "         1.1157021 ,  1.11693451]),\n",
       " <BarContainer object of 1000 artists>)"
      ]
     },
     "execution_count": 35,
     "metadata": {},
     "output_type": "execute_result"
    },
    {
     "data": {
      "image/png": "[encoded data removed]",
      "text/plain": [
       "<Figure size 2160x576 with 1 Axes>"
      ]
     },
     "metadata": {
      "needs_background": "light"
     },
     "output_type": "display_data"
    }
   ],
   "source": [
    "fig, ax = plt.subplots(figsize=(30,8))\n",
    "ax.hist(df_simu['drawdown'], bins=1000)"
   ]
  },
  {
   "cell_type": "code",
   "execution_count": 36,
   "metadata": {},
   "outputs": [
    {
     "data": {
      "text/plain": [
       "count    6598.000000\n",
       "mean        0.105667\n",
       "std         0.161103\n",
       "min        -0.115483\n",
       "25%         0.005008\n",
       "50%         0.047469\n",
       "75%         0.143012\n",
       "max         1.116935\n",
       "Name: drawdown, dtype: float64"
      ]
     },
     "execution_count": 36,
     "metadata": {},
     "output_type": "execute_result"
    }
   ],
   "source": [
    "df_simu['drawdown'].describe()"
   ]
  }
 ],
 "metadata": {
  "kernelspec": {
   "display_name": "Python 3",
   "language": "python",
   "name": "python3"
  },
  "language_info": {
   "codemirror_mode": {
    "name": "ipython",
    "version": 3
   },
   "file_extension": ".py",
   "mimetype": "text/x-python",
   "name": "python",
   "nbconvert_exporter": "python",
   "pygments_lexer": "ipython3",
   "version": "3.8.8"
  }
 },
 "nbformat": 4,
 "nbformat_minor": 4
}
